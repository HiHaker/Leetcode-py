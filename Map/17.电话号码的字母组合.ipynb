{
 "cells": [
  {
   "cell_type": "markdown",
   "metadata": {
    "collapsed": true,
    "pycharm": {
     "name": "#%% md\n"
    }
   },
   "source": [
    "给定一个仅包含数字 2-9 的字符串，返回所有它能表示的字母组合。答案可以按 任意顺序 返回。\n",
    "\n",
    "给出数字到字母的映射如下（与电话按键相同）。注意 1 不对应任何字母。\n",
    "\n",
    "来源：力扣（LeetCode）\n",
    "链接：https://leetcode-cn.com/problems/letter-combinations-of-a-phone-number"
   ]
  },
  {
   "cell_type": "markdown",
   "source": [
    "算法思路：\n",
    "\n",
    "1 首先构造数字与字母的映射.\n",
    "\n",
    "2 递归地计算数字串的对应字母的组合：\n",
    "递归函数：输入-数字子串 输出-对应子串的字母的组合\n",
    "递归出口：子串长度为<=1\n",
    "递归体：递归地获得当前子串的除首数字的子串的字母组合，将当前子串首数字对应的每一个字母分别与字母组合相组合，存放入集合中（防止重复）"
   ],
   "metadata": {
    "collapsed": false,
    "pycharm": {
     "name": "#%% md\n"
    }
   }
  },
  {
   "cell_type": "code",
   "execution_count": null,
   "outputs": [],
   "source": [
    "class Solution(object):\n",
    "    def __init__(self):\n",
    "        self.n2l = {2:'abc', 3:'def', 4:'ghi', 5:'jkl', 6:'mno', 7:'pqrs', 8:'tuv', 9:'wxyz'}\n",
    "        # 创建一个集合\n",
    "        self.cb = set([])\n",
    "        \n",
    "    def substr_cb(self, substr):\n",
    "        # 如果子串长度为0\n",
    "        if len(substr) == 0:\n",
    "            self.cb.add('')\n",
    "            return\n",
    "        # 取出首数字\n",
    "        n = substr[0]\n",
    "        letters = self.n2l[int(n)]\n",
    "        # 剩下数字子串\n",
    "        substr = substr[1:]\n",
    "        # 子串组合\n",
    "        self.substr_cb(substr)\n",
    "        # 遍历集合\n",
    "        # 对于集合中每一个元素，与letters组合\n",
    "        new_cb = set([])\n",
    "        for item in self.cb:\n",
    "            for l in letters:\n",
    "                new_cb.add(l+item)\n",
    "        # 更新集合\n",
    "        self.cb = new_cb\n",
    "        return\n",
    "    \n",
    "    def letterCombinations(self, digits):\n",
    "        \"\"\"\n",
    "        :type digits: str\n",
    "        :rtype: List[str]\n",
    "        \"\"\"\n",
    "        # 计算组合\n",
    "        self.substr_cb(digits)\n",
    "        if '' in self.cb:\n",
    "            return []\n",
    "        return [x for x in self.cb]\n"
   ],
   "metadata": {
    "collapsed": false,
    "pycharm": {
     "name": "#%%\n"
    }
   }
  }
 ],
 "metadata": {
  "kernelspec": {
   "display_name": "Python 3",
   "language": "python",
   "name": "python3"
  },
  "language_info": {
   "codemirror_mode": {
    "name": "ipython",
    "version": 2
   },
   "file_extension": ".py",
   "mimetype": "text/x-python",
   "name": "python",
   "nbconvert_exporter": "python",
   "pygments_lexer": "ipython2",
   "version": "2.7.6"
  },
  "pycharm": {
   "stem_cell": {
    "cell_type": "raw",
    "source": [],
    "metadata": {
     "collapsed": false
    }
   }
  }
 },
 "nbformat": 4,
 "nbformat_minor": 0
}