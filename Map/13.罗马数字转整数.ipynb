{
 "cells": [
  {
   "cell_type": "markdown",
   "metadata": {
    "collapsed": true,
    "pycharm": {
     "name": "#%% md\n"
    }
   },
   "source": [
    "罗马数字包含以下七种字符:I，V，X，L，C，D和M。\n",
    "\n",
    "字符          数值\n",
    "I             1\n",
    "V             5\n",
    "X             10\n",
    "L             50\n",
    "C             100\n",
    "D             500\n",
    "M             1000\n",
    "例如， 罗马数字 2 写做II，即为两个并列的 1 。12 写做XII，即为X+II。 27 写做XXVII, 即为XX+V+II。\n",
    "\n",
    "通常情况下，罗马数字中小的数字在大的数字的右边。但也存在特例，例如 4 不写做IIII，而是IV。数字 1 在数字 5 的左边，所表示的数等于大数 5 减小数 1 得到的数值 4 。同样地，数字 9 表示为IX。这个特殊的规则只适用于以下六种情况：\n",
    "\n",
    "I可以放在V(5) 和X(10) 的左边，来表示 4 和 9。\n",
    "X可以放在L(50) 和C(100) 的左边，来表示 40 和90。\n",
    "C可以放在D(500) 和M(1000) 的左边，来表示400 和900。\n",
    "给定一个罗马数字，将其转换成整数。\n",
    "\n",
    "来源：力扣（LeetCode）\n",
    "链接：https://leetcode-cn.com/problems/roman-to-integer"
   ]
  },
  {
   "cell_type": "markdown",
   "source": [
    "算法思路就是，对于给定的罗马数字串，挨个字符地遍历，对应数值相加；如果遇到特殊的数字，检查是否存在特殊规则。"
   ],
   "metadata": {
    "collapsed": false,
    "pycharm": {
     "name": "#%% md\n"
    }
   }
  },
  {
   "cell_type": "code",
   "execution_count": null,
   "outputs": [],
   "source": [
    "class Solution(object):\n",
    "    def romanToInt(self, s):\n",
    "        \"\"\"\n",
    "        :type s: str\n",
    "        :rtype: int\n",
    "        \"\"\"\n",
    "        # 按照给定规则创建一个映射\n",
    "        r2i_map = {'I': 1, 'V': 5, 'X': 10, 'L':50, 'C':100, 'D':500,\n",
    "                   'M':1000, 'IV': 4, 'IX': 9, 'XL': 40, 'XC':90, 'CD': 400, 'CM':900}\n",
    "\n",
    "        result = 0\n",
    "\n",
    "        # 遍历字符串\n",
    "        idx = 0\n",
    "        while idx < len(s):\n",
    "            # 取出当前罗马字符\n",
    "            c = s[idx]\n",
    "            roman = c\n",
    "            # 查找特殊规则\n",
    "            if c == 'I' or c == 'X' or c == 'C':\n",
    "                # 查看后续是否还有字符\n",
    "                if idx+1 < len(s):\n",
    "                    # 如果是特殊规则\n",
    "                    if c+s[idx+1] in r2i_map:\n",
    "                        roman = c+s[idx+1]\n",
    "                        idx += 1\n",
    "            # 加上结果\n",
    "            result += r2i_map[roman]\n",
    "            idx += 1\n",
    "\n",
    "        return result"
   ],
   "metadata": {
    "collapsed": false,
    "pycharm": {
     "name": "#%%\n"
    }
   }
  },
  {
   "cell_type": "code",
   "execution_count": 2,
   "outputs": [
    {
     "name": "stdout",
     "output_type": "stream",
     "text": [
      "yes\n",
      "0 h\n",
      "1 e\n",
      "2 l\n",
      "3 l\n",
      "4 o\n"
     ]
    }
   ],
   "source": [
    "s = 'hello'\n",
    "for idx, c in enumerate(s):\n",
    "    if c == 'h':\n",
    "        print('yes')\n",
    "    print(idx, c)"
   ],
   "metadata": {
    "collapsed": false,
    "pycharm": {
     "name": "#%%\n"
    }
   }
  },
  {
   "cell_type": "code",
   "execution_count": null,
   "outputs": [],
   "source": [
    "\n",
    "\n",
    "\n",
    "\n",
    "\n",
    "\n",
    "\n",
    "\n",
    "\n",
    "\n",
    "\n",
    "\n",
    "\n",
    "\n",
    "\n",
    "\n",
    "\n",
    "\n",
    "\n",
    "\n"
   ],
   "metadata": {
    "collapsed": false,
    "pycharm": {
     "name": "#%%\n"
    }
   }
  }
 ],
 "metadata": {
  "kernelspec": {
   "display_name": "Python 3",
   "language": "python",
   "name": "python3"
  },
  "language_info": {
   "codemirror_mode": {
    "name": "ipython",
    "version": 2
   },
   "file_extension": ".py",
   "mimetype": "text/x-python",
   "name": "python",
   "nbconvert_exporter": "python",
   "pygments_lexer": "ipython2",
   "version": "2.7.6"
  }
 },
 "nbformat": 4,
 "nbformat_minor": 0
}