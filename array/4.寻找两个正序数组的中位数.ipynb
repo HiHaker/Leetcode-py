{
 "cells": [
  {
   "cell_type": "markdown",
   "metadata": {
    "collapsed": true,
    "pycharm": {
     "name": "#%% md\n"
    }
   },
   "source": [
    "给定两个大小分别为 m 和 n 的正序（从小到大）数组 nums1 和 nums2。请你找出并返回这两个正序数组的 中位数 。\n",
    "\n",
    "算法的时间复杂度应该为 O(log (m+n)) 。\n",
    "\n",
    "来源：力扣（LeetCode）\n",
    "链接：https://leetcode-cn.com/problems/median-of-two-sorted-arrays"
   ]
  },
  {
   "cell_type": "code",
   "execution_count": 29,
   "outputs": [],
   "source": [
    "class Solution(object):\n",
    "    def findMedianSortedArrays(self, nums1, nums2):\n",
    "        \"\"\"\n",
    "        :type nums1: List[int]\n",
    "        :type nums2: List[int]\n",
    "        :rtype: float\n",
    "        \"\"\"\n",
    "        i=0\n",
    "        j=0\n",
    "        merge = []\n",
    "        while i < len(nums1) and j < len(nums2):\n",
    "            if nums1[i] <= nums2[j]:\n",
    "                merge.append(nums1[i])\n",
    "                i += 1\n",
    "                continue\n",
    "            else:\n",
    "                merge.append(nums2[j])\n",
    "                j += 1\n",
    "                continue\n",
    "        if i >= len(nums1):\n",
    "            # 1已经加完，加2\n",
    "            merge.extend(nums2[j::])\n",
    "        else:\n",
    "            merge.extend(nums1[i::])\n",
    "\n",
    "        # 计算中位数\n",
    "        l = len(merge)\n",
    "        if l % 2 == 0:\n",
    "            # 偶数\n",
    "            return (merge[int(l/2)-1]+merge[int(l/2)])/2\n",
    "        else:\n",
    "            # 奇数\n",
    "            return merge[int(l/2)]"
   ],
   "metadata": {
    "collapsed": false,
    "pycharm": {
     "name": "#%%\n"
    }
   }
  },
  {
   "cell_type": "code",
   "execution_count": 31,
   "outputs": [
    {
     "data": {
      "text/plain": "2.5"
     },
     "execution_count": 31,
     "metadata": {},
     "output_type": "execute_result"
    }
   ],
   "source": [
    "s = Solution()\n",
    "l1 = [1,2]\n",
    "l2 = [3,4]\n",
    "s.findMedianSortedArrays(l1,l2)\n"
   ],
   "metadata": {
    "collapsed": false,
    "pycharm": {
     "name": "#%%\n"
    }
   }
  }
 ],
 "metadata": {
  "kernelspec": {
   "display_name": "Python 3",
   "language": "python",
   "name": "python3"
  },
  "language_info": {
   "codemirror_mode": {
    "name": "ipython",
    "version": 2
   },
   "file_extension": ".py",
   "mimetype": "text/x-python",
   "name": "python",
   "nbconvert_exporter": "python",
   "pygments_lexer": "ipython2",
   "version": "2.7.6"
  }
 },
 "nbformat": 4,
 "nbformat_minor": 0
}