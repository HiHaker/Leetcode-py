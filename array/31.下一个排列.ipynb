{
 "cells": [
  {
   "cell_type": "markdown",
   "metadata": {
    "collapsed": true,
    "pycharm": {
     "name": "#%% md\n"
    }
   },
   "source": [
    "实现获取 下一个排列 的函数，算法需要将给定数字序列重新排列成字典序中下一个更大的排列（即，组合出下一个更大的整数）。\n",
    "\n",
    "如果不存在下一个更大的排列，则将数字重新排列成最小的排列（即升序排列）。\n",
    "\n",
    "必须 原地 修改，只允许使用额外常数空间。\n",
    "\n",
    "来源：力扣（LeetCode）\n",
    "链接：https://leetcode-cn.com/problems/next-permutation"
   ]
  },
  {
   "cell_type": "markdown",
   "source": [
    "算法思路：因为我们要寻找下一个更大的排列（也就是要交换数字），所以应该从给定数的右边开始搜索，这样才最有可能是下一个更大的。\n",
    "\n",
    "1、从给定数的右边向左边搜索，找到第一个相邻的升序序数对（i,j），也就是i<j（此时j右边的数都是降序排列）。如果找不到，说明整个数是从左到右降序排列的，比如54321这样，\n",
    "这时候就根据题意反转这个列表，变为升序排列。\n",
    "\n",
    "2、第一步找到（i,j）后，后向前找，找到第一个大于i的数字k，交换i和k，注意这里交换了之后从j开始往右的数也仍然是降序排列的（可以根据i和前后的数的大小关系推出）\n",
    "换了之后，把j到末尾的序列反转为升序排列。\n"
   ],
   "metadata": {
    "collapsed": false,
    "pycharm": {
     "name": "#%% md\n"
    }
   }
  },
  {
   "cell_type": "code",
   "execution_count": 38,
   "outputs": [],
   "source": [
    "class Solution(object):\n",
    "    def nextPermutation(self, nums):\n",
    "        \"\"\"\n",
    "        :type nums: List[int]\n",
    "        :rtype: None Do not return anything, modify nums in-place instead.\n",
    "        \"\"\"\n",
    "        # 从最右开始搜索\n",
    "        idj = len(nums)-1\n",
    "        idi = idj-1\n",
    "        while idi >= 0:\n",
    "            i = nums[idi]\n",
    "            j = nums[idj]\n",
    "            # 找到第一个升序\n",
    "            if i < j:\n",
    "                # 查找右边第一个大于i的\n",
    "                for idk in range(len(nums)-1, idj-1, -1):\n",
    "                    if nums[idk] > nums[idi]:\n",
    "                        # 交换\n",
    "                        nums[idi], nums[idk] = nums[idk], nums[idi]\n",
    "                        break\n",
    "                # 逆转从j后的序列\n",
    "                nums[idj::1] = nums[-1:idj-1:-1]\n",
    "                return nums\n",
    "            # 向左移动\n",
    "            idi -= 1\n",
    "            idj -= 1\n",
    "        # 逆转\n",
    "        nums[::] = nums[-1::-1]\n",
    "        return nums"
   ],
   "metadata": {
    "collapsed": false,
    "pycharm": {
     "name": "#%%\n"
    }
   }
  },
  {
   "cell_type": "code",
   "execution_count": 18,
   "outputs": [
    {
     "name": "stdout",
     "output_type": "stream",
     "text": [
      "[4, 3, 2, 1]\n",
      "[1, 2, 3, 4]\n",
      "[1, 2, 3, 1, 2, 3, 4]\n"
     ]
    }
   ],
   "source": [
    "# l = [1,2,3,4,3,2,1]\n",
    "# print(l[3::1])\n",
    "# print(l[-1:2:-1])\n",
    "# l[3::1] = l[-1:2:-1]\n",
    "# print(l)"
   ],
   "metadata": {
    "collapsed": false,
    "pycharm": {
     "name": "#%%\n"
    }
   }
  },
  {
   "cell_type": "code",
   "execution_count": 39,
   "outputs": [
    {
     "name": "stdout",
     "output_type": "stream",
     "text": [
      "3\n"
     ]
    },
    {
     "data": {
      "text/plain": "[2, 1, 3]"
     },
     "execution_count": 39,
     "metadata": {},
     "output_type": "execute_result"
    }
   ],
   "source": [
    "s = Solution()\n",
    "l = [1,3,2]\n",
    "s.nextPermutation(l)\n"
   ],
   "metadata": {
    "collapsed": false,
    "pycharm": {
     "name": "#%%\n"
    }
   }
  }
 ],
 "metadata": {
  "kernelspec": {
   "display_name": "Python 3",
   "language": "python",
   "name": "python3"
  },
  "language_info": {
   "codemirror_mode": {
    "name": "ipython",
    "version": 2
   },
   "file_extension": ".py",
   "mimetype": "text/x-python",
   "name": "python",
   "nbconvert_exporter": "python",
   "pygments_lexer": "ipython2",
   "version": "2.7.6"
  }
 },
 "nbformat": 4,
 "nbformat_minor": 0
}