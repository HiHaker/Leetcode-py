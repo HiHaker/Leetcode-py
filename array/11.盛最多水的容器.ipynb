{
 "cells": [
  {
   "cell_type": "markdown",
   "metadata": {
    "collapsed": true,
    "pycharm": {
     "name": "#%% md\n"
    }
   },
   "source": [
    "给你 n 个非负整数 a1，a2，...，an，每个数代表坐标中的一个点 (i, ai) 。在坐标内画 n 条垂直线，垂直线 i 的两个端点分别为 (i, ai) 和 (i, 0) 。找出其中的两条线，使得它们与 x 轴共同构成的容器可以容纳最多的水。\n",
    "\n",
    "说明：你不能倾斜容器。\n",
    "\n",
    "来源：力扣（LeetCode）\n",
    "链接：https://leetcode-cn.com/problems/container-with-most-water"
   ]
  },
  {
   "cell_type": "markdown",
   "source": [
    "使用双指针法，思路就是从左右两端开始（我一开始也想到这个点，双指针，但后面思路有问题），两端的长度有高有矮，我们\n",
    "每次移动矮柱子（因为只有移动矮柱子面积才有可能变大，移动高柱子面积是一定变小的，因为宽度减小了，而移动后新的矮柱子可能不变或更矮）\n",
    "当两个指针相遇的时候搜索完成\n"
   ],
   "metadata": {
    "collapsed": false,
    "pycharm": {
     "name": "#%% md\n"
    }
   }
  },
  {
   "cell_type": "code",
   "execution_count": 15,
   "outputs": [],
   "source": [
    "class Solution(object):\n",
    "    def calarea(self, l, r, li, ri):\n",
    "        return min(l,r)*(ri-li)\n",
    "    def maxArea(self, height):\n",
    "        \"\"\"\n",
    "        :type height: List[int]\n",
    "        :rtype: int\n",
    "        \"\"\"\n",
    "        # 左右端点分别索引\n",
    "        li = 0\n",
    "        ri = len(height)-1\n",
    "        # value\n",
    "        l = height[li]\n",
    "        r = height[ri]\n",
    "        # 计算面积\n",
    "        max_area = self.calarea(l, r, li, ri)\n",
    "        while li != ri:\n",
    "            # 移动矮柱子\n",
    "            if l <= r:\n",
    "                li += 1\n",
    "                l = height[li]\n",
    "            else:\n",
    "                ri -= 1\n",
    "                r = height[ri]\n",
    "            area = self.calarea(l, r, li, ri)\n",
    "            # 更新最大面积\n",
    "            if area > max_area:\n",
    "                max_area = area            \n",
    "        return max_area\n",
    "        "
   ],
   "metadata": {
    "collapsed": false,
    "pycharm": {
     "name": "#%%\n",
     "is_executing": false
    }
   }
  },
  {
   "cell_type": "code",
   "execution_count": 16,
   "outputs": [
    {
     "name": "stdout",
     "text": [
      "4 4 18 18\n",
      "17\n"
     ],
     "output_type": "stream"
    }
   ],
   "source": [
    "s = Solution()\n",
    "l = [2,3,4,5,18,17,6]\n",
    "print(s.maxArea(l))\n"
   ],
   "metadata": {
    "collapsed": false,
    "pycharm": {
     "name": "#%%\n",
     "is_executing": false
    }
   }
  }
 ],
 "metadata": {
  "kernelspec": {
   "display_name": "Python 3",
   "language": "python",
   "name": "python3"
  },
  "language_info": {
   "codemirror_mode": {
    "name": "ipython",
    "version": 2
   },
   "file_extension": ".py",
   "mimetype": "text/x-python",
   "name": "python",
   "nbconvert_exporter": "python",
   "pygments_lexer": "ipython2",
   "version": "2.7.6"
  },
  "pycharm": {
   "stem_cell": {
    "cell_type": "raw",
    "source": [],
    "metadata": {
     "collapsed": false
    }
   }
  }
 },
 "nbformat": 4,
 "nbformat_minor": 0
}