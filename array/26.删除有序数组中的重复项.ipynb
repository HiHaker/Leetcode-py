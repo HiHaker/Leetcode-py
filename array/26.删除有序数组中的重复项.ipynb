{
 "cells": [
  {
   "cell_type": "markdown",
   "source": [
    "给你一个有序数组 nums ，请你 原地 删除重复出现的元素，使每个元素 只出现一次 ，返回删除后数组的新长度。\n",
    "\n",
    "不要使用额外的数组空间，你必须在 原地 修改输入数组 并在使用 O(1) 额外空间的条件下完成。"
   ],
   "metadata": {
    "collapsed": false,
    "pycharm": {
     "name": "#%% md\n"
    }
   }
  },
  {
   "cell_type": "code",
   "execution_count": null,
   "metadata": {
    "collapsed": true
   },
   "outputs": [],
   "source": [
    "class Solution:\n",
    "    def removeDuplicates(self, nums: list[int]) -> int:\n",
    "       i = 0\n",
    "       value = ''\n",
    "       while i<len(nums):\n",
    "           if value != nums[i]:\n",
    "               value = nums[i]\n",
    "           else:\n",
    "               nums.pop(i)\n",
    "           i -= 1\n",
    "       i += 1\n",
    "       return len(nums)\n"
   ]
  },
  {
   "cell_type": "code",
   "execution_count": 12,
   "outputs": [],
   "source": [
    "def removeDuplicates(nums) -> int:\n",
    "    i = 0\n",
    "    value = ''\n",
    "    while i<len(nums):\n",
    "        if value != nums[i]:\n",
    "            value = nums[i]\n",
    "        else:\n",
    "            nums.pop(i)\n",
    "            i -= 1\n",
    "        i += 1\n",
    "    return len(nums)"
   ],
   "metadata": {
    "collapsed": false,
    "pycharm": {
     "name": "#%%\n",
     "is_executing": false
    }
   }
  },
  {
   "cell_type": "code",
   "execution_count": 14,
   "outputs": [
    {
     "name": "stdout",
     "text": [
      "4\n",
      "[1, 2, 3, 4]\n"
     ],
     "output_type": "stream"
    }
   ],
   "source": [
    "l = [1,1,2,3,3,3,3,4]\n",
    "print(removeDuplicates(l))\n",
    "print(l)\n"
   ],
   "metadata": {
    "collapsed": false,
    "pycharm": {
     "name": "#%%\n",
     "is_executing": false
    }
   }
  }
 ],
 "metadata": {
  "kernelspec": {
   "display_name": "Python 3",
   "language": "python",
   "name": "python3"
  },
  "language_info": {
   "codemirror_mode": {
    "name": "ipython",
    "version": 2
   },
   "file_extension": ".py",
   "mimetype": "text/x-python",
   "name": "python",
   "nbconvert_exporter": "python",
   "pygments_lexer": "ipython2",
   "version": "2.7.6"
  },
  "pycharm": {
   "stem_cell": {
    "cell_type": "raw",
    "source": [],
    "metadata": {
     "collapsed": false
    }
   }
  }
 },
 "nbformat": 4,
 "nbformat_minor": 0
}