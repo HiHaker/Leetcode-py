{
 "cells": [
  {
   "cell_type": "markdown",
   "metadata": {
    "collapsed": true,
    "pycharm": {
     "name": "#%% md\n"
    }
   },
   "source": [
    "给你一个整数 n ，请你生成并返回所有由 n 个节点组成且节点值从 1 到 n 互不相同的不同 二叉搜索树 。可以按 任意顺序 返回答案。\n"
   ]
  },
  {
   "cell_type": "markdown",
   "source": [
    "这道题还是挺难的，我虽然做出来了，但是思考+编代码大概用了3个小时，还得继续努力。\n",
    "\n",
    "主要思路就是使用递归：对于给定的整数列表\n",
    "\n",
    "当整数列表长度为1时，直接返回以这个整数为根结点的树组成的列表\n",
    "\n",
    "否则：\n",
    "\n",
    "- 循环地拿出其中一个整数，这样我们得到一个整数和剩下的整数组成的列表\n",
    "- 将剩下的整数组成的列表作为参数传入函数，得到其不同的二叉搜索树列表（递归）\n",
    "- 将第一步中拿出的整数插入到这个列表中每一个树中\n",
    "- 去除重复（使用前序遍历得到每一棵树的一个唯一字符串标识，再使用字典去除重复）\n",
    "- 返回列表"
   ],
   "metadata": {
    "collapsed": false,
    "pycharm": {
     "name": "#%% md\n"
    }
   }
  },
  {
   "cell_type": "code",
   "execution_count": 23,
   "outputs": [],
   "source": [
    "# Definition for a binary tree node.\n",
    "class TreeNode(object):\n",
    "    def __init__(self, val=0, left=None, right=None):\n",
    "        self.val = val\n",
    "        self.left = left\n",
    "        self.right = right\n",
    "class Solution(object):\n",
    "    # 向以node为根节点的二叉树中添加元素\n",
    "    def addNode(self, node, val):\n",
    "        if node is None:\n",
    "            return TreeNode(val=val)\n",
    "        if val < node.val:\n",
    "            node.left = self.addNode(node.left, val)\n",
    "        elif val > node.val:\n",
    "            node.right = self.addNode(node.right, val)\n",
    "        return node\n",
    "\n",
    "    # 前序遍历\n",
    "    def in_order(self, node, l):\n",
    "        if node is None:\n",
    "            return\n",
    "        l.append(node.val)\n",
    "        self.in_order(node.left, l)\n",
    "        self.in_order(node.right, l)\n",
    "\n",
    "    # 递归生成不同树的列表\n",
    "    def gen_trees(self, l):\n",
    "        # 返回列表，返回生成的不同的树的根节点\n",
    "        ret = []\n",
    "        # 如果给定的整数列表等于1，直接返回以包含这个整数为根节点的树的列表\n",
    "        if len(l) == 1:\n",
    "            ret.append(TreeNode(val=l[0]))\n",
    "            return ret\n",
    "        # 否则\n",
    "        else:\n",
    "            # 创建一个临时结点列表\n",
    "            temp_node_list = []\n",
    "            # 对于整数列表中的每一个整数\n",
    "            for idx in range(len(l)):\n",
    "                new_l = l.copy()\n",
    "                # 弹出\n",
    "                e = new_l.pop(idx)\n",
    "                # 得到剩余元素的生成不同树的列表\n",
    "                node_list = self.gen_trees(new_l)\n",
    "\n",
    "                # 对得到的列表的每一颗树插入元素\n",
    "                for node in node_list:\n",
    "                    # 添加元素\n",
    "                    self.addNode(node, e)\n",
    "\n",
    "                # 加入临时总列表\n",
    "                temp_node_list += node_list\n",
    "\n",
    "            # 去除重复\n",
    "            # 前序遍历生成标识\n",
    "            node_dict = {}\n",
    "            for node in temp_node_list:\n",
    "                label = []\n",
    "                self.in_order(node, label)\n",
    "                label = ''.join([str(x) for x in label])\n",
    "                # 加入字典\n",
    "                if label not in node_dict:\n",
    "                    node_dict[label] = node\n",
    "\n",
    "            # 将字典中的value提出为一个列表\n",
    "            for key in node_dict:\n",
    "                ret.append(node_dict[key])\n",
    "            return ret\n",
    "\n",
    "    def generateTrees(self, n):\n",
    "        \"\"\"\n",
    "        :type n: int\n",
    "        :rtype: List[TreeNode]\n",
    "        \"\"\"\n",
    "\n",
    "        n_elements = [x for x in range(1,n+1)]\n",
    "        return self.gen_trees(n_elements)"
   ],
   "metadata": {
    "collapsed": false,
    "pycharm": {
     "name": "#%%\n"
    }
   }
  },
  {
   "cell_type": "code",
   "execution_count": 25,
   "outputs": [
    {
     "name": "stdout",
     "output_type": "stream",
     "text": [
      "[3, 2]\n",
      "[2, 3]\n",
      "[3, 1]\n",
      "[1, 3]\n",
      "[2, 1]\n",
      "[1, 2]\n",
      "[3, 2, 1]\n",
      "[2, 1, 3]\n",
      "[3, 1, 2]\n",
      "[1, 3, 2]\n",
      "[2, 1, 3]\n",
      "[1, 2, 3]\n",
      "[<__main__.TreeNode object at 0x000002243FB70FD0>, <__main__.TreeNode object at 0x000002243FB70D30>, <__main__.TreeNode object at 0x000002243FB70B70>, <__main__.TreeNode object at 0x000002243FC0B198>, <__main__.TreeNode object at 0x000002243FB8CCC0>]\n"
     ]
    }
   ],
   "source": [
    "# s = Solution()\n",
    "# node = TreeNode(1)\n",
    "# s.addNode(node, 3)\n",
    "# s.addNode(node, 2)\n",
    "# list = []\n",
    "# s.in_order(node, list)\n",
    "# print(list)\n",
    "\n",
    "# n_elements = [x for x in range(1,5+1)]\n",
    "# print(n_elements)\n",
    "\n",
    "# l = []\n",
    "# l.append(TreeNode(val=0))\n",
    "# l2 = []\n",
    "# l2.append(TreeNode(val=1))\n",
    "# print(l+l2)\n",
    "\n",
    "# label = [2,1]\n",
    "# print(label)\n",
    "# label = ''.join([str(x) for x in label])\n",
    "\n",
    "s = Solution()\n",
    "result = s.generateTrees(3)\n",
    "print(result)"
   ],
   "metadata": {
    "collapsed": false,
    "pycharm": {
     "name": "#%%\n"
    }
   }
  }
 ],
 "metadata": {
  "kernelspec": {
   "display_name": "Python 3",
   "language": "python",
   "name": "python3"
  },
  "language_info": {
   "codemirror_mode": {
    "name": "ipython",
    "version": 2
   },
   "file_extension": ".py",
   "mimetype": "text/x-python",
   "name": "python",
   "nbconvert_exporter": "python",
   "pygments_lexer": "ipython2",
   "version": "2.7.6"
  }
 },
 "nbformat": 4,
 "nbformat_minor": 0
}