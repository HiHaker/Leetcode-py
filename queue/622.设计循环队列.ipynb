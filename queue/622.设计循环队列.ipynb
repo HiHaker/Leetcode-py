{
 "cells": [
  {
   "cell_type": "markdown",
   "metadata": {
    "collapsed": true,
    "pycharm": {
     "name": "#%% md\n"
    }
   },
   "source": [
    "设计你的循环队列实现。 循环队列是一种线性数据结构，其操作表现基于 FIFO（先进先出）原则并且队尾被连接在队首之后以形成一个循环。它也被称为“环形缓冲器”。\n",
    "\n",
    "循环队列的一个好处是我们可以利用这个队列之前用过的空间。在一个普通队列里，一旦一个队列满了，我们就不能插入下一个元素，即使在队列前面仍有空间。但是使用循环队列，我们能使用这些空间去存储新的值。\n",
    "\n",
    "你的实现应该支持如下操作：\n",
    "\n",
    "MyCircularQueue(k): 构造器，设置队列长度为 k 。\n",
    "Front: 从队首获取元素。如果队列为空，返回 -1 。\n",
    "Rear: 获取队尾元素。如果队列为空，返回 -1 。\n",
    "enQueue(value): 向循环队列插入一个元素。如果成功插入则返回真。\n",
    "deQueue(): 从循环队列中删除一个元素。如果成功删除则返回真。\n",
    "isEmpty(): 检查循环队列是否为空。\n",
    "isFull(): 检查循环队列是否已满。\n",
    "\n",
    "来源：力扣（LeetCode）\n",
    "链接：https://leetcode-cn.com/problems/design-circular-queue"
   ]
  },
  {
   "cell_type": "markdown",
   "source": [
    "这道题思路简单，主要考察基本循环队列"
   ],
   "metadata": {
    "collapsed": false,
    "pycharm": {
     "name": "#%% md\n"
    }
   }
  },
  {
   "cell_type": "code",
   "execution_count": null,
   "outputs": [],
   "source": [
    "class MyCircularQueue(object):\n",
    "\n",
    "    def __init__(self, k):\n",
    "        \"\"\"\n",
    "        :type k: int\n",
    "        \"\"\"\n",
    "        self.queue = []\n",
    "        # 循环队列容量\n",
    "        self.size = k\n",
    "        # 循环队列元素个数\n",
    "        self.enums = 0\n",
    "        # 初始化队列，置值为0\n",
    "        for i in range(k):\n",
    "            self.queue.append(0)\n",
    "        # 队首指针\n",
    "        self.front = None\n",
    "        # 队尾指针\n",
    "        self.rear = None\n",
    "\n",
    "\n",
    "    def enQueue(self, value):\n",
    "        \"\"\"\n",
    "        :type value: int\n",
    "        :rtype: bool\n",
    "        \"\"\"\n",
    "        # 检查队列是否已经满\n",
    "        # 如果队尾指针+1等于队首指针，则队列已满\n",
    "        if self.isFull():\n",
    "            return False\n",
    "        else:\n",
    "            # 如果此时队列为空\n",
    "            if self.isEmpty():\n",
    "                # 初始化队首指针\n",
    "                self.front = 0\n",
    "                self.rear = -1\n",
    "            # 移动队尾指针\n",
    "            self.rear = (self.rear+1)%self.size\n",
    "            # 添加元素\n",
    "            self.queue[self.rear] = value\n",
    "            # 元素个数+1\n",
    "            self.enums += 1\n",
    "            return True\n",
    "\n",
    "\n",
    "    def deQueue(self):\n",
    "        \"\"\"\n",
    "        :rtype: bool\n",
    "        \"\"\"\n",
    "        #如果此时队列为空\n",
    "        if self.isEmpty():\n",
    "            return False\n",
    "        else:\n",
    "            # 出队\n",
    "            self.queue[self.front] = 0\n",
    "            self.enums -= 1\n",
    "            # 如果出队后队列变为空\n",
    "            if self.isEmpty():\n",
    "                self.front = None\n",
    "                self.rear = None\n",
    "            else:\n",
    "                # 移动队首指针\n",
    "                self.front = (self.front+1)%self.size\n",
    "            return True\n",
    "\n",
    "    def Front(self):\n",
    "        \"\"\"\n",
    "        :rtype: int\n",
    "        \"\"\"\n",
    "        if self.isEmpty():\n",
    "            return -1\n",
    "        else:\n",
    "            return self.queue[self.front]\n",
    "\n",
    "    def Rear(self):\n",
    "        \"\"\"\n",
    "        :rtype: int\n",
    "        \"\"\"\n",
    "        if self.isEmpty():\n",
    "            return -1\n",
    "        else:\n",
    "            return self.queue[self.rear]\n",
    "\n",
    "    def isEmpty(self):\n",
    "        \"\"\"\n",
    "        :rtype: bool\n",
    "        \"\"\"\n",
    "        return self.enums == 0\n",
    "\n",
    "    def isFull(self):\n",
    "        \"\"\"\n",
    "        :rtype: bool\n",
    "        \"\"\"\n",
    "        if self.isEmpty():\n",
    "            return False\n",
    "        else:\n",
    "            return (self.rear+1)%self.size == self.front\n",
    "\n",
    "\n",
    "# Your MyCircularQueue object will be instantiated and called as such:\n",
    "# obj = MyCircularQueue(k)\n",
    "# param_1 = obj.enQueue(value)\n",
    "# param_2 = obj.deQueue()\n",
    "# param_3 = obj.Front()\n",
    "# param_4 = obj.Rear()\n",
    "# param_5 = obj.isEmpty()\n",
    "# param_6 = obj.isFull()"
   ],
   "metadata": {
    "collapsed": false,
    "pycharm": {
     "name": "#%%\n"
    }
   }
  }
 ],
 "metadata": {
  "kernelspec": {
   "display_name": "Python 3",
   "language": "python",
   "name": "python3"
  },
  "language_info": {
   "codemirror_mode": {
    "name": "ipython",
    "version": 2
   },
   "file_extension": ".py",
   "mimetype": "text/x-python",
   "name": "python",
   "nbconvert_exporter": "python",
   "pygments_lexer": "ipython2",
   "version": "2.7.6"
  }
 },
 "nbformat": 4,
 "nbformat_minor": 0
}