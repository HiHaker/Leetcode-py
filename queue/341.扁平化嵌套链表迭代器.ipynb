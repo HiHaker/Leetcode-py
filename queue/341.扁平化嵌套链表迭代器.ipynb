{
 "cells": [
  {
   "cell_type": "markdown",
   "metadata": {
    "collapsed": true,
    "pycharm": {
     "name": "#%% md\n"
    }
   },
   "source": [
    "给你一个嵌套的整数列表 nestedList 。每个元素要么是一个整数，要么是一个列表；该列表的元素也可能是整数或者是其他列表。请你实现一个迭代器将其扁平化，使之能够遍历这个列表中的所有整数。\n",
    "\n",
    "实现扁平迭代器类 NestedIterator ：\n",
    "\n",
    "NestedIterator(List<NestedInteger> nestedList) 用嵌套列表 nestedList 初始化迭代器。\n",
    "int next() 返回嵌套列表的下一个整数。\n",
    "boolean hasNext() 如果仍然存在待迭代的整数，返回 true ；否则，返回 false 。\n",
    "你的代码将会用下述伪代码检测：\n",
    "\n",
    "initialize iterator with nestedList\n",
    "res = []\n",
    "while iterator.hasNext()\n",
    "    append iterator.next() to the end of res\n",
    "return res\n",
    "如果 res 与预期的扁平化列表匹配，那么你的代码将会被判为正确。\n",
    "\n",
    "来源：力扣（LeetCode）\n",
    "链接：https://leetcode-cn.com/problems/flatten-nested-list-iterator"
   ]
  },
  {
   "cell_type": "markdown",
   "source": [
    "思路就是递归函数，这道题其实是考的递归算法的思想，找到递归模式，递归的边界"
   ],
   "metadata": {
    "collapsed": false,
    "pycharm": {
     "name": "#%% md\n"
    }
   }
  },
  {
   "cell_type": "code",
   "execution_count": null,
   "outputs": [],
   "source": [
    "# \"\"\"\n",
    "# This is the interface that allows for creating nested lists.\n",
    "# You should not implement it, or speculate about its implementation\n",
    "# \"\"\"\n",
    "#class NestedInteger(object):\n",
    "#    def isInteger(self):\n",
    "#        \"\"\"\n",
    "#        @return True if this NestedInteger holds a single integer, rather than a nested list.\n",
    "#        :rtype bool\n",
    "#        \"\"\"\n",
    "#\n",
    "#    def getInteger(self):\n",
    "#        \"\"\"\n",
    "#        @return the single integer that this NestedInteger holds, if it holds a single integer\n",
    "#        Return None if this NestedInteger holds a nested list\n",
    "#        :rtype int\n",
    "#        \"\"\"\n",
    "#\n",
    "#    def getList(self):\n",
    "#        \"\"\"\n",
    "#        @return the nested list that this NestedInteger holds, if it holds a nested list\n",
    "#        Return None if this NestedInteger holds a single integer\n",
    "#        :rtype List[NestedInteger]\n",
    "#        \"\"\"\n",
    "\n",
    "class NestedIterator(object):\n",
    "    \n",
    "    # 递归函数\n",
    "    def add_queue(self, nestedList):\n",
    "        # 递归的退出条件（当前的嵌套列表是一个整数）\n",
    "        if nestedList.isInteger():\n",
    "            self.queue.append(nestedList.getInteger())\n",
    "        # 如果是一个嵌套列表\n",
    "        else:\n",
    "            nl = nestedList.getList()\n",
    "            # 对于其中每一项，递归加入队列\n",
    "            for item in nl:\n",
    "                self.add_queue(item)\n",
    "\n",
    "    def __init__(self, nestedList):\n",
    "        \"\"\"\n",
    "        Initialize your data structure here.\n",
    "        :type nestedList: List[NestedInteger]\n",
    "        \"\"\"\n",
    "        # 定义一个队列\n",
    "        self.queue = []\n",
    "        # 加入队列\n",
    "        for item in nestedList:\n",
    "            self.add_queue(item)\n",
    "        # 大小\n",
    "        self.size = len(self.queue)\n",
    "\n",
    "    def next(self):\n",
    "        \"\"\"\n",
    "        :rtype: int\n",
    "        \"\"\"\n",
    "        if self.hasNext():\n",
    "            self.size -= 1\n",
    "            return self.queue.pop(0)   \n",
    "\n",
    "    def hasNext(self):\n",
    "        \"\"\"\n",
    "        :rtype: bool\n",
    "        \"\"\"\n",
    "        return self.size > 0\n",
    "\n",
    "# Your NestedIterator object will be instantiated and called as such:\n",
    "# i, v = NestedIterator(nestedList), []\n",
    "# while i.hasNext(): v.append(i.next())\n"
   ],
   "metadata": {
    "collapsed": false,
    "pycharm": {
     "name": "#%%\n"
    }
   }
  }
 ],
 "metadata": {
  "kernelspec": {
   "display_name": "Python 3",
   "language": "python",
   "name": "python3"
  },
  "language_info": {
   "codemirror_mode": {
    "name": "ipython",
    "version": 2
   },
   "file_extension": ".py",
   "mimetype": "text/x-python",
   "name": "python",
   "nbconvert_exporter": "python",
   "pygments_lexer": "ipython2",
   "version": "2.7.6"
  },
  "pycharm": {
   "stem_cell": {
    "cell_type": "raw",
    "source": [],
    "metadata": {
     "collapsed": false
    }
   }
  }
 },
 "nbformat": 4,
 "nbformat_minor": 0
}