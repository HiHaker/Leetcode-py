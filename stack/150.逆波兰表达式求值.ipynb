{
 "cells": [
  {
   "cell_type": "markdown",
   "metadata": {
    "collapsed": true,
    "pycharm": {
     "name": "#%% md\n"
    }
   },
   "source": [
    "根据 逆波兰表示法，求表达式的值。\n",
    "\n",
    "有效的算符包括 +、-、*、/ 。每个运算对象可以是整数，也可以是另一个逆波兰表达式。\n",
    "\n",
    " \n",
    "\n",
    "说明：\n",
    "\n",
    "整数除法只保留整数部分。\n",
    "给定逆波兰表达式总是有效的。换句话说，表达式总会得出有效数值且不存在除数为 0 的情况。\n",
    "\n",
    "来源：力扣（LeetCode）\n",
    "链接：https://leetcode-cn.com/problems/evaluate-reverse-polish-notation"
   ]
  },
  {
   "cell_type": "code",
   "execution_count": null,
   "outputs": [],
   "source": [
    "class Solution(object):\n",
    "    def evalRPN(self, tokens):\n",
    "        \"\"\"\n",
    "        :type tokens: List[str]\n",
    "        :rtype: int\n",
    "        \"\"\"\n",
    "        # 创建一个栈\n",
    "        s = []\n",
    "        for t in tokens:\n",
    "            if t == \"+\":\n",
    "                numb = s.pop()\n",
    "                numa = s.pop()\n",
    "                s.append(numa+numb)\n",
    "            elif t == \"-\":\n",
    "                numb = s.pop()\n",
    "                numa = s.pop()\n",
    "                s.append(numa-numb)\n",
    "            elif t == \"*\":\n",
    "                numb = s.pop()\n",
    "                numa = s.pop()\n",
    "                s.append(numa*numb)\n",
    "            elif t == \"/\":\n",
    "                numb = s.pop()\n",
    "                numa = s.pop()\n",
    "                s.append(int(numa/numb))\n",
    "            else:\n",
    "                s.append(int(t))\n",
    "\n",
    "\n",
    "        return s.pop()"
   ],
   "metadata": {
    "collapsed": false,
    "pycharm": {
     "name": "#%%\n"
    }
   }
  },
  {
   "cell_type": "code",
   "execution_count": 3,
   "outputs": [
    {
     "name": "stdout",
     "output_type": "stream",
     "text": [
      "True\n",
      "True\n"
     ]
    }
   ],
   "source": [
    "print(isinstance(1, int))\n",
    "print(isinstance(\"+\", str))\n"
   ],
   "metadata": {
    "collapsed": false,
    "pycharm": {
     "name": "#%%\n"
    }
   }
  }
 ],
 "metadata": {
  "kernelspec": {
   "display_name": "Python 3",
   "language": "python",
   "name": "python3"
  },
  "language_info": {
   "codemirror_mode": {
    "name": "ipython",
    "version": 2
   },
   "file_extension": ".py",
   "mimetype": "text/x-python",
   "name": "python",
   "nbconvert_exporter": "python",
   "pygments_lexer": "ipython2",
   "version": "2.7.6"
  }
 },
 "nbformat": 4,
 "nbformat_minor": 0
}