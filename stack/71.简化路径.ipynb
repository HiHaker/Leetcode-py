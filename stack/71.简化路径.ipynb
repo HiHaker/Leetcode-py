{
 "cells": [
  {
   "cell_type": "markdown",
   "metadata": {
    "collapsed": true,
    "pycharm": {
     "name": "#%% md\n"
    }
   },
   "source": [
    "给你一个字符串 path ，表示指向某一文件或目录的 Unix 风格 绝对路径 （以 '/' 开头），请你将其转化为更加简洁的规范路径。\n",
    "\n",
    "在 Unix 风格的文件系统中，一个点（.）表示当前目录本身；此外，两个点 （..） 表示将目录切换到上一级（指向父目录）；两者都可以是复杂相对路径的组成部分。任意多个连续的斜杠（即，'//'）都被视为单个斜杠 '/' 。 对于此问题，任何其他格式的点（例如，'...'）均被视为文件/目录名称。\n",
    "\n",
    "请注意，返回的 规范路径 必须遵循下述格式：\n",
    "\n",
    "始终以斜杠 '/' 开头。\n",
    "两个目录名之间必须只有一个斜杠 '/' 。\n",
    "最后一个目录名（如果存在）不能 以 '/' 结尾。\n",
    "此外，路径仅包含从根目录到目标文件或目录的路径上的目录（即，不含 '.' 或 '..'）。\n",
    "返回简化后得到的 规范路径 。\n",
    "\n",
    "来源：力扣（LeetCode）\n",
    "链接：https://leetcode-cn.com/problems/simplify-path"
   ]
  },
  {
   "cell_type": "markdown",
   "source": [
    "这道题主要是要思考清楚判断规则，根据栈顶和当前指针指向的元素以及后续几个元素来判断即可，不过需要注意几个点，路径末尾有'/'的情况要删去"
   ],
   "metadata": {
    "collapsed": false,
    "pycharm": {
     "name": "#%% md\n"
    }
   }
  },
  {
   "cell_type": "code",
   "execution_count": 33,
   "outputs": [],
   "source": [
    "class Solution(object):\n",
    "    # 查看栈顶元素\n",
    "    def peek(self, s):\n",
    "        if len(s) != 0:\n",
    "            return s[len(s)-1]\n",
    "        else:\n",
    "            return None\n",
    "    # 回到上级路径\n",
    "    def back(self, s):\n",
    "        # # 先把前一个'.'pop\n",
    "        # flag = s.pop()\n",
    "        # 判断是否只剩下1个元素（'/'）\n",
    "        if len(s) == 1:\n",
    "            return\n",
    "        # 否则\n",
    "        else:\n",
    "            # pop出'/'\n",
    "            s.pop()\n",
    "            flag = ''\n",
    "            while flag != '/' and len(s) > 1:\n",
    "                flag = s.pop()\n",
    "            if len(s) != 1:\n",
    "                s.append('/')\n",
    "    def simplifyPath(self, path):\n",
    "        \"\"\"\n",
    "        :type path: str\n",
    "        :rtype: str\n",
    "        \"\"\"\n",
    "        # 构造一个栈\n",
    "        s = [path[0]]\n",
    "        # 先将根目录加入\n",
    "        # 遍历路径\n",
    "        id = 1\n",
    "        while id<len(path):\n",
    "            # 取出当前字符\n",
    "            c = path[id]\n",
    "            # 如果是'/'\n",
    "            if c == '/':\n",
    "                # 如果栈顶无'/'并且此时不是串的末尾，入栈\n",
    "                if self.peek(s) != '/' and id != len(path)-1:\n",
    "                    s.append(c)\n",
    "                # 如果栈顶有'/'，略过\n",
    "            # 如果是'.'\n",
    "            elif c == '.':\n",
    "                # 栈顶元素\n",
    "                temp = self.peek(s)\n",
    "                # 如果栈顶为'/'，继续处理，否则入栈\n",
    "                if temp == '/':\n",
    "                    # '/' '.'\n",
    "                    # 如果还有后一个元素\n",
    "                    if id+1 < len(path):\n",
    "                        # '/' '.' '/'\n",
    "                        # 如果后一个元素是'/'，省略\n",
    "                        if path[id+1] == '/':\n",
    "                            pass\n",
    "                        # '/' '.' '.'\n",
    "                        # 如果是'.'，检查有无回退\n",
    "                        elif path[id+1] == '.':\n",
    "                            # 判断是否还有后一个元素\n",
    "                            if id+2 < len(path):\n",
    "                                # '/' '.' '.' '/'\n",
    "                                # 如果是'/'\n",
    "                                if path[id+2] == '/':\n",
    "                                    self.back(s)\n",
    "                                else:\n",
    "                                    s.append(c)\n",
    "                            else:\n",
    "                                self.back(s)\n",
    "                        # 如果后面是其他元素\n",
    "                        else:\n",
    "                            s.append(c)\n",
    "                    # 如果无，省略\n",
    "                    else:\n",
    "                        pass\n",
    "                else:\n",
    "                    s.append(c)\n",
    "            # 如果是其他字符\n",
    "            else:\n",
    "                s.append(c)\n",
    "            # 指针后移\n",
    "            id += 1\n",
    "\n",
    "        # 如果栈顶是'/'，删除\n",
    "        if self.peek(s) == '/' and len(s) > 1:\n",
    "            s.pop()\n",
    "        return ''.join(s)"
   ],
   "metadata": {
    "collapsed": false,
    "pycharm": {
     "name": "#%%\n"
    }
   }
  },
  {
   "cell_type": "code",
   "execution_count": 34,
   "outputs": [
    {
     "data": {
      "text/plain": "'/K/ESOXdhQBw/PIY/CLZGQi/cffbygOwWzwN/mvzwi/JNGN/sWfxHhEWhKNNnXl/SWzrHsadIxR/suguQSruIfebl/kNrWuAWbvtBDNQM/YepupQ/dh/u/sARJGlrRvrmhPOxGQ/iKlbbXAhHSpzfF/zcDkQdW/OEOU/JA/ZZvUHwZx/VpK/oN/xssCg/vHorefiTecvRpHgicYc/KX/dWpXpsIbuEsErFuGAx/jsjKRAEVcTftlZtcuL/AmCgaIPVYltX/OnCdiGttHkmlTMGcelY/N/hOKE/QZnBuwt/avWBvGRZidLEHsTj/nPYewkyL/sxFWyIsXXRD/IJoZlpkENhlonV/jliRmJrWenVHU/lvRwwxKaEWqCrBomsLTm/nMde/ehAXxtZtDWMB/UNRBzgl/LsqCO/BIxGsAcgsyupEyrNsL/nepy/KWzfbrpvaiaWeuPmNn/BE/eIFvApfbEoEYpvIvrI/kNuTLPTmGpq/HF/vayq/QwfXsSKlnmMfaodsO/YyQODkY/shhyKNLiSXzpHllNKjIs/kOUQbVuCoPjDwUmUd/o/ahCFBBM/YnxWhD/Nw/axZgekQikETKweVrKkA/yPi/RPFhDvRwUicCclffjh/o/ebiSiwSzQvArXArm'"
     },
     "execution_count": 34,
     "metadata": {},
     "output_type": "execute_result"
    }
   ],
   "source": [
    "s = Solution()\n",
    "path = \"/K/ESOXdhQBw/PIY/.///CLZGQi/////cffbygOwWzwN///./././Yq/../SDYvajXyVXPDSlDR///../wBadZwrOOhrEIMUpmYt///../mvzwi/JNGN///////xzCFiDOSg/Ouqump/eevhBFIeqWzmilbau/..///./.././//../sWfxHhEWhKNNnXl/SWzrHsadIxR///suguQSruIfebl/kNrWuAWbvtBDNQM/YepupQ/dh/u/sARJGlrRvrmhPOxGQ/iKlbbXAhHSpzfF/zcDkQdW/wmSBGnxZ/../OEOU/JA/./NgIYpUfWsl///../oVtuBcyihmMokh/zlSiPhLBYtOIci///////./../../ZZvUHwZx/VpK/oN/////././xssCg/LOloZwVjt/..///////vHorefiTecvRpHgicYc/KX/dWpXpsIbuEsErFuGAx/jsjKRAEVcTftlZtcuL///AmCgaIPVYltX/OnCdiGttHkmlTMGcelY/N///dNdzqCdzJtPitmGDUrS///..///hOKE/QZnBuwt/avWBvGRZidLEHsTj/./nPYewkyL/sxFWyIsXXRD/IJoZlpkENhlonV/jliRmJrWenVHU/JhEPSRTSfqNKsQF/.././////lvRwwxKaEWqCrBomsLTm/nMde/ehAXxtZtDWMB///UNRBzgl/LsqCO/BIxGsAcgsyupEyrNsL///nepy/KWzfbrpvaiaWeuPmNn/BE///eIFvApfbEoEYpvIvrI/./ZFqVmWjYArX///////crKwqYMzy///./../..///kNuTLPTmGpq/./PAWC/..///HF///vayq/./FTmVSExMlA/../////QwfXsSKlnmMfaodsO/YyQODkY/shhyKNLiSXzpHllNKjIs/kOUQbVuCoPjDwUmUd/iNAPFRHQnQrPBWf/../o/wZvxkKOT///../ahCFBBM/ZigBLp/.///kPEjOmxbl/jJQrYHJNGbnTWhCdO///..///../Q/./../..///./YnxWhD/Nw/axZgekQikETKweVrKkA/yPi///RPFhDvRwUicCclffjh/o/ebiSiwSzQvArXArm/.//\"\n",
    "s.simplifyPath(path)\n"
   ],
   "metadata": {
    "collapsed": false,
    "pycharm": {
     "name": "#%%\n"
    }
   }
  }
 ],
 "metadata": {
  "kernelspec": {
   "display_name": "Python 3",
   "language": "python",
   "name": "python3"
  },
  "language_info": {
   "codemirror_mode": {
    "name": "ipython",
    "version": 2
   },
   "file_extension": ".py",
   "mimetype": "text/x-python",
   "name": "python",
   "nbconvert_exporter": "python",
   "pygments_lexer": "ipython2",
   "version": "2.7.6"
  }
 },
 "nbformat": 4,
 "nbformat_minor": 0
}