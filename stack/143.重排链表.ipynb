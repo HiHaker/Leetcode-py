{
 "cells": [
  {
   "cell_type": "markdown",
   "metadata": {
    "collapsed": true,
    "pycharm": {
     "name": "#%% md\n"
    }
   },
   "source": [
    "给定一个单链表 L 的头节点 head ，单链表 L 表示为：\n",
    "\n",
    "L0 → L1 → … → Ln - 1 → Ln\n",
    "请将其重新排列后变为：\n",
    "\n",
    "L0 → Ln → L1 → Ln - 1 → L2 → Ln - 2 → …\n",
    "不能只是单纯的改变节点内部的值，而是需要实际的进行节点交换。\n",
    "\n",
    "来源：力扣（LeetCode）\n",
    "链接：https://leetcode-cn.com/problems/reorder-list"
   ]
  },
  {
   "cell_type": "markdown",
   "source": [
    "思路是先使用栈把链表指针存入，然后在原链表上使用一个指针来修改原链表\n"
   ],
   "metadata": {
    "collapsed": false,
    "pycharm": {
     "name": "#%% md\n"
    }
   }
  },
  {
   "cell_type": "code",
   "execution_count": null,
   "outputs": [],
   "source": [
    "# Definition for singly-linked list.\n",
    "class ListNode(object):\n",
    "    def __init__(self, val=0, next=None):\n",
    "        self.val = val\n",
    "        self.next = next\n",
    "class Solution(object):\n",
    "    def peek(self, s):\n",
    "        peek = s.pop()\n",
    "        s.append(peek)\n",
    "        return peek\n",
    "    def reorderList(self, head):\n",
    "        \"\"\"\n",
    "        :type head: ListNode\n",
    "        :rtype: None Do not return anything, modify head in-place instead.\n",
    "        \"\"\"\n",
    "        # 创建一个栈\n",
    "        s = []\n",
    "\n",
    "        # 创建虚拟头结点\n",
    "        dummy_head = ListNode()\n",
    "        dummy_head.next = head\n",
    "\n",
    "        # 首先将链表入栈\n",
    "        temp = dummy_head\n",
    "        while temp.next is not None:\n",
    "            temp = temp.next\n",
    "            s.append(temp)\n",
    "\n",
    "        # 构建指向新链表的结点\n",
    "        new_list = ListNode()\n",
    "        # 临时指针指向虚拟头结点\n",
    "        temp = head\n",
    "        # 当下一个结点不为空\n",
    "        while temp.next is not None:\n",
    "\n",
    "            # 如果下一个结点值等于新链表的末尾结点\n",
    "            if new_list == temp:\n",
    "                break\n",
    "            else:\n",
    "                # 加到新链表之后\n",
    "                new_list.next = temp\n",
    "                # 移动指针\n",
    "                # 在移动指针之前，把temp先移动\n",
    "                temp = temp.next\n",
    "                new_list = new_list.next\n",
    "\n",
    "            # 查看栈顶元素\n",
    "            peek = self.peek(s)\n",
    "            # 如果新链表的最后一个结点等于栈顶元素，退出循环\n",
    "            if new_list == peek:\n",
    "                break\n",
    "            else:\n",
    "                # 取出栈顶结点，加到新结点链表后\n",
    "                snode = s.pop()\n",
    "                new_list.next = snode\n",
    "                # 移动指针\n",
    "                new_list = new_list.next\n",
    "\n",
    "        # 把当前结点的末尾置为空\n",
    "        new_list.next = None"
   ],
   "metadata": {
    "collapsed": false,
    "pycharm": {
     "name": "#%%\n"
    }
   }
  }
 ],
 "metadata": {
  "kernelspec": {
   "display_name": "Python 3",
   "language": "python",
   "name": "python3"
  },
  "language_info": {
   "codemirror_mode": {
    "name": "ipython",
    "version": 2
   },
   "file_extension": ".py",
   "mimetype": "text/x-python",
   "name": "python",
   "nbconvert_exporter": "python",
   "pygments_lexer": "ipython2",
   "version": "2.7.6"
  }
 },
 "nbformat": 4,
 "nbformat_minor": 0
}