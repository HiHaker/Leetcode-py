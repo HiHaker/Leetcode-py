{
 "cells": [
  {
   "cell_type": "markdown",
   "metadata": {
    "collapsed": true,
    "pycharm": {
     "name": "#%% md\n"
    }
   },
   "source": [
    "给你一个长度为 n 的整数数组 score ，其中 score[i] 是第 i 位运动员在比赛中的得分。所有得分都 互不相同 。\n",
    "\n",
    "运动员将根据得分 决定名次 ，其中名次第 1 的运动员得分最高，名次第 2 的运动员得分第 2 高，依此类推。运动员的名次决定了他们的获奖情况：\n",
    "\n",
    "名次第 1 的运动员获金牌 \"Gold Medal\" 。\n",
    "名次第 2 的运动员获银牌 \"Silver Medal\" 。\n",
    "名次第 3 的运动员获铜牌 \"Bronze Medal\" 。\n",
    "从名次第 4 到第 n 的运动员，只能获得他们的名次编号（即，名次第 x 的运动员获得编号 \"x\"）。\n",
    "使用长度为 n 的数组 answer 返回获奖，其中 answer[i] 是第 i 位运动员的获奖情况。\n",
    "\n",
    "来源：力扣（LeetCode）\n",
    "链接：https://leetcode-cn.com/problems/relative-ranks"
   ]
  },
  {
   "cell_type": "markdown",
   "source": [
    "这道题虽然不难，但是要理清楚列表的索引以及值对应的是什么。\n",
    "\n",
    "题目中的输入score的索引对应的是运动员，值对应的是得分。\n",
    "\n",
    "要求的输出answer的索引对应的也是运动员，而值对应的是名次，也就是我们最后要计算运动员对应的名次是多少。\n",
    "\n",
    "因为要计算名次，很容易想到排序，而排序可以返回值排序后的列表，也可以返回排序后的原来的索引组成的列表。\n",
    "\n",
    "因为我们不关心得分，只关心排名，所以我们根据值来排序，得到排序后的索引列表，这个列表的索引对应的就是名次，值对应的就是运动员。\n"
   ],
   "metadata": {
    "collapsed": false,
    "pycharm": {
     "name": "#%% md\n"
    }
   }
  },
  {
   "cell_type": "code",
   "execution_count": null,
   "outputs": [],
   "source": [
    "class Solution(object):\n",
    "    def findRelativeRanks(self, score):\n",
    "        \"\"\"\n",
    "        :type score: List[int]\n",
    "        :rtype: List[str]\n",
    "        \"\"\"\n",
    "        # 对列表进行排序，返回排序后的索引sort_id\n",
    "        # 这里就得到了运动员对应的排名，索引i是第i+1名，sort_id[i]是对应的运动员\n",
    "        sort_id = sorted(range(len(score)), key=lambda k: score[k], reverse=True)\n",
    "\n",
    "        # 将数据存入map：key是运动员，value是排名\n",
    "        score_map = {}\n",
    "        count = 1\n",
    "        for i in sort_id:\n",
    "            score_map[i] = str(count)\n",
    "            count += 1\n",
    "\n",
    "        # 创建每一个运动员的名次信息\n",
    "        answer = [score_map[i] for i in range(len(score))]\n",
    "\n",
    "        # 找到排名为1，2，3分别是哪几个运动员\n",
    "        if len(sort_id) >= 1:\n",
    "            answer[sort_id[0]] = 'Gold Medal'\n",
    "        if len(sort_id) >= 2:\n",
    "            answer[sort_id[1]] = 'Silver Medal'\n",
    "        if len(sort_id) >= 3:\n",
    "            answer[sort_id[2]] = 'Bronze Medal'\n",
    "\n",
    "        return answer"
   ],
   "metadata": {
    "collapsed": false,
    "pycharm": {
     "name": "#%%\n"
    }
   }
  },
  {
   "cell_type": "code",
   "execution_count": 2,
   "outputs": [
    {
     "name": "stdout",
     "output_type": "stream",
     "text": [
      "[8, 5, 4, 2, 1]\n"
     ]
    }
   ],
   "source": [
    "score = [1,2,5,8,4]\n",
    "score.sort(reverse=True)\n",
    "print(score)\n"
   ],
   "metadata": {
    "collapsed": false,
    "pycharm": {
     "name": "#%%\n"
    }
   }
  }
 ],
 "metadata": {
  "kernelspec": {
   "display_name": "Python 3",
   "language": "python",
   "name": "python3"
  },
  "language_info": {
   "codemirror_mode": {
    "name": "ipython",
    "version": 2
   },
   "file_extension": ".py",
   "mimetype": "text/x-python",
   "name": "python",
   "nbconvert_exporter": "python",
   "pygments_lexer": "ipython2",
   "version": "2.7.6"
  }
 },
 "nbformat": 4,
 "nbformat_minor": 0
}