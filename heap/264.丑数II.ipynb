{
 "cells": [
  {
   "cell_type": "markdown",
   "metadata": {
    "collapsed": true,
    "pycharm": {
     "name": "#%% md\n"
    }
   },
   "source": [
    "给你一个整数 n ，请你找出并返回第 n 个 丑数 。\n",
    "\n",
    "丑数 就是只包含质因数 2、3 和/或 5 的正整数。\n",
    "\n",
    " \n",
    "\n",
    "示例 1：\n",
    "\n",
    "输入：n = 10\n",
    "输出：12\n",
    "解释：[1, 2, 3, 4, 5, 6, 8, 9, 10, 12] 是由前 10 个丑数组成的序列。\n",
    "示例 2：\n",
    "\n",
    "输入：n = 1\n",
    "输出：1\n",
    "解释：1 通常被视为丑数。\n",
    "\n",
    "来源：力扣（LeetCode）\n",
    "链接：https://leetcode-cn.com/problems/ugly-number-ii"
   ]
  },
  {
   "cell_type": "code",
   "execution_count": 1,
   "outputs": [],
   "source": [
    "from heapq import *\n",
    "class Solution(object):\n",
    "    def nthUglyNumber(self, n):\n",
    "        \"\"\"\n",
    "        :type n: int\n",
    "        :rtype: int\n",
    "        \"\"\"\n",
    "        # 超出时间限制。。\n",
    "        # if n == 1:\n",
    "        #     return 1\n",
    "        # # 生成n个丑数\n",
    "        # u_nums = [1]\n",
    "        # num = 2\n",
    "        # while len(u_nums) < n:\n",
    "        #     if num%2 == 0 and num/2 in u_nums or num%3==0 and num/3 in u_nums or num%5==0 and num/5 in u_nums:\n",
    "        #         u_nums.append(num)\n",
    "        #     num += 1\n",
    "        # \n",
    "        # return u_nums[n-1]\n",
    "        \n",
    "        # 创建一个最小堆\n",
    "        h = [1]\n",
    "        num_count = {}\n",
    "        result = 0\n",
    "        for i in range(n):\n",
    "            result = heappop(h)\n",
    "            if result*2 not in num_count:\n",
    "                heappush(h, result*2)\n",
    "                num_count[result*2] = 1\n",
    "            if result*3 not in num_count:\n",
    "                heappush(h, result*3)\n",
    "                num_count[result*3] = 1 \n",
    "            if result*5 not in num_count:\n",
    "                heappush(h, result*5)\n",
    "                num_count[result*5] = 1\n",
    "        return result"
   ],
   "metadata": {
    "collapsed": false,
    "pycharm": {
     "name": "#%%\n",
     "is_executing": false
    }
   }
  },
  {
   "cell_type": "code",
   "execution_count": 6,
   "outputs": [
    {
     "name": "stdout",
     "text": [
      "True\n"
     ],
     "output_type": "stream"
    }
   ],
   "source": [
    "n=22/3\n",
    "print(isinstance(n, float))\n"
   ],
   "metadata": {
    "collapsed": false,
    "pycharm": {
     "name": "#%%\n",
     "is_executing": false
    }
   }
  }
 ],
 "metadata": {
  "kernelspec": {
   "display_name": "Python 3",
   "language": "python",
   "name": "python3"
  },
  "language_info": {
   "codemirror_mode": {
    "name": "ipython",
    "version": 2
   },
   "file_extension": ".py",
   "mimetype": "text/x-python",
   "name": "python",
   "nbconvert_exporter": "python",
   "pygments_lexer": "ipython2",
   "version": "2.7.6"
  },
  "pycharm": {
   "stem_cell": {
    "cell_type": "raw",
    "source": [],
    "metadata": {
     "collapsed": false
    }
   }
  }
 },
 "nbformat": 4,
 "nbformat_minor": 0
}