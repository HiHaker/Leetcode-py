{
 "cells": [
  {
   "cell_type": "markdown",
   "metadata": {
    "collapsed": true,
    "pycharm": {
     "name": "#%% md\n"
    }
   },
   "source": [
    "给你两个 非空 的链表，表示两个非负的整数。它们每位数字都是按照 逆序 的方式存储的，并且每个节点只能存储 一位 数字。\n",
    "\n",
    "请你将两个数相加，并以相同形式返回一个表示和的链表。\n",
    "\n",
    "你可以假设除了数字 0 之外，这两个数都不会以 0 开头。\n",
    "\n",
    "来源：力扣（LeetCode）\n",
    "链接：https://leetcode-cn.com/problems/add-two-numbers\n"
   ]
  },
  {
   "cell_type": "code",
   "execution_count": 1,
   "outputs": [],
   "source": [
    "# Definition for singly-linked list.\n",
    "class ListNode(object):\n",
    "    def __init__(self, val=0, next=None):\n",
    "        self.val = val\n",
    "        self.next = next\n",
    "class Solution(object):\n",
    "    def modify(self, is_add, rest):\n",
    "        while is_add and rest.next is not None:\n",
    "            # 移动指针\n",
    "            rest = rest.next\n",
    "            rest.val += 1\n",
    "            is_add = False\n",
    "            # 判断加上之后有无进位\n",
    "            if rest.val >= 10:\n",
    "                rest.val -= 10\n",
    "                is_add = True\n",
    "        if is_add:\n",
    "            rest.next = ListNode()\n",
    "            rest.next.val = 1\n",
    "    def addTwoNumbers(self, l1, l2):\n",
    "        \"\"\"\n",
    "        :type l1: ListNode\n",
    "        :type l2: ListNode\n",
    "        :rtype: ListNode\n",
    "        \"\"\"\n",
    "        # 首指针trick\n",
    "        temp1 = ListNode()\n",
    "        temp1.next = l1\n",
    "        temp2 = ListNode()\n",
    "        temp2.next = l2\n",
    "        res = ListNode()\n",
    "        result = res\n",
    "        # 是否有进位的标识\n",
    "        is_add = False\n",
    "        # 当两个链表其中一个遍历完了，跳出循环\n",
    "        while temp1.next is not None and temp2.next is not None:\n",
    "            # 移动指针\n",
    "            temp1 = temp1.next\n",
    "            temp2 = temp2.next\n",
    "            # 做加法\n",
    "            sum = temp1.val + temp2.val\n",
    "            # 有进位的话就再加一\n",
    "            if is_add:\n",
    "                sum += 1\n",
    "                # 重置\n",
    "                is_add = False\n",
    "            # 和大于10，进位\n",
    "            if sum >= 10:\n",
    "                sum -= 10\n",
    "                is_add = True\n",
    "            # 保存结果\n",
    "            result.val = sum\n",
    "            # 判断\n",
    "            if temp1.next is not None and temp2.next is not None:\n",
    "                # 增加新结点\n",
    "                result.next = ListNode()\n",
    "                result = result.next\n",
    "\n",
    "        # 跳出循环有三种情况，分别处理\n",
    "        # 都为None\n",
    "        if temp1.next is None and temp2.next is None:\n",
    "            # 如果有进位\n",
    "            if is_add:\n",
    "                result.next = ListNode()\n",
    "                result.next.val = 1\n",
    "        # 1为None，2不为None\n",
    "        elif temp1.next is None:\n",
    "            # 接上链表\n",
    "            result.next = temp2.next\n",
    "            # 如果有进位，更改剩下的链表\n",
    "            self.modify(is_add, temp2)\n",
    "        elif temp2.next is None:\n",
    "            # 接上链表\n",
    "            result.next = temp1.next\n",
    "            # 如果有进位，更改剩下的链表\n",
    "            self.modify(is_add, temp1)\n",
    "        # 返回结果\n",
    "        return res\n",
    "\n"
   ],
   "metadata": {
    "collapsed": false,
    "pycharm": {
     "name": "#%%\n"
    }
   }
  }
 ],
 "metadata": {
  "kernelspec": {
   "display_name": "Python 3",
   "language": "python",
   "name": "python3"
  },
  "language_info": {
   "codemirror_mode": {
    "name": "ipython",
    "version": 2
   },
   "file_extension": ".py",
   "mimetype": "text/x-python",
   "name": "python",
   "nbconvert_exporter": "python",
   "pygments_lexer": "ipython2",
   "version": "2.7.6"
  }
 },
 "nbformat": 4,
 "nbformat_minor": 0
}