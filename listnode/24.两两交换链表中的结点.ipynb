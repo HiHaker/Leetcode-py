{
 "cells": [
  {
   "cell_type": "markdown",
   "metadata": {
    "collapsed": true,
    "pycharm": {
     "name": "#%% md\n"
    }
   },
   "source": [
    "给你一个链表，两两交换其中相邻的节点，并返回交换后链表的头节点。你必须在不修改节点内部的值的情况下完成本题（即，只能进行节点交换）。"
   ]
  },
  {
   "cell_type": "code",
   "execution_count": null,
   "outputs": [],
   "source": [
    "# Definition for singly-linked list.\n",
    "class ListNode(object):\n",
    "    def __init__(self, val=0, next=None):\n",
    "        self.val = val\n",
    "        self.next = next\n",
    "class Solution(object):\n",
    "    def swapPairs(self, head):\n",
    "        \"\"\"\n",
    "        :type head: ListNode\n",
    "        :rtype: ListNode\n",
    "        \"\"\"\n",
    "        # 创建一个虚拟头结点\n",
    "        dummy_head = ListNode()\n",
    "        dummy_head.next = head\n",
    "        # 复制指针\n",
    "        temp = dummy_head\n",
    "        while temp.next is not None and temp.next.next is not None:\n",
    "            # 交换结点\n",
    "            # 此时的temp结点是待交换的两个结点之前的结点\n",
    "            # 假设待交换的两个结点为A，B\n",
    "            # 交换的顺序为：记录指向A的指针，temp的指针改为指向B，A的指针改为指向B的next，B的next指向A\n",
    "            A = temp.next\n",
    "            B = temp.next.next\n",
    "            temp.next = B\n",
    "            A.next = B.next\n",
    "            B.next = A\n",
    "            # 移动temp指针\n",
    "            temp = temp.next.next\n",
    "        return dummy_head.next"
   ],
   "metadata": {
    "collapsed": false,
    "pycharm": {
     "name": "#%%\n"
    }
   }
  }
 ],
 "metadata": {
  "kernelspec": {
   "display_name": "Python 3",
   "language": "python",
   "name": "python3"
  },
  "language_info": {
   "codemirror_mode": {
    "name": "ipython",
    "version": 2
   },
   "file_extension": ".py",
   "mimetype": "text/x-python",
   "name": "python",
   "nbconvert_exporter": "python",
   "pygments_lexer": "ipython2",
   "version": "2.7.6"
  },
  "pycharm": {
   "stem_cell": {
    "cell_type": "raw",
    "source": [],
    "metadata": {
     "collapsed": false
    }
   }
  }
 },
 "nbformat": 4,
 "nbformat_minor": 0
}