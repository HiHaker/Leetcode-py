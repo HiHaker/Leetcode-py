{
 "cells": [
  {
   "cell_type": "markdown",
   "metadata": {
    "collapsed": true,
    "pycharm": {
     "name": "#%% md\n"
    }
   },
   "source": [
    "给你一个链表，删除链表的倒数第 n 个结点，并且返回链表的头结点。"
   ]
  },
  {
   "cell_type": "markdown",
   "source": [
    "算法思想很简单，首先计算链表长度，然后找到待删除结点（要注意是不是删除的头结点）的前一个结点就可以执行删除"
   ],
   "metadata": {
    "collapsed": false,
    "pycharm": {
     "name": "#%% md\n"
    }
   }
  },
  {
   "cell_type": "code",
   "execution_count": null,
   "outputs": [],
   "source": [
    "# Definition for singly-linked list.\n",
    "class ListNode(object):\n",
    "    def __init__(self, val=0, next=None):\n",
    "        self.val = val\n",
    "        self.next = next\n",
    "class Solution(object):\n",
    "    def removeNthFromEnd(self, head, n):\n",
    "        \"\"\"\n",
    "        :type head: ListNode\n",
    "        :type n: int\n",
    "        :rtype: ListNode\n",
    "        \"\"\"\n",
    "        # 计算链表长度\n",
    "        len = 1\n",
    "        temp = head\n",
    "        while temp.next is not None:\n",
    "            len += 1\n",
    "            temp = temp.next\n",
    "        # 要删除链表倒数第n个结点，就要找到倒数第n+1个结点\n",
    "        target = len-n\n",
    "        # 如果是删除头结点\n",
    "        if target == 0:\n",
    "            return head.next\n",
    "        temp = head\n",
    "        for i in range(1, target):\n",
    "            temp = temp.next\n",
    "        # 删除结点\n",
    "        del_node = temp.next\n",
    "        temp.next = del_node.next\n",
    "        return head"
   ],
   "metadata": {
    "collapsed": false,
    "pycharm": {
     "name": "#%%\n"
    }
   }
  }
 ],
 "metadata": {
  "kernelspec": {
   "display_name": "Python 3",
   "language": "python",
   "name": "python3"
  },
  "language_info": {
   "codemirror_mode": {
    "name": "ipython",
    "version": 2
   },
   "file_extension": ".py",
   "mimetype": "text/x-python",
   "name": "python",
   "nbconvert_exporter": "python",
   "pygments_lexer": "ipython2",
   "version": "2.7.6"
  },
  "pycharm": {
   "stem_cell": {
    "cell_type": "raw",
    "source": [],
    "metadata": {
     "collapsed": false
    }
   }
  }
 },
 "nbformat": 4,
 "nbformat_minor": 0
}