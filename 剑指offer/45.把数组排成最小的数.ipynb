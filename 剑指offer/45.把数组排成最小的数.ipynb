{
 "cells": [
  {
   "cell_type": "markdown",
   "metadata": {
    "collapsed": true,
    "pycharm": {
     "name": "#%% md\n"
    }
   },
   "source": [
    "输入一个非负整数数组，把数组里所有数字拼接起来排成一个数，打印能拼接出的所有数字中最小的一个。\n",
    "\n",
    "示例 1:\n",
    "\n",
    "输入: [10,2]\n",
    "输出: \"102\"\n",
    "示例2:\n",
    "\n",
    "输入: [3,30,34,5,9]\n",
    "输出: \"3033459\"\n",
    "\n",
    "提示:\n",
    "\n",
    "0 < nums.length <= 100\n",
    "说明:\n",
    "\n",
    "输出结果可能非常大，所以你需要返回一个字符串而不是整数\n",
    "拼接起来的数字可能会有前导 0，最后结果不需要去掉前导 0\n",
    "\n",
    "来源：力扣（LeetCode）\n",
    "链接：https://leetcode.cn/problems/ba-shu-zu-pai-cheng-zui-xiao-de-shu-lcof\n",
    "著作权归领扣网络所有。商业转载请联系官方授权，非商业转载请注明出处。"
   ]
  },
  {
   "cell_type": "code",
   "execution_count": null,
   "outputs": [],
   "source": [
    "class Solution:\n",
    "    def minNumber(self, nums: List[int]) -> str:\n",
    "        # 首先将数字数组转换为字符串列表\n",
    "        max_n = 1\n",
    "        nums_str = []\n",
    "        for n in nums:\n",
    "            num_str = str(n)\n",
    "            if len(num_str) > max_n:\n",
    "                max_n = len(num_str)\n",
    "            nums_str.append(num_str)\n",
    "\n",
    "        \n",
    "\n",
    "        # # 从低位开始排序\n",
    "        # for i in range(max_n):\n",
    "        #     # 这里采用选择排序\n",
    "        #     for idx in range(len(nums_str)-1):\n",
    "        #         cur_min_index = idx\n",
    "        #         # 当前选择轮的最小元素的位数的数字\n",
    "        #         cur_min_num_str = nums_str[idx]\n",
    "        #         # 如果当前元素的当前位没有，用高位来比较\n",
    "        #         if len(cur_min_num_str) < i+1:\n",
    "        #             cur_min_digit = cur_min_num_str[i-1]\n",
    "        #         else:\n",
    "        #             cur_min_digit = cur_min_num_str[i]\n",
    "        #\n",
    "        #         for index in range(idx+1, len(nums_str)):\n",
    "        #             cur_num_str = nums_str[index]\n",
    "        #             # 如果当前元素的当前位没有，用高位来比较\n",
    "        #             if len(cur_num_str) < i+1:\n",
    "        #                 cur_digit = cur_num_str[i-1]\n",
    "        #             else:\n",
    "        #                 cur_digit = cur_num_str[i]\n",
    "        #             # 比较\n",
    "        #             if cur_digit < cur_min_digit:\n",
    "        #                 cur_min_digit = cur_digit\n",
    "        #                 cur_min_index = index\n",
    "        #\n",
    "        #         # 将两个字符串交换位置\n",
    "        #         nums_str[idx], nums_str[cur_min_index] = nums_str[cur_min_index], nums_str[idx]\n",
    "\n",
    "        return ''.join(nums_str)"
   ],
   "metadata": {
    "collapsed": false,
    "pycharm": {
     "name": "#%%\n"
    }
   }
  }
 ],
 "metadata": {
  "kernelspec": {
   "display_name": "Python 3",
   "language": "python",
   "name": "python3"
  },
  "language_info": {
   "codemirror_mode": {
    "name": "ipython",
    "version": 2
   },
   "file_extension": ".py",
   "mimetype": "text/x-python",
   "name": "python",
   "nbconvert_exporter": "python",
   "pygments_lexer": "ipython2",
   "version": "2.7.6"
  }
 },
 "nbformat": 4,
 "nbformat_minor": 0
}