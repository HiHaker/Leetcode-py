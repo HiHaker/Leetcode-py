{
 "cells": [
  {
   "cell_type": "markdown",
   "metadata": {
    "collapsed": true,
    "pycharm": {
     "name": "#%% md\n"
    }
   },
   "source": [
    "用两个栈实现一个队列。队列的声明如下，请实现它的两个函数 appendTail 和 deleteHead ，分别完成在队列尾部插入整数和在队列头部删除整数的功能。(若队列中没有元素，deleteHead操作返回 -1 )\n",
    "\n",
    "示例 1：\n",
    "\n",
    "输入：\n",
    "[\"CQueue\",\"appendTail\",\"deleteHead\",\"deleteHead\"]\n",
    "[[],[3],[],[]]\n",
    "输出：[null,null,3,-1]\n",
    "示例 2：\n",
    "\n",
    "输入：\n",
    "[\"CQueue\",\"deleteHead\",\"appendTail\",\"appendTail\",\"deleteHead\",\"deleteHead\"]\n",
    "[[],[],[5],[2],[],[]]\n",
    "输出：[null,-1,null,null,5,2]\n",
    "提示：\n",
    "\n",
    "1 <= values <= 10000\n",
    "最多会对appendTail、deleteHead 进行10000次调用\n",
    "\n",
    "来源：力扣（LeetCode）\n",
    "链接：https://leetcode-cn.com/problems/yong-liang-ge-zhan-shi-xian-dui-lie-lcof\n",
    "著作权归领扣网络所有。商业转载请联系官方授权，非商业转载请注明出处。"
   ]
  },
  {
   "cell_type": "code",
   "execution_count": null,
   "outputs": [],
   "source": [
    "# class CQueue(object):\n",
    "#\n",
    "#     def __init__(self):\n",
    "#         self.s1 = []\n",
    "#         self.s2 = []\n",
    "#\n",
    "#     def appendTail(self, value):\n",
    "#         \"\"\"\n",
    "#         :type value: int\n",
    "#         :rtype: None\n",
    "#         \"\"\"\n",
    "#         if len(self.s1) == 0:\n",
    "#             self.s2.append(value)\n",
    "#         else:\n",
    "#             self.s1.append(value)\n",
    "#\n",
    "#     def delete(self, sa, sb):\n",
    "#         while len(sa) > 1:\n",
    "#             sb.append(sa.pop())\n",
    "#         ret = sa.pop()\n",
    "#         while len(sb) > 0:\n",
    "#             sa.append(sb.pop())\n",
    "#         return ret\n",
    "#\n",
    "#     def deleteHead(self):\n",
    "#         \"\"\"\n",
    "#         :rtype: int\n",
    "#         \"\"\"\n",
    "#         if len(self.s1) == 0 and len(self.s2) == 0:\n",
    "#             return -1\n",
    "#         elif len(self.s1) == 0:\n",
    "#             return self.delete(self.s2, self.s1)\n",
    "#         elif len(self.s2) == 0:\n",
    "#             return self.delete(self.s1, self.s2)\n",
    "\n",
    "# 更优的解法\n",
    "class CQueue:\n",
    "    def __init__(self):\n",
    "        self.A, self.B = [], []\n",
    "\n",
    "    def appendTail(self, value: int) -> None:\n",
    "        self.A.append(value)\n",
    "\n",
    "    def deleteHead(self) -> int:\n",
    "        if self.B: return self.B.pop()\n",
    "        if not self.A: return -1\n",
    "        while self.A:\n",
    "            self.B.append(self.A.pop())\n",
    "        return self.B.pop()\n",
    "\n",
    "\n",
    "# Your CQueue object will be instantiated and called as such:\n",
    "# obj = CQueue()\n",
    "# obj.appendTail(value)\n",
    "# param_2 = obj.deleteHead()"
   ],
   "metadata": {
    "collapsed": false,
    "pycharm": {
     "name": "#%%\n"
    }
   }
  }
 ],
 "metadata": {
  "kernelspec": {
   "display_name": "Python 3",
   "language": "python",
   "name": "python3"
  },
  "language_info": {
   "codemirror_mode": {
    "name": "ipython",
    "version": 2
   },
   "file_extension": ".py",
   "mimetype": "text/x-python",
   "name": "python",
   "nbconvert_exporter": "python",
   "pygments_lexer": "ipython2",
   "version": "2.7.6"
  }
 },
 "nbformat": 4,
 "nbformat_minor": 0
}