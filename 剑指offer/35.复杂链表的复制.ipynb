{
 "cells": [
  {
   "cell_type": "markdown",
   "metadata": {
    "collapsed": true,
    "pycharm": {
     "name": "#%% md\n"
    }
   },
   "source": [
    "请实现 copyRandomList 函数，复制一个复杂链表。在复杂链表中，每个节点除了有一个 next 指针指向下一个节点，还有一个 random 指针指向链表中的任意节点或者 null。\n",
    "\n",
    "来源：力扣（LeetCode）\n",
    "链接：https://leetcode-cn.com/problems/fu-za-lian-biao-de-fu-zhi-lcof\n",
    "著作权归领扣网络所有。商业转载请联系官方授权，非商业转载请注明出处。"
   ]
  },
  {
   "cell_type": "code",
   "execution_count": null,
   "outputs": [],
   "source": [
    "\n",
    "# Definition for a Node.\n",
    "class Node:\n",
    "    def __init__(self, x: int, next: 'Node' = None, random: 'Node' = None):\n",
    "        self.val = int(x)\n",
    "        self.next = next\n",
    "        self.random = random\n",
    "\n",
    "class Solution:\n",
    "    def copyRandomList(self, head: 'Node') -> 'Node':\n",
    "        # 创建一个虚拟头结点\n",
    "        dummy_head = Node(0)\n",
    "        temp = dummy_head\n",
    "\n",
    "        node_map = {}\n",
    "\n",
    "        while head is not None:\n",
    "            # 复制当前结点\n",
    "            if head in node_map:\n",
    "                temp.next = node_map[head]\n",
    "            else:\n",
    "                temp.next = Node(head.val)\n",
    "                node_map[head] = temp.next\n",
    "\n",
    "            # 指针移到当前结点\n",
    "            temp = temp.next\n",
    "\n",
    "            # 复制random\n",
    "            if head.random is not None:\n",
    "                if head.random in node_map:\n",
    "                    temp.random = node_map[head.random]\n",
    "                else:\n",
    "                    temp.random = Node(head.random.val)\n",
    "                    node_map[head.random] = temp.random\n",
    "\n",
    "            # 指针移动\n",
    "            head = head.next\n",
    "\n",
    "        return dummy_head.next\n"
   ],
   "metadata": {
    "collapsed": false,
    "pycharm": {
     "name": "#%%\n"
    }
   }
  }
 ],
 "metadata": {
  "kernelspec": {
   "display_name": "Python 3",
   "language": "python",
   "name": "python3"
  },
  "language_info": {
   "codemirror_mode": {
    "name": "ipython",
    "version": 2
   },
   "file_extension": ".py",
   "mimetype": "text/x-python",
   "name": "python",
   "nbconvert_exporter": "python",
   "pygments_lexer": "ipython2",
   "version": "2.7.6"
  }
 },
 "nbformat": 4,
 "nbformat_minor": 0
}