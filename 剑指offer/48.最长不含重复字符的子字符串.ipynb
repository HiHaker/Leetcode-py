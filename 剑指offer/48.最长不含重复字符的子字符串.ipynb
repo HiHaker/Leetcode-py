{
 "cells": [
  {
   "cell_type": "markdown",
   "metadata": {
    "collapsed": true,
    "pycharm": {
     "name": "#%% md\n"
    }
   },
   "source": [
    "请从字符串中找出一个最长的不包含重复字符的子字符串，计算该最长子字符串的长度。\n",
    "\n",
    "示例1:\n",
    "\n",
    "输入: \"abcabcbb\"\n",
    "输出: 3\n",
    "解释: 因为无重复字符的最长子串是 \"abc\"，所以其长度为 3。\n",
    "示例 2:\n",
    "\n",
    "输入: \"bbbbb\"\n",
    "输出: 1\n",
    "解释: 因为无重复字符的最长子串是 \"b\"，所以其长度为 1。\n",
    "示例 3:\n",
    "\n",
    "输入: \"pwwkew\"\n",
    "输出: 3\n",
    "解释: 因为无重复字符的最长子串是\"wke\"，所以其长度为 3。\n",
    "    请注意，你的答案必须是 子串 的长度，\"pwke\"是一个子序列，不是子串。\n",
    "\n",
    "\n",
    "提示：\n",
    "\n",
    "s.length <= 40000\n",
    "\n",
    "来源：力扣（LeetCode）\n",
    "链接：https://leetcode.cn/problems/zui-chang-bu-han-zhong-fu-zi-fu-de-zi-zi-fu-chuan-lcof\n",
    "著作权归领扣网络所有。商业转载请联系官方授权，非商业转载请注明出处。"
   ]
  },
  {
   "cell_type": "code",
   "execution_count": null,
   "outputs": [],
   "source": [
    "class Solution:\n",
    "    def lengthOfLongestSubstring(self, s: str) -> int:\n",
    "        # 子串起始指针\n",
    "        start = 0\n",
    "        # 子串尾指针\n",
    "        end = 0\n",
    "        # 计数列表\n",
    "        count = []\n",
    "\n",
    "        while start < len(s):\n",
    "            # 子串中包含的元素集合\n",
    "            e_set = set([])\n",
    "            e_set.add(s[start])\n",
    "            # 当前计数置为1\n",
    "            cur_count = 1\n",
    "            end = start + 1\n",
    "            # 不断向后检查\n",
    "            while end < len(s):\n",
    "                if s[end] not in e_set:\n",
    "                    e_set.add(s[end])\n",
    "                    cur_count += 1\n",
    "                    # 尾指针移动\n",
    "                    end += 1\n",
    "                else:\n",
    "                    break\n",
    "            count.append(cur_count)\n",
    "            # 起始指针移动\n",
    "            start += 1\n",
    "\n",
    "        if len(count) == 0:\n",
    "            return 0\n",
    "        return max(count)"
   ],
   "metadata": {
    "collapsed": false,
    "pycharm": {
     "name": "#%%\n"
    }
   }
  }
 ],
 "metadata": {
  "kernelspec": {
   "display_name": "Python 3",
   "language": "python",
   "name": "python3"
  },
  "language_info": {
   "codemirror_mode": {
    "name": "ipython",
    "version": 2
   },
   "file_extension": ".py",
   "mimetype": "text/x-python",
   "name": "python",
   "nbconvert_exporter": "python",
   "pygments_lexer": "ipython2",
   "version": "2.7.6"
  }
 },
 "nbformat": 4,
 "nbformat_minor": 0
}