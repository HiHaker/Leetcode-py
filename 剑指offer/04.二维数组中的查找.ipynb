{
 "cells": [
  {
   "cell_type": "markdown",
   "metadata": {
    "collapsed": true,
    "pycharm": {
     "name": "#%% md\n"
    }
   },
   "source": [
    "在一个 n * m 的二维数组中，每一行都按照从左到右递增的顺序排序，每一列都按照从上到下递增的顺序排序。请完成一个高效的函数，输入这样的一个二维数组和一个整数，判断数组中是否含有该整数。\n",
    "\n",
    "示例:\n",
    "\n",
    "现有矩阵 matrix 如下：\n",
    "\n",
    "[\n",
    "  [1,   4,  7, 11, 15],\n",
    "  [2,   5,  8, 12, 19],\n",
    "  [3,   6,  9, 16, 22],\n",
    "  [10, 13, 14, 17, 24],\n",
    "  [18, 21, 23, 26, 30]\n",
    "]\n",
    "给定 target = 5，返回 true。\n",
    "\n",
    "给定 target = 20，返回 false。\n",
    "\n",
    "限制：\n",
    "\n",
    "0 <= n <= 1000\n",
    "\n",
    "0 <= m <= 1000\n",
    "\n",
    "来源：力扣（LeetCode）\n",
    "链接：https://leetcode-cn.com/problems/er-wei-shu-zu-zhong-de-cha-zhao-lcof\n",
    "著作权归领扣网络所有。商业转载请联系官方授权，非商业转载请注明出处。"
   ]
  },
  {
   "cell_type": "markdown",
   "source": [
    "算法：从数组的右上角开始查找，如果当前值大于target，向左移动；否则向右移动"
   ],
   "metadata": {
    "collapsed": false,
    "pycharm": {
     "name": "#%% md\n"
    }
   }
  },
  {
   "cell_type": "code",
   "execution_count": 3,
   "outputs": [],
   "source": [
    "class Solution:\n",
    "    def findNumberIn2DArray(self, matrix: list[list[int]], target: int) -> bool:\n",
    "        if len(matrix) == 0 or len(matrix[0]) == 0:\n",
    "            return False\n",
    "\n",
    "        row = 0\n",
    "        col = len(matrix[0]) - 1\n",
    "\n",
    "        while row <= len(matrix)-1 and col >= 0:\n",
    "            if matrix[row][col] == target:\n",
    "                return True\n",
    "            elif matrix[row][col] > target:\n",
    "                # 向左移动\n",
    "                col -= 1\n",
    "            elif matrix[row][col] < target:\n",
    "                # 向下移动\n",
    "                row += 1\n",
    "\n",
    "        return False\n"
   ],
   "metadata": {
    "collapsed": false,
    "pycharm": {
     "name": "#%%\n"
    }
   }
  },
  {
   "cell_type": "code",
   "execution_count": 4,
   "outputs": [],
   "source": [
    "import math\n",
    "\n",
    "def binarySearch(nums: list[int], target:int) -> int:\n",
    "\n",
    "    l = 0\n",
    "    r = len(nums)\n",
    "\n",
    "    # 在行中查找\n",
    "    while l <= r:\n",
    "        # 计算mid\n",
    "        mid = math.floor((l + r) / 2)\n",
    "        if target < nums[mid]:\n",
    "            r = mid-1\n",
    "        elif target > nums[mid]:\n",
    "            l = mid+1\n",
    "        else:\n",
    "            return True\n",
    "\n",
    "    return False"
   ],
   "metadata": {
    "collapsed": false,
    "pycharm": {
     "name": "#%%\n"
    }
   }
  },
  {
   "cell_type": "code",
   "execution_count": 7,
   "outputs": [
    {
     "name": "stdout",
     "output_type": "stream",
     "text": [
      "True\n"
     ]
    }
   ],
   "source": [
    "l = [1,4,7,11,15]\n",
    "print(binarySearch(l, 11))"
   ],
   "metadata": {
    "collapsed": false,
    "pycharm": {
     "name": "#%%\n"
    }
   }
  },
  {
   "cell_type": "code",
   "execution_count": null,
   "outputs": [],
   "source": [],
   "metadata": {
    "collapsed": false,
    "pycharm": {
     "name": "#%%\n"
    }
   }
  }
 ],
 "metadata": {
  "kernelspec": {
   "display_name": "Python 3",
   "language": "python",
   "name": "python3"
  },
  "language_info": {
   "codemirror_mode": {
    "name": "ipython",
    "version": 2
   },
   "file_extension": ".py",
   "mimetype": "text/x-python",
   "name": "python",
   "nbconvert_exporter": "python",
   "pygments_lexer": "ipython2",
   "version": "2.7.6"
  }
 },
 "nbformat": 4,
 "nbformat_minor": 0
}