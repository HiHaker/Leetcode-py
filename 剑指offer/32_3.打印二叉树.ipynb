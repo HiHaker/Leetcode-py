{
 "cells": [
  {
   "cell_type": "markdown",
   "metadata": {
    "collapsed": true,
    "pycharm": {
     "name": "#%% md\n"
    }
   },
   "source": [
    "请实现一个函数按照之字形顺序打印二叉树，即第一行按照从左到右的顺序打印，第二层按照从右到左的顺序打印，第三行再按照从左到右的顺序打印，其他行以此类推。\n",
    "\n",
    "例如:\n",
    "给定二叉树:[3,9,20,null,null,15,7],\n",
    "\n",
    "    3\n",
    "   / \\\n",
    "  9  20\n",
    "    /  \\\n",
    "   15   7\n",
    "返回其层次遍历结果：\n",
    "\n",
    "[\n",
    "  [3],\n",
    "  [20,9],\n",
    "  [15,7]\n",
    "]\n",
    "\n",
    "提示：\n",
    "\n",
    "节点总数 <= 1000\n",
    "\n",
    "来源：力扣（LeetCode）\n",
    "链接：https://leetcode-cn.com/problems/cong-shang-dao-xia-da-yin-er-cha-shu-iii-lcof\n",
    "著作权归领扣网络所有。商业转载请联系官方授权，非商业转载请注明出处。"
   ]
  },
  {
   "cell_type": "code",
   "execution_count": null,
   "outputs": [],
   "source": [
    "# Definition for a binary tree node.\n",
    "class TreeNode:\n",
    "    def __init__(self, x):\n",
    "        self.val = x\n",
    "        self.left = None\n",
    "        self.right = None\n",
    "\n",
    "class MyNode:\n",
    "    def __init__(self, node, depth):\n",
    "        self.node = node\n",
    "        self.depth = depth\n",
    "\n",
    "class Solution:\n",
    "    def levelOrder(self, root: TreeNode) -> List[List[int]]:\n",
    "        # 创建一个队列\n",
    "        q = []\n",
    "        ret = []\n",
    "        depth = 0\n",
    "\n",
    "        # 将根节点入队\n",
    "        q.append(MyNode(root, depth))\n",
    "        if root is not None:\n",
    "            ret.append([])\n",
    "\n",
    "        while len(q) > 0:\n",
    "            temp_node = q.pop(0)\n",
    "            # 数据结点和深度\n",
    "            data, temp_depth = temp_node.node, temp_node.depth\n",
    "            # 如果node为空，继续\n",
    "            if data is None:\n",
    "                continue\n",
    "            # 查看当前结点的深度是否符合，如果符合就往当前深度的列表添加元素\n",
    "            if temp_depth > depth:\n",
    "                depth += 1\n",
    "                ret.append([])\n",
    "            # 添加元素\n",
    "            ret[depth].append(data.val)\n",
    "\n",
    "            # 添加下一层结点\n",
    "            q.append(MyNode(data.left, depth+1))\n",
    "            q.append(MyNode(data.right, depth+1))\n",
    "\n",
    "        for i in range(len(ret)):\n",
    "            if i%2 == 1:\n",
    "                ret[i] = ret[i][-1::-1]\n",
    "\n",
    "        return ret"
   ],
   "metadata": {
    "collapsed": false,
    "pycharm": {
     "name": "#%%\n"
    }
   }
  },
  {
   "cell_type": "code",
   "execution_count": 3,
   "outputs": [
    {
     "data": {
      "text/plain": "[3, 2, 1]"
     },
     "execution_count": 3,
     "metadata": {},
     "output_type": "execute_result"
    }
   ],
   "source": [
    "l = [1,2,3]\n",
    "l[-1::-1]"
   ],
   "metadata": {
    "collapsed": false,
    "pycharm": {
     "name": "#%%\n"
    }
   }
  },
  {
   "cell_type": "code",
   "execution_count": null,
   "outputs": [],
   "source": [],
   "metadata": {
    "collapsed": false,
    "pycharm": {
     "name": "#%%\n"
    }
   }
  }
 ],
 "metadata": {
  "kernelspec": {
   "display_name": "Python 3",
   "language": "python",
   "name": "python3"
  },
  "language_info": {
   "codemirror_mode": {
    "name": "ipython",
    "version": 2
   },
   "file_extension": ".py",
   "mimetype": "text/x-python",
   "name": "python",
   "nbconvert_exporter": "python",
   "pygments_lexer": "ipython2",
   "version": "2.7.6"
  }
 },
 "nbformat": 4,
 "nbformat_minor": 0
}