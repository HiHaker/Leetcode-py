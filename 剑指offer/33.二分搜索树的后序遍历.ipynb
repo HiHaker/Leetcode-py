{
 "cells": [
  {
   "cell_type": "markdown",
   "metadata": {
    "collapsed": true,
    "pycharm": {
     "name": "#%% md\n"
    }
   },
   "source": [
    "输入一个整数数组，判断该数组是不是某二叉搜索树的后序遍历结果。如果是则返回true，否则返回false。假设输入的数组的任意两个数字都互不相同。\n",
    "\n",
    "参考以下这颗二叉搜索树：\n",
    "\n",
    "     5\n",
    "    / \\\n",
    "   2   6\n",
    "  / \\\n",
    " 1   3\n",
    "示例 1：\n",
    "\n",
    "输入: [1,6,3,2,5]\n",
    "输出: false\n",
    "示例 2：\n",
    "\n",
    "输入: [1,3,2,6,5]\n",
    "输出: true\n",
    "\n",
    "提示：\n",
    "\n",
    "数组长度 <= 1000\n",
    "\n",
    "来源：力扣（LeetCode）\n",
    "链接：https://leetcode-cn.com/problems/er-cha-sou-suo-shu-de-hou-xu-bian-li-xu-lie-lcof\n",
    "著作权归领扣网络所有。商业转载请联系官方授权，非商业转载请注明出处。"
   ]
  },
  {
   "cell_type": "code",
   "execution_count": null,
   "outputs": [],
   "source": [
    "class Solution:\n",
    "    def verifyPostorder(self, postorder: List[int]) -> bool:\n",
    "        # 递归出口：列表长度小于等于1\n",
    "        if len(postorder) <= 1:\n",
    "            return True\n",
    "\n",
    "        # 根结点\n",
    "        root_node = postorder[len(postorder)-1]\n",
    "        # 划分左右子树\n",
    "        # 从左往右找到第一个大于根结点的\n",
    "        idx = len(postorder)-1\n",
    "        for i in range(len(postorder)-1):\n",
    "            if postorder[i] > root_node:\n",
    "                idx = i\n",
    "                break\n",
    "\n",
    "        # 根结点大于左子树所有元素，小于右子树所有元素\n",
    "        left_l = postorder[:idx]\n",
    "        right_l = postorder[idx:len(postorder)-1]\n",
    "        for i in left_l:\n",
    "            if i > root_node:\n",
    "                return False\n",
    "        for i in right_l:\n",
    "            if i < root_node:\n",
    "                return False\n",
    "\n",
    "        # 递归地判断左右子树的后序遍历列表是否正确\n",
    "        return self.verifyPostorder(left_l) and self.verifyPostorder(right_l)"
   ],
   "metadata": {
    "collapsed": false,
    "pycharm": {
     "name": "#%%\n"
    }
   }
  },
  {
   "cell_type": "code",
   "execution_count": 1,
   "outputs": [
    {
     "data": {
      "text/plain": "True"
     },
     "execution_count": 1,
     "metadata": {},
     "output_type": "execute_result"
    }
   ],
   "source": [
    "3 >= 2 >= 1"
   ],
   "metadata": {
    "collapsed": false,
    "pycharm": {
     "name": "#%%\n"
    }
   }
  },
  {
   "cell_type": "code",
   "execution_count": null,
   "outputs": [],
   "source": [],
   "metadata": {
    "collapsed": false,
    "pycharm": {
     "name": "#%%\n"
    }
   }
  }
 ],
 "metadata": {
  "kernelspec": {
   "display_name": "Python 3",
   "language": "python",
   "name": "python3"
  },
  "language_info": {
   "codemirror_mode": {
    "name": "ipython",
    "version": 2
   },
   "file_extension": ".py",
   "mimetype": "text/x-python",
   "name": "python",
   "nbconvert_exporter": "python",
   "pygments_lexer": "ipython2",
   "version": "2.7.6"
  }
 },
 "nbformat": 4,
 "nbformat_minor": 0
}