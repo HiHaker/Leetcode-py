{
 "cells": [
  {
   "cell_type": "markdown",
   "metadata": {
    "collapsed": true,
    "pycharm": {
     "name": "#%% md\n"
    }
   },
   "source": [
    "请定义一个队列并实现函数 max_value 得到队列里的最大值，要求函数max_value、push_back 和 pop_front 的均摊时间复杂度都是O(1)。\n",
    "\n",
    "若队列为空，pop_front 和 max_value需要返回 -1\n",
    "\n",
    "示例 1：\n",
    "\n",
    "输入:\n",
    "[\"MaxQueue\",\"push_back\",\"push_back\",\"max_value\",\"pop_front\",\"max_value\"]\n",
    "[[],[1],[2],[],[],[]]\n",
    "输出:[null,null,null,2,1,2]\n",
    "示例 2：\n",
    "\n",
    "输入:\n",
    "[\"MaxQueue\",\"pop_front\",\"max_value\"]\n",
    "[[],[],[]]\n",
    "输出:[null,-1,-1]\n",
    "\n",
    "限制：\n",
    "\n",
    "1 <= push_back,pop_front,max_value的总操作数<= 10000\n",
    "1 <= value <= 10^5\n",
    "\n",
    "来源：力扣（LeetCode）\n",
    "链接：https://leetcode.cn/problems/dui-lie-de-zui-da-zhi-lcof\n",
    "著作权归领扣网络所有。商业转载请联系官方授权，非商业转载请注明出处。"
   ]
  },
  {
   "cell_type": "code",
   "execution_count": null,
   "outputs": [],
   "source": [
    "class MaxQueue:\n",
    "\n",
    "    def __init__(self):\n",
    "\n",
    "\n",
    "    def max_value(self) -> int:\n",
    "\n",
    "    def push_back(self, value: int) -> None:\n",
    "\n",
    "\n",
    "    def pop_front(self) -> int:\n",
    "\n",
    "\n",
    "\n",
    "# Your MaxQueue object will be instantiated and called as such:\n",
    "# obj = MaxQueue()\n",
    "# param_1 = obj.max_value()\n",
    "# obj.push_back(value)\n",
    "# param_3 = obj.pop_front()"
   ],
   "metadata": {
    "collapsed": false,
    "pycharm": {
     "name": "#%%\n"
    }
   }
  }
 ],
 "metadata": {
  "kernelspec": {
   "display_name": "Python 3",
   "language": "python",
   "name": "python3"
  },
  "language_info": {
   "codemirror_mode": {
    "name": "ipython",
    "version": 2
   },
   "file_extension": ".py",
   "mimetype": "text/x-python",
   "name": "python",
   "nbconvert_exporter": "python",
   "pygments_lexer": "ipython2",
   "version": "2.7.6"
  }
 },
 "nbformat": 4,
 "nbformat_minor": 0
}