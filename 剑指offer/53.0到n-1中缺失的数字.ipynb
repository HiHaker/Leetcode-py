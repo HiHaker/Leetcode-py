{
 "cells": [
  {
   "cell_type": "markdown",
   "metadata": {
    "collapsed": true,
    "pycharm": {
     "name": "#%% md\n"
    }
   },
   "source": [
    "一个长度为n-1的递增排序数组中的所有数字都是唯一的，并且每个数字都在范围0～n-1之内。在范围0～n-1内的n个数字中有且只有一个数字不在该数组中，请找出这个数字。\n",
    "\n",
    "\n",
    "示例 1:\n",
    "\n",
    "输入: [0,1,3]\n",
    "输出: 2\n",
    "示例2:\n",
    "\n",
    "输入: [0,1,2,3,4,5,6,7,9]\n",
    "输出: 8\n",
    "\n",
    "限制：\n",
    "\n",
    "1 <= 数组长度 <= 10000\n",
    "\n",
    "来源：力扣（LeetCode）\n",
    "链接：https://leetcode.cn/problems/que-shi-de-shu-zi-lcof\n",
    "著作权归领扣网络所有。商业转载请联系官方授权，非商业转载请注明出处。"
   ]
  },
  {
   "cell_type": "code",
   "execution_count": null,
   "outputs": [],
   "source": [
    "class Solution:\n",
    "    def missingNumber(self, nums: List[int]) -> int:\n",
    "        # 由题意得，完整的数组长度是n，而里面的数字是唯一且递增的\n",
    "        # 所以原数组里的数字是0~n-1顺序排列的，和数组索引一一对应\n",
    "        # 现在出去了一个数字，要找出，所以还是使用二分法\n",
    "\n",
    "        # 左边界\n",
    "        left = 0\n",
    "        # 右边界\n",
    "        right = len(nums)-1\n",
    "\n",
    "        # 循环条件\n",
    "        while left <= right:\n",
    "            # 计算中点\n",
    "            mid = int((left+right)/2)\n",
    "            # 如果此时中点对应，那么说明缺失的数字在右边\n",
    "            if nums[mid] == mid:\n",
    "                left = mid+1\n",
    "            else:\n",
    "                right = mid-1\n",
    "\n",
    "        if nums[mid] == mid:\n",
    "            return mid+1\n",
    "        else:\n",
    "            return mid"
   ],
   "metadata": {
    "collapsed": false,
    "pycharm": {
     "name": "#%%\n"
    }
   }
  }
 ],
 "metadata": {
  "kernelspec": {
   "display_name": "Python 3",
   "language": "python",
   "name": "python3"
  },
  "language_info": {
   "codemirror_mode": {
    "name": "ipython",
    "version": 2
   },
   "file_extension": ".py",
   "mimetype": "text/x-python",
   "name": "python",
   "nbconvert_exporter": "python",
   "pygments_lexer": "ipython2",
   "version": "2.7.6"
  }
 },
 "nbformat": 4,
 "nbformat_minor": 0
}