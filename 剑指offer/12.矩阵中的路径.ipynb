{
 "cells": [
  {
   "cell_type": "markdown",
   "metadata": {
    "collapsed": true,
    "pycharm": {
     "name": "#%% md\n"
    }
   },
   "source": [
    "给定一个m x n 二维字符网格board 和一个字符串单词word 。如果word 存在于网格中，返回 true ；否则，返回 false 。\n",
    "\n",
    "单词必须按照字母顺序，通过相邻的单元格内的字母构成，其中“相邻”单元格是那些水平相邻或垂直相邻的单元格。同一个单元格内的字母不允许被重复使用。\n",
    "\n",
    "\n",
    "例如，在下面的 3×4 的矩阵中包含单词 \"ABCCED\"（单词中的字母已标出）。\n",
    "\n",
    "来源：力扣（LeetCode）\n",
    "链接：https://leetcode-cn.com/problems/ju-zhen-zhong-de-lu-jing-lcof\n",
    "著作权归领扣网络所有。商业转载请联系官方授权，非商业转载请注明出处。"
   ]
  },
  {
   "cell_type": "code",
   "execution_count": 93,
   "outputs": [],
   "source": [
    "class Solution:\n",
    "\n",
    "    # 递归地到下一个节点进行匹配\n",
    "    def search_next(self, row: int, col:int, idx:int) -> bool:\n",
    "        if idx == len(self.word):\n",
    "            print(idx)\n",
    "            return True\n",
    "        # 上\n",
    "        if '{}{}'.format(row-1,col) not in self.visited and (row-1)>=0 and self.board[row-1][col] == self.word[idx]:\n",
    "            self.visited.append('{}{}'.format(row-1,col))\n",
    "            if self.search_next(row-1, col, idx+1):\n",
    "                return True\n",
    "\n",
    "        while len(self.visited) >= idx+1:\n",
    "            self.visited.pop()\n",
    "\n",
    "        # 下\n",
    "        if '{}{}'.format(row+1,col) not in self.visited and (row+1)<=len(self.board)-1 and self.board[row+1][col] == self.word[idx]:\n",
    "            self.visited.append('{}{}'.format(row+1,col))\n",
    "            if self.search_next(row+1, col, idx+1):\n",
    "                return True\n",
    "\n",
    "        while len(self.visited) >= idx+1:\n",
    "            self.visited.pop()\n",
    "\n",
    "        # 左\n",
    "        if '{}{}'.format(row,col-1) not in self.visited and (col-1)>=0 and self.board[row][col-1] == self.word[idx]:\n",
    "            self.visited.append('{}{}'.format(row,col-1))\n",
    "            if self.search_next(row, col-1, idx+1):\n",
    "                return True\n",
    "\n",
    "        while len(self.visited) >= idx+1:\n",
    "            self.visited.pop()\n",
    "\n",
    "        # 右\n",
    "        if '{}{}'.format(row,col+1) not in self.visited and (col+1)<=len(self.board[0])-1 and self.board[row][col+1] == self.word[idx]:\n",
    "            self.visited.append('{}{}'.format(row,col+1))\n",
    "            if self.search_next(row, col+1, idx+1):\n",
    "                return True\n",
    "        else:\n",
    "            return False\n",
    "\n",
    "    def exist(self, board: list[list[str]], word: str) -> bool:\n",
    "\n",
    "        self.board = board\n",
    "        self.word = word\n",
    "\n",
    "        for i in range(len(board)):\n",
    "            for j in range(len(board[0])):\n",
    "                # 从第一个字母匹配开始\n",
    "                if board[i][j] == word[0]:\n",
    "                    self.visited = []\n",
    "                    self.visited.append('{}{}'.format(i,j))\n",
    "                    if self.search_next(i, j, 1):\n",
    "                        return True\n",
    "        return False"
   ],
   "metadata": {
    "collapsed": false,
    "pycharm": {
     "name": "#%%\n"
    }
   }
  },
  {
   "cell_type": "code",
   "execution_count": 94,
   "outputs": [
    {
     "name": "stdout",
     "output_type": "stream",
     "text": [
      "10\n",
      "True\n",
      "['00', '01', '02', '03', '13', '23', '22', '12', '11', '10']\n"
     ]
    }
   ],
   "source": [
    "s = Solution()\n",
    "board = [[\"A\",\"B\",\"C\",\"E\"],[\"S\",\"F\",\"E\",\"S\"],[\"A\",\"D\",\"E\",\"E\"]]\n",
    "word = \"ABCESEEEFS\"\n",
    "print(s.exist(board, word))\n",
    "print(s.visited)"
   ],
   "metadata": {
    "collapsed": false,
    "pycharm": {
     "name": "#%%\n"
    }
   }
  },
  {
   "cell_type": "code",
   "execution_count": 73,
   "outputs": [
    {
     "name": "stdout",
     "output_type": "stream",
     "text": [
      "12\n"
     ]
    }
   ],
   "source": [
    "print('{}{}'.format(1,2))"
   ],
   "metadata": {
    "collapsed": false,
    "pycharm": {
     "name": "#%%\n"
    }
   }
  },
  {
   "cell_type": "code",
   "execution_count": null,
   "outputs": [],
   "source": [],
   "metadata": {
    "collapsed": false,
    "pycharm": {
     "name": "#%%\n"
    }
   }
  }
 ],
 "metadata": {
  "kernelspec": {
   "display_name": "Python 3",
   "language": "python",
   "name": "python3"
  },
  "language_info": {
   "codemirror_mode": {
    "name": "ipython",
    "version": 2
   },
   "file_extension": ".py",
   "mimetype": "text/x-python",
   "name": "python",
   "nbconvert_exporter": "python",
   "pygments_lexer": "ipython2",
   "version": "2.7.6"
  }
 },
 "nbformat": 4,
 "nbformat_minor": 0
}