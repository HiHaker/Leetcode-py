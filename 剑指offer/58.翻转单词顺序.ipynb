{
 "cells": [
  {
   "cell_type": "markdown",
   "metadata": {
    "collapsed": true,
    "pycharm": {
     "name": "#%% md\n"
    }
   },
   "source": [
    "输入一个英文句子，翻转句子中单词的顺序，但单词内字符的顺序不变。为简单起见，标点符号和普通字母一样处理。例如输入字符串\"I am a student. \"，则输出\"student. a am I\"。\n",
    "\n",
    "示例 1：\n",
    "\n",
    "输入: \"the sky is blue\"\n",
    "输出:\"blue is sky the\"\n",
    "示例 2：\n",
    "\n",
    "输入: \" hello world! \"\n",
    "输出:\"world! hello\"\n",
    "解释: 输入字符串可以在前面或者后面包含多余的空格，但是反转后的字符不能包括。\n",
    "示例 3：\n",
    "\n",
    "输入: \"a good example\"\n",
    "输出:\"example good a\"\n",
    "解释: 如果两个单词间有多余的空格，将反转后单词间的空格减少到只含一个。\n",
    "\n",
    "说明：\n",
    "\n",
    "无空格字符构成一个单词。\n",
    "输入字符串可以在前面或者后面包含多余的空格，但是反转后的字符不能包括。\n",
    "如果两个单词间有多余的空格，将反转后单词间的空格减少到只含一个。\n",
    "\n",
    "来源：力扣（LeetCode）\n",
    "链接：https://leetcode.cn/problems/fan-zhuan-dan-ci-shun-xu-lcof\n",
    "著作权归领扣网络所有。商业转载请联系官方授权，非商业转载请注明出处。"
   ]
  },
  {
   "cell_type": "code",
   "execution_count": null,
   "outputs": [],
   "source": [
    "class Solution:\n",
    "    def reverseWords(self, s: str) -> str:\n",
    "        # 去除首尾空格\n",
    "        s = s.strip()\n",
    "        # 单词列表\n",
    "        word_list = []\n",
    "        # 单词起始索引\n",
    "        start_idx = 0\n",
    "        # 单词结束索引\n",
    "        end_idx = 0\n",
    "        # 提取出列表里的所有单词\n",
    "        while end_idx <= len(s)-1:\n",
    "            # 提取单词\n",
    "            while end_idx < len(s) and s[end_idx] != ' ':\n",
    "                end_idx += 1\n",
    "\n",
    "            word_list.append(s[start_idx:end_idx])\n",
    "\n",
    "            # 过滤中间的空格\n",
    "            start_idx = end_idx+1\n",
    "            while start_idx < len(s) and s[start_idx] == ' ':\n",
    "                start_idx += 1\n",
    "\n",
    "            end_idx = start_idx\n",
    "\n",
    "        word_list.reverse()\n",
    "\n",
    "        return ' '.join(word_list)"
   ],
   "metadata": {
    "collapsed": false,
    "pycharm": {
     "name": "#%%\n"
    }
   }
  }
 ],
 "metadata": {
  "kernelspec": {
   "display_name": "Python 3",
   "language": "python",
   "name": "python3"
  },
  "language_info": {
   "codemirror_mode": {
    "name": "ipython",
    "version": 2
   },
   "file_extension": ".py",
   "mimetype": "text/x-python",
   "name": "python",
   "nbconvert_exporter": "python",
   "pygments_lexer": "ipython2",
   "version": "2.7.6"
  }
 },
 "nbformat": 4,
 "nbformat_minor": 0
}