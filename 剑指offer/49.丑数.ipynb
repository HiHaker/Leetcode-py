{
 "cells": [
  {
   "cell_type": "code",
   "execution_count": null,
   "metadata": {
    "collapsed": true
   },
   "outputs": [],
   "source": [
    "from heapq import *\n",
    "class Solution(object):\n",
    "    def nthUglyNumber(self, n):\n",
    "        \"\"\"\n",
    "        :type n: int\n",
    "        :rtype: int\n",
    "        \"\"\"\n",
    "\n",
    "        # 创建一个最小堆\n",
    "        h = [1]\n",
    "        num_count = {}\n",
    "        result = 0\n",
    "        for i in range(n):\n",
    "            result = heappop(h)\n",
    "            if result*2 not in num_count:\n",
    "                heappush(h, result*2)\n",
    "                num_count[result*2] = 1\n",
    "            if result*3 not in num_count:\n",
    "                heappush(h, result*3)\n",
    "                num_count[result*3] = 1\n",
    "            if result*5 not in num_count:\n",
    "                heappush(h, result*5)\n",
    "                num_count[result*5] = 1\n",
    "        return result"
   ]
  }
 ],
 "metadata": {
  "kernelspec": {
   "display_name": "Python 3",
   "language": "python",
   "name": "python3"
  },
  "language_info": {
   "codemirror_mode": {
    "name": "ipython",
    "version": 2
   },
   "file_extension": ".py",
   "mimetype": "text/x-python",
   "name": "python",
   "nbconvert_exporter": "python",
   "pygments_lexer": "ipython2",
   "version": "2.7.6"
  }
 },
 "nbformat": 4,
 "nbformat_minor": 0
}