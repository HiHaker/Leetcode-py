{
 "cells": [
  {
   "cell_type": "markdown",
   "metadata": {
    "collapsed": true,
    "pycharm": {
     "name": "#%% md\n"
    }
   },
   "source": [
    "在字符串 s 中找出第一个只出现一次的字符。如果没有，返回一个单空格。 s 只包含小写字母。\n",
    "\n",
    "示例 1:\n",
    "\n",
    "输入：s = \"abaccdeff\"\n",
    "输出：'b'\n",
    "示例 2:\n",
    "\n",
    "输入：s = \"\"\n",
    "输出：' '\n",
    "\n",
    "来源：力扣（LeetCode）\n",
    "链接：https://leetcode.cn/problems/di-yi-ge-zhi-chu-xian-yi-ci-de-zi-fu-lcof\n",
    "著作权归领扣网络所有。商业转载请联系官方授权，非商业转载请注明出处。"
   ]
  },
  {
   "cell_type": "code",
   "execution_count": null,
   "outputs": [],
   "source": [
    "class Solution:\n",
    "    def firstUniqChar(self, s: str) -> str:\n",
    "        # 字符字典\n",
    "        c_dict = {}\n",
    "        for c in s:\n",
    "            if c not in c_dict:\n",
    "                c_dict[c] = 1\n",
    "            else:\n",
    "                c_dict[c] += 1\n",
    "\n",
    "        for key in c_dict.keys():\n",
    "            if c_dict[key] == 1:\n",
    "                return key\n",
    "\n",
    "        return \" \"\n"
   ],
   "metadata": {
    "collapsed": false,
    "pycharm": {
     "name": "#%%\n"
    }
   }
  }
 ],
 "metadata": {
  "kernelspec": {
   "display_name": "Python 3",
   "language": "python",
   "name": "python3"
  },
  "language_info": {
   "codemirror_mode": {
    "name": "ipython",
    "version": 2
   },
   "file_extension": ".py",
   "mimetype": "text/x-python",
   "name": "python",
   "nbconvert_exporter": "python",
   "pygments_lexer": "ipython2",
   "version": "2.7.6"
  }
 },
 "nbformat": 4,
 "nbformat_minor": 0
}