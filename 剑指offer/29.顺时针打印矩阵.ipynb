{
 "cells": [
  {
   "cell_type": "markdown",
   "metadata": {
    "collapsed": true,
    "pycharm": {
     "name": "#%% md\n"
    }
   },
   "source": [
    "输入一个矩阵，按照从外向里以顺时针的顺序依次打印出每一个数字。\n",
    "\n",
    "示例 1：\n",
    "\n",
    "输入：matrix = [[1,2,3],[4,5,6],[7,8,9]]\n",
    "输出：[1,2,3,6,9,8,7,4,5]\n",
    "示例 2：\n",
    "\n",
    "输入：matrix =[[1,2,3,4],[5,6,7,8],[9,10,11,12]]\n",
    "输出：[1,2,3,4,8,12,11,10,9,5,6,7]\n",
    "\n",
    "限制：\n",
    "\n",
    "0 <= matrix.length <= 100\n",
    "0 <= matrix[i].length<= 100\n",
    "\n",
    "来源：力扣（LeetCode）\n",
    "链接：https://leetcode-cn.com/problems/shun-shi-zhen-da-yin-ju-zhen-lcof\n",
    "著作权归领扣网络所有。商业转载请联系官方授权，非商业转载请注明出处。"
   ]
  },
  {
   "cell_type": "code",
   "execution_count": null,
   "outputs": [],
   "source": [
    "class Solution:\n",
    "    def spiralOrder(self, matrix: list[list[int]]) -> list[int]:\n",
    "\n",
    "        if len(matrix) == 0:\n",
    "            return []\n",
    "\n",
    "        row, col = len(matrix), len(matrix[0])\n",
    "        size = row * col\n",
    "\n",
    "        i, j = 0, 0\n",
    "        val = 0\n",
    "        out = []\n",
    "\n",
    "\n",
    "        while True:\n",
    "\n",
    "            while j < col - val:\n",
    "                out.append(matrix[i][j])\n",
    "                j += 1\n",
    "\n",
    "            i += 1\n",
    "            j -= 1\n",
    "            while i < row - val:\n",
    "                out.append(matrix[i][j])\n",
    "                i += 1\n",
    "\n",
    "            if len(out) == size:\n",
    "                break\n",
    "\n",
    "            j -= 1\n",
    "            i -= 1\n",
    "            while j >= val:\n",
    "                out.append(matrix[i][j])\n",
    "                j -= 1\n",
    "\n",
    "            i -= 1\n",
    "            j += 1\n",
    "            while i >= val +1:\n",
    "                out.append(matrix[i][j])\n",
    "                i -= 1\n",
    "\n",
    "            if len(out) == size:\n",
    "                break\n",
    "            i, j, val = val+1, val+1, val+1\n",
    "\n",
    "        return out"
   ],
   "metadata": {
    "collapsed": false,
    "pycharm": {
     "name": "#%%\n"
    }
   }
  }
 ],
 "metadata": {
  "kernelspec": {
   "display_name": "Python 3",
   "language": "python",
   "name": "python3"
  },
  "language_info": {
   "codemirror_mode": {
    "name": "ipython",
    "version": 2
   },
   "file_extension": ".py",
   "mimetype": "text/x-python",
   "name": "python",
   "nbconvert_exporter": "python",
   "pygments_lexer": "ipython2",
   "version": "2.7.6"
  }
 },
 "nbformat": 4,
 "nbformat_minor": 0
}