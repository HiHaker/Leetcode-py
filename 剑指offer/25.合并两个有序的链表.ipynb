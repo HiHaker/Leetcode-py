{
 "cells": [
  {
   "cell_type": "markdown",
   "metadata": {
    "collapsed": true,
    "pycharm": {
     "name": "#%% md\n"
    }
   },
   "source": [
    "输入两个递增排序的链表，合并这两个链表并使新链表中的节点仍然是递增排序的。\n",
    "\n",
    "示例1：\n",
    "\n",
    "输入：1->2->4, 1->3->4\n",
    "输出：1->1->2->3->4->4\n",
    "限制：\n",
    "\n",
    "0 <= 链表长度 <= 1000\n",
    "\n",
    "来源：力扣（LeetCode）\n",
    "链接：https://leetcode-cn.com/problems/he-bing-liang-ge-pai-xu-de-lian-biao-lcof\n",
    "著作权归领扣网络所有。商业转载请联系官方授权，非商业转载请注明出处。"
   ]
  },
  {
   "cell_type": "code",
   "execution_count": null,
   "outputs": [],
   "source": [
    "# Definition for singly-linked list.\n",
    "class ListNode:\n",
    "    def __init__(self, x):\n",
    "        self.val = x\n",
    "        self.next = None\n",
    "\n",
    "class Solution:\n",
    "    def mergeTwoLists(self, l1: ListNode, l2: ListNode) -> ListNode:\n",
    "        # dh1, dh2 = ListNode(0), ListNode(0)\n",
    "        # dh1.next, dh2.next = l1, l2\n",
    "        temp1, temp2 = l1, l2\n",
    "        dummy_head = ListNode(0)\n",
    "        temp = dummy_head\n",
    "\n",
    "        while temp1 is not None and temp2 is not None:\n",
    "            if temp1.val <= temp2.val:\n",
    "                temp.next = ListNode(temp1.val)\n",
    "                temp = temp.next\n",
    "                temp1 = temp1.next\n",
    "            else:\n",
    "                temp.next = ListNode(temp2.val)\n",
    "                temp = temp.next\n",
    "                temp2 = temp2.next\n",
    "\n",
    "        if temp1 is None:\n",
    "            temp.next = temp2\n",
    "        else:\n",
    "            temp.next = temp1\n",
    "\n",
    "        return dummy_head.next"
   ],
   "metadata": {
    "collapsed": false,
    "pycharm": {
     "name": "#%%\n"
    }
   }
  }
 ],
 "metadata": {
  "kernelspec": {
   "display_name": "Python 3",
   "language": "python",
   "name": "python3"
  },
  "language_info": {
   "codemirror_mode": {
    "name": "ipython",
    "version": 2
   },
   "file_extension": ".py",
   "mimetype": "text/x-python",
   "name": "python",
   "nbconvert_exporter": "python",
   "pygments_lexer": "ipython2",
   "version": "2.7.6"
  }
 },
 "nbformat": 4,
 "nbformat_minor": 0
}