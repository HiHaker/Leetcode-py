{
 "cells": [
  {
   "cell_type": "markdown",
   "metadata": {
    "collapsed": true,
    "pycharm": {
     "name": "#%% md\n"
    }
   },
   "source": [
    "请实现一个函数用来判断字符串是否表示数值（包括整数和小数）。\n",
    "\n",
    "数值（按顺序）可以分成以下几个部分：\n",
    "\n",
    "若干空格\n",
    "一个小数或者整数\n",
    "（可选）一个'e'或'E'，后面跟着一个整数\n",
    "若干空格\n",
    "小数（按顺序）可以分成以下几个部分：\n",
    "\n",
    "（可选）一个符号字符（'+' 或 '-'）\n",
    "下述格式之一：\n",
    "至少一位数字，后面跟着一个点 '.'\n",
    "至少一位数字，后面跟着一个点 '.' ，后面再跟着至少一位数字\n",
    "一个点 '.' ，后面跟着至少一位数字\n",
    "整数（按顺序）可以分成以下几个部分：\n",
    "\n",
    "（可选）一个符号字符（'+' 或 '-'）\n",
    "至少一位数字\n",
    "部分数值列举如下：\n",
    "\n",
    "[\"+100\", \"5e2\", \"-123\", \"3.1416\", \"-1E-16\", \"0123\"]\n",
    "部分非数值列举如下：\n",
    "\n",
    "[\"12e\", \"1a3.14\", \"1.2.3\", \"+-5\", \"12e+5.4\"]\n",
    "\n",
    "示例 1：\n",
    "\n",
    "输入：s = \"0\"\n",
    "输出：true\n",
    "示例 2：\n",
    "\n",
    "输入：s = \"e\"\n",
    "输出：false\n",
    "示例 3：\n",
    "\n",
    "输入：s = \".\"\n",
    "输出：false\n",
    "示例 4：\n",
    "\n",
    "输入：s = \".1\"\n",
    "输出：true\n",
    "\n",
    "来源：力扣（LeetCode）\n",
    "链接：https://leetcode-cn.com/problems/biao-shi-shu-zhi-de-zi-fu-chuan-lcof\n",
    "著作权归领扣网络所有。商业转载请联系官方授权，非商业转载请注明出处。"
   ]
  },
  {
   "cell_type": "code",
   "execution_count": 18,
   "outputs": [],
   "source": [
    "class Solution:\n",
    "    def isNumber(self, s: str) -> bool:\n",
    "\n",
    "        inum = ['0','1','2','3','4','5','6','7','8','9']\n",
    "\n",
    "        # 判断字符串是否为整数\n",
    "        def numisint(sub:str)->bool:\n",
    "            if len(sub) >= 1:\n",
    "                for i in sub:\n",
    "                    if i not in inum:\n",
    "                        return False\n",
    "                return True\n",
    "            return False\n",
    "\n",
    "        # 判断字符串是否为小数\n",
    "        def numisdeci(sub:str, idx:int)->bool:\n",
    "            if sub[0] == '+' or sub[0] == '-':\n",
    "                sub = sub[1:]\n",
    "                idx += 1\n",
    "\n",
    "            if numisint(sub[:idx]) and sub[idx+1:] == '' or numisint(sub[idx+1:]) and sub[:idx] == '' or numisint(sub[:idx]) and numisint(sub[idx+1:]):\n",
    "                return True\n",
    "            return False\n",
    "\n",
    "        # 判断字符串是否为数值\n",
    "        def numisnum(sub:str):\n",
    "            for i in range(len(sub)):\n",
    "                if sub[i] == '.':\n",
    "                    return numisdeci(sub, i)\n",
    "\n",
    "            if sub[0] == '+' or sub[0] == '-':\n",
    "                sub = sub[1:]\n",
    "            return numisint(sub)\n",
    "\n",
    "        # 去除首尾空格\n",
    "        s = s.strip()\n",
    "\n",
    "        # 检查是否包含'e/E'\n",
    "        for i in range(len(s)):\n",
    "            if s[i] == 'e' or s[i] == 'E':\n",
    "                return numisnum(s[:i]) and numisint(s[i+1:])\n",
    "\n",
    "        return numisnum(s)"
   ],
   "metadata": {
    "collapsed": false,
    "pycharm": {
     "name": "#%%\n"
    }
   }
  },
  {
   "cell_type": "code",
   "execution_count": 19,
   "outputs": [
    {
     "data": {
      "text/plain": "False"
     },
     "execution_count": 19,
     "metadata": {},
     "output_type": "execute_result"
    },
    {
     "name": "stderr",
     "output_type": "stream",
     "text": [
      "Traceback (most recent call last):\n",
      "  File \"_pydevd_bundle\\pydevd_cython_win32_39_64.pyx\", line 1035, in _pydevd_bundle.pydevd_cython_win32_39_64.PyDBFrame.trace_dispatch\n",
      "  File \"C:\\Users\\Jianlong\\program\\JetBrains\\PyCharm 2021.3.2\\plugins\\python\\helpers-pro\\jupyter_debug\\pydev_jupyter_plugin.py\", line 144, in cmd_step_over\n",
      "    if _is_inside_jupyter_cell(frame, pydb):\n",
      "  File \"C:\\Users\\Jianlong\\program\\JetBrains\\PyCharm 2021.3.2\\plugins\\python\\helpers-pro\\jupyter_debug\\pydev_jupyter_plugin.py\", line 209, in _is_inside_jupyter_cell\n",
      "    if is_cell_filename(filename):\n",
      "  File \"C:\\Users\\Jianlong\\program\\JetBrains\\PyCharm 2021.3.2\\plugins\\python\\helpers-pro\\jupyter_debug\\pydev_jupyter_plugin.py\", line 220, in is_cell_filename\n",
      "    ipython_shell = get_ipython()\n",
      "NameError: name 'get_ipython' is not defined\n"
     ]
    }
   ],
   "source": [
    "s = \"-1E-16\"\n",
    "so = Solution()\n",
    "so.isNumber(s)"
   ],
   "metadata": {
    "collapsed": false,
    "pycharm": {
     "name": "#%%\n"
    }
   }
  },
  {
   "cell_type": "code",
   "execution_count": null,
   "outputs": [],
   "source": [],
   "metadata": {
    "collapsed": false,
    "pycharm": {
     "name": "#%%\n"
    }
   }
  }
 ],
 "metadata": {
  "kernelspec": {
   "display_name": "Python 3",
   "language": "python",
   "name": "python3"
  },
  "language_info": {
   "codemirror_mode": {
    "name": "ipython",
    "version": 2
   },
   "file_extension": ".py",
   "mimetype": "text/x-python",
   "name": "python",
   "nbconvert_exporter": "python",
   "pygments_lexer": "ipython2",
   "version": "2.7.6"
  }
 },
 "nbformat": 4,
 "nbformat_minor": 0
}