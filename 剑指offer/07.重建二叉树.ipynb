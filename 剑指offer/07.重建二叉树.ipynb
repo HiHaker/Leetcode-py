{
 "cells": [
  {
   "cell_type": "markdown",
   "metadata": {
    "collapsed": true,
    "pycharm": {
     "name": "#%% md\n"
    }
   },
   "source": [
    "输入某二叉树的前序遍历和中序遍历的结果，请构建该二叉树并返回其根节点。\n",
    "\n",
    "假设输入的前序遍历和中序遍历的结果中都不含重复的数字。\n",
    "\n",
    "示例 1:\n",
    "\n",
    "Input: preorder = [3,9,20,15,7], inorder = [9,3,15,20,7]\n",
    "Output: [3,9,20,null,null,15,7]\n",
    "示例 2:\n",
    "\n",
    "Input: preorder = [-1], inorder = [-1]\n",
    "Output: [-1]\n",
    "\n",
    "限制：\n",
    "\n",
    "0 <= 节点个数 <= 5000\n",
    "\n",
    "来源：力扣（LeetCode）\n",
    "链接：https://leetcode-cn.com/problems/zhong-jian-er-cha-shu-lcof\n",
    "著作权归领扣网络所有。商业转载请联系官方授权，非商业转载请注明出处。"
   ]
  },
  {
   "cell_type": "markdown",
   "source": [
    "思路\n",
    "\n",
    "因为前序遍历列表等于 [根节点, [左子树的前序遍历列表], [右子树的前序遍历列表]]\n",
    "中序遍历列表等于 [[左子树的中序遍历列表], 根节点, [右子树的中序遍历列表]]\n",
    "所以只要根据前序遍历列表的第一个元素（根节点）->在中序里找到根节点的位置->可以计算出左子树的节点数以及右子树的节点数->可以递归地构建左右子树"
   ],
   "metadata": {
    "collapsed": false,
    "pycharm": {
     "name": "#%% md\n"
    }
   }
  },
  {
   "cell_type": "code",
   "execution_count": 1,
   "outputs": [],
   "source": [
    "# Definition for a binary tree node.\n",
    "class TreeNode(object):\n",
    "    def __init__(self, x):\n",
    "        self.val = x\n",
    "        self.left = None\n",
    "        self.right = None\n",
    "\n",
    "class Solution(object):\n",
    "    def findRoot(self, x, l):\n",
    "        # 在中序列表中找到根结点位置\n",
    "        for i,e in enumerate(l):\n",
    "            if e == x:\n",
    "                return i\n",
    "    def buildTree(self, preorder, inorder):\n",
    "        \"\"\"\n",
    "        :type preorder: List[int]\n",
    "        :type inorder: List[int]\n",
    "        :rtype: TreeNode\n",
    "        \"\"\"\n",
    "        # 递归的出口\n",
    "        if len(preorder) == 0:\n",
    "            return None\n",
    "\n",
    "        if len(preorder) == 1:\n",
    "            return TreeNode(preorder[0])\n",
    "\n",
    "        # 根节点\n",
    "        root = preorder[0]\n",
    "        # 在中序列表里也找到根节点\n",
    "        idx = self.findRoot(root, inorder)\n",
    "        # 构造树\n",
    "        root = TreeNode(root)\n",
    "        root.left = self.buildTree(preorder[1:idx+1], inorder[:idx])\n",
    "        root.right = self.buildTree(preorder[idx+1:], inorder[idx+1:])\n",
    "        return root"
   ],
   "metadata": {
    "collapsed": false,
    "pycharm": {
     "name": "#%%\n"
    }
   }
  },
  {
   "cell_type": "code",
   "execution_count": null,
   "outputs": [],
   "source": [],
   "metadata": {
    "collapsed": false,
    "pycharm": {
     "name": "#%%\n"
    }
   }
  }
 ],
 "metadata": {
  "kernelspec": {
   "display_name": "Python 3",
   "language": "python",
   "name": "python3"
  },
  "language_info": {
   "codemirror_mode": {
    "name": "ipython",
    "version": 2
   },
   "file_extension": ".py",
   "mimetype": "text/x-python",
   "name": "python",
   "nbconvert_exporter": "python",
   "pygments_lexer": "ipython2",
   "version": "2.7.6"
  }
 },
 "nbformat": 4,
 "nbformat_minor": 0
}