{
 "cells": [
  {
   "cell_type": "markdown",
   "metadata": {
    "collapsed": true,
    "pycharm": {
     "name": "#%% md\n"
    }
   },
   "source": [
    "给定单向链表的头指针和一个要删除的节点的值，定义一个函数删除该节点。\n",
    "\n",
    "返回删除后的链表的头节点。\n",
    "\n",
    "注意：此题对比原题有改动\n",
    "\n",
    "示例 1:\n",
    "\n",
    "输入: head = [4,5,1,9], val = 5\n",
    "输出: [4,1,9]\n",
    "解释: 给定你链表中值为5的第二个节点，那么在调用了你的函数之后，该链表应变为 4 -> 1 -> 9.\n",
    "示例 2:\n",
    "\n",
    "输入: head = [4,5,1,9], val = 1\n",
    "输出: [4,5,9]\n",
    "解释: 给定你链表中值为1的第三个节点，那么在调用了你的函数之后，该链表应变为 4 -> 5 -> 9.\n",
    "\n",
    "说明：\n",
    "\n",
    "题目保证链表中节点的值互不相同\n",
    "若使用 C 或 C++ 语言，你不需要 free 或 delete 被删除的节点\n",
    "\n",
    "来源：力扣（LeetCode）\n",
    "链接：https://leetcode-cn.com/problems/shan-chu-lian-biao-de-jie-dian-lcof\n",
    "著作权归领扣网络所有。商业转载请联系官方授权，非商业转载请注明出处。"
   ]
  },
  {
   "cell_type": "code",
   "execution_count": null,
   "outputs": [],
   "source": [
    "# Definition for singly-linked list.\n",
    "class ListNode:\n",
    "    def __init__(self, x):\n",
    "        self.val = x\n",
    "        self.next = None\n",
    "class Solution:\n",
    "    def deleteNode(self, head: ListNode, val: int) -> ListNode:\n",
    "        if head is None:\n",
    "            return None\n",
    "        # 定义一个虚拟头结点\n",
    "        dummy_head = ListNode(0)\n",
    "        dummy_head.next = head\n",
    "        temp = dummy_head\n",
    "\n",
    "        # 找到待删除链表的前一个结点\n",
    "        while temp.next is not None and temp.next.val != val:\n",
    "            temp = temp.next\n",
    "\n",
    "        # 给定列表里没有要删除的结点\n",
    "        if temp.next is None:\n",
    "            return dummy_head.next\n",
    "\n",
    "        # 执行删除操作\n",
    "        temp.next = temp.next.next\n",
    "\n",
    "        return dummy_head.next\n"
   ],
   "metadata": {
    "collapsed": false,
    "pycharm": {
     "name": "#%%\n"
    }
   }
  }
 ],
 "metadata": {
  "kernelspec": {
   "display_name": "Python 3",
   "language": "python",
   "name": "python3"
  },
  "language_info": {
   "codemirror_mode": {
    "name": "ipython",
    "version": 2
   },
   "file_extension": ".py",
   "mimetype": "text/x-python",
   "name": "python",
   "nbconvert_exporter": "python",
   "pygments_lexer": "ipython2",
   "version": "2.7.6"
  }
 },
 "nbformat": 4,
 "nbformat_minor": 0
}