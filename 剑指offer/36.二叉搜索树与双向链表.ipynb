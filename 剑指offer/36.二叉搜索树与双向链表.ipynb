{
 "cells": [
  {
   "cell_type": "markdown",
   "metadata": {
    "collapsed": true,
    "pycharm": {
     "name": "#%% md\n"
    }
   },
   "source": [
    "输入一棵二叉搜索树，将该二叉搜索树转换成一个排序的循环双向链表。要求不能创建任何新的节点，只能调整树中节点指针的指向。"
   ]
  },
  {
   "cell_type": "code",
   "execution_count": 12,
   "outputs": [],
   "source": [
    "# Definition for a Node.\n",
    "class Node:\n",
    "    def __init__(self, val, left=None, right=None):\n",
    "        self.val = val\n",
    "        self.left = left\n",
    "        self.right = right\n",
    "\n",
    "class Solution:\n",
    "    def treeToDoublyList(self, root: 'Node') -> 'Node':\n",
    "        # 递归的子转换函数\n",
    "        # 给定一个子树的结点，返回这个子树转换后的链表的首尾指针\n",
    "        def transfer(curnode: 'Node') -> ('Node', 'Node'):\n",
    "            # 递归的出口\n",
    "            # 当该结点为叶子节点时（要保证结点不为空）\n",
    "            if curnode.left is None and curnode.right is None:\n",
    "                curnode.left = curnode\n",
    "                curnode.right = curnode\n",
    "                return curnode, curnode\n",
    "\n",
    "            # 左子树为空\n",
    "            elif curnode.left is None:\n",
    "                front_r, rear_r = transfer(curnode.right)\n",
    "                curnode.right = front_r\n",
    "                front_r.left = curnode\n",
    "                rear_r.right = curnode\n",
    "                curnode.left = rear_r\n",
    "                return curnode, rear_r\n",
    "            # 右子树为空\n",
    "            elif curnode.right is None:\n",
    "                front_l, rear_l = transfer(curnode.left)\n",
    "                rear_l.right = curnode\n",
    "                curnode.left = rear_l\n",
    "                curnode.right = front_l\n",
    "                front_l.left = curnode\n",
    "                return front_l, curnode\n",
    "            # 左右子树都不为空\n",
    "            else:\n",
    "                front_l, rear_l = transfer(curnode.left)\n",
    "                front_r, rear_r = transfer(curnode.right)\n",
    "                rear_l.right = curnode\n",
    "                curnode.left = rear_l\n",
    "                curnode.right = front_r\n",
    "                front_r.left = curnode\n",
    "                front_l.left = rear_r\n",
    "                rear_r.right = front_l\n",
    "                return front_l, rear_r\n",
    "\n",
    "        if root is not None:\n",
    "            front, rear = transfer(root)\n",
    "            return front"
   ],
   "metadata": {
    "collapsed": false,
    "pycharm": {
     "name": "#%%\n"
    }
   }
  },
  {
   "cell_type": "code",
   "execution_count": 13,
   "outputs": [
    {
     "data": {
      "text/plain": "<__main__.Node at 0x1e38be0c9d0>"
     },
     "execution_count": 13,
     "metadata": {},
     "output_type": "execute_result"
    },
    {
     "name": "stderr",
     "output_type": "stream",
     "text": [
      "Traceback (most recent call last):\n",
      "  File \"_pydevd_bundle\\pydevd_cython_win32_39_64.pyx\", line 1035, in _pydevd_bundle.pydevd_cython_win32_39_64.PyDBFrame.trace_dispatch\n",
      "  File \"C:\\Users\\Jianlong\\program\\JetBrains\\PyCharm 2021.3.2\\plugins\\python\\helpers-pro\\jupyter_debug\\pydev_jupyter_plugin.py\", line 144, in cmd_step_over\n",
      "    if _is_inside_jupyter_cell(frame, pydb):\n",
      "  File \"C:\\Users\\Jianlong\\program\\JetBrains\\PyCharm 2021.3.2\\plugins\\python\\helpers-pro\\jupyter_debug\\pydev_jupyter_plugin.py\", line 209, in _is_inside_jupyter_cell\n",
      "    if is_cell_filename(filename):\n",
      "  File \"C:\\Users\\Jianlong\\program\\JetBrains\\PyCharm 2021.3.2\\plugins\\python\\helpers-pro\\jupyter_debug\\pydev_jupyter_plugin.py\", line 220, in is_cell_filename\n",
      "    ipython_shell = get_ipython()\n",
      "NameError: name 'get_ipython' is not defined\n"
     ]
    }
   ],
   "source": [
    "node = Node(4)\n",
    "\n",
    "s = Solution()\n",
    "s.treeToDoublyList(node)"
   ],
   "metadata": {
    "collapsed": false,
    "pycharm": {
     "name": "#%%\n"
    }
   }
  },
  {
   "cell_type": "code",
   "execution_count": null,
   "outputs": [],
   "source": [],
   "metadata": {
    "collapsed": false,
    "pycharm": {
     "name": "#%%\n"
    }
   }
  }
 ],
 "metadata": {
  "kernelspec": {
   "display_name": "Python 3",
   "language": "python",
   "name": "python3"
  },
  "language_info": {
   "codemirror_mode": {
    "name": "ipython",
    "version": 2
   },
   "file_extension": ".py",
   "mimetype": "text/x-python",
   "name": "python",
   "nbconvert_exporter": "python",
   "pygments_lexer": "ipython2",
   "version": "2.7.6"
  }
 },
 "nbformat": 4,
 "nbformat_minor": 0
}