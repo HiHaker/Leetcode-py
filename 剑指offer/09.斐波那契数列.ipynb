{
 "cells": [
  {
   "cell_type": "markdown",
   "metadata": {
    "collapsed": true,
    "pycharm": {
     "name": "#%% md\n"
    }
   },
   "source": [
    "写一个函数，输入 n ，求斐波那契（Fibonacci）数列的第 n 项（即 F(N)）。斐波那契数列的定义如下：\n",
    "\n",
    "F(0) = 0, F(1)= 1\n",
    "F(N) = F(N - 1) + F(N - 2), 其中 N > 1.\n",
    "斐波那契数列由 0 和 1 开始，之后的斐波那契数就是由之前的两数相加而得出。\n",
    "\n",
    "答案需要取模 1e9+7（1000000007），如计算初始结果为：1000000008，请返回 1。\n",
    "\n",
    "\n",
    "示例 1：\n",
    "\n",
    "输入：n = 2\n",
    "输出：1\n",
    "示例 2：\n",
    "\n",
    "输入：n = 5\n",
    "输出：5\n",
    "\n",
    "提示：\n",
    "\n",
    "0 <= n <= 100\n",
    "\n",
    "来源：力扣（LeetCode）\n",
    "链接：https://leetcode-cn.com/problems/fei-bo-na-qi-shu-lie-lcof\n",
    "著作权归领扣网络所有。商业转载请联系官方授权，非商业转载请注明出处。"
   ]
  },
  {
   "cell_type": "code",
   "execution_count": null,
   "outputs": [],
   "source": [
    "class Solution:\n",
    "    # 超时\n",
    "    def fib(self, n: int) -> int:\n",
    "        if n == 0 or n == 1:\n",
    "            return n\n",
    "        else:\n",
    "            mid = self.fib(n-1)+self.fib(n-2)\n",
    "            if mid > 1e9+7:\n",
    "                return mid % 1e9+7\n",
    "            else: return mid"
   ],
   "metadata": {
    "collapsed": false,
    "pycharm": {
     "name": "#%%\n"
    }
   }
  }
 ],
 "metadata": {
  "kernelspec": {
   "display_name": "Python 3",
   "language": "python",
   "name": "python3"
  },
  "language_info": {
   "codemirror_mode": {
    "name": "ipython",
    "version": 2
   },
   "file_extension": ".py",
   "mimetype": "text/x-python",
   "name": "python",
   "nbconvert_exporter": "python",
   "pygments_lexer": "ipython2",
   "version": "2.7.6"
  }
 },
 "nbformat": 4,
 "nbformat_minor": 0
}