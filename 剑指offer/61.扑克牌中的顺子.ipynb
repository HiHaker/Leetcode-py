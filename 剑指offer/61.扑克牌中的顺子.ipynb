{
 "cells": [
  {
   "cell_type": "markdown",
   "metadata": {
    "collapsed": true,
    "pycharm": {
     "name": "#%% md\n"
    }
   },
   "source": [
    "从若干副扑克牌中随机抽 5 张牌，判断是不是一个顺子，即这5张牌是不是连续的。2～10为数字本身，A为1，J为11，Q为12，K为13，而大、小王为 0 ，可以看成任意数字。A 不能视为 14。\n",
    "\n",
    "\n",
    "示例1:\n",
    "\n",
    "输入: [1,2,3,4,5]\n",
    "输出: True\n",
    "\n",
    "\n",
    "示例2:\n",
    "\n",
    "输入: [0,0,1,2,5]\n",
    "输出: True\n",
    "\n",
    "限制：\n",
    "\n",
    "数组长度为 5\n",
    "\n",
    "数组的数取值为 [0, 13] .\n",
    "\n",
    "来源：力扣（LeetCode）\n",
    "链接：https://leetcode.cn/problems/bu-ke-pai-zhong-de-shun-zi-lcof\n",
    "著作权归领扣网络所有。商业转载请联系官方授权，非商业转载请注明出处。"
   ]
  },
  {
   "cell_type": "code",
   "execution_count": null,
   "outputs": [],
   "source": [
    "class Solution:\n",
    "    def isStraight(self, nums: List[int]) -> bool:\n",
    "        # 对数组进行排序\n",
    "        nums.sort()\n",
    "\n",
    "        # 把0（双王，表示任意数字）提出\n",
    "        idx = 0\n",
    "        for i in range(len(nums)):\n",
    "            if nums[i] != 0:\n",
    "                idx = i\n",
    "                break\n",
    "\n",
    "        if idx == len(nums)-1:\n",
    "            return True\n",
    "\n",
    "        # 牌里有没有双王\n",
    "        count_zero = idx\n",
    "        nums = nums[idx:]\n",
    "\n",
    "        # flag表示是否是个顺子\n",
    "        flag = True\n",
    "\n",
    "        # 上一个数字\n",
    "        last_num = nums[0]\n",
    "        i = 1\n",
    "        while i < len(nums):\n",
    "            # 当前数字\n",
    "            cur_num = nums[i]\n",
    "\n",
    "            # 查看是否连续\n",
    "            # 如果不连续，查看是否有双王（有的话就用来替代任意数字）\n",
    "            if cur_num != last_num + 1:\n",
    "                if count_zero >= 1:\n",
    "                    count_zero -= 1\n",
    "                    last_num += 1\n",
    "                    continue\n",
    "                else:\n",
    "                    flag = False\n",
    "                    break\n",
    "\n",
    "            last_num = cur_num\n",
    "            i += 1\n",
    "\n",
    "        return flag\n"
   ],
   "metadata": {
    "collapsed": false,
    "pycharm": {
     "name": "#%%\n"
    }
   }
  }
 ],
 "metadata": {
  "kernelspec": {
   "display_name": "Python 3",
   "language": "python",
   "name": "python3"
  },
  "language_info": {
   "codemirror_mode": {
    "name": "ipython",
    "version": 2
   },
   "file_extension": ".py",
   "mimetype": "text/x-python",
   "name": "python",
   "nbconvert_exporter": "python",
   "pygments_lexer": "ipython2",
   "version": "2.7.6"
  }
 },
 "nbformat": 4,
 "nbformat_minor": 0
}