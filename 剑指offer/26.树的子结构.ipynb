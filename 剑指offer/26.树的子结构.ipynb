{
 "cells": [
  {
   "cell_type": "markdown",
   "metadata": {
    "collapsed": true,
    "pycharm": {
     "name": "#%% md\n"
    }
   },
   "source": [
    "输入两棵二叉树A和B，判断B是不是A的子结构。(约定空树不是任意一个树的子结构)\n",
    "\n",
    "B是A的子结构， 即 A中有出现和B相同的结构和节点值。\n",
    "\n",
    "例如:\n",
    "给定的树 A:\n",
    "\n",
    "3\n",
    "/ \\\n",
    "4  5\n",
    "/ \\\n",
    "1  2\n",
    "给定的树 B：\n",
    "\n",
    " 4\n",
    "/\n",
    "1\n",
    "返回 true，因为 B 与 A 的一个子树拥有相同的结构和节点值。\n",
    "\n",
    "示例 1：\n",
    "\n",
    "输入：A = [1,2,3], B = [3,1]\n",
    "输出：false\n",
    "示例 2：\n",
    "\n",
    "输入：A = [3,4,5,1,2], B = [4,1]\n",
    "输出：true\n",
    "限制：\n",
    "\n",
    "0 <= 节点个数 <= 10000\n",
    "\n",
    "来源：力扣（LeetCode）\n",
    "链接：https://leetcode-cn.com/problems/shu-de-zi-jie-gou-lcof\n",
    "著作权归领扣网络所有。商业转载请联系官方授权，非商业转载请注明出处。"
   ]
  },
  {
   "cell_type": "code",
   "execution_count": null,
   "outputs": [],
   "source": [
    "# Definition for a binary tree node.\n",
    "class TreeNode:\n",
    "    def __init__(self, x):\n",
    "        self.val = x\n",
    "        self.left = None\n",
    "        self.right = None\n",
    "\n",
    "class Solution:\n",
    "    def isSubStructure(self, A: TreeNode, B: TreeNode) -> bool:\n",
    "\n",
    "        # 前序遍历\n",
    "        def inorder(head, l):\n",
    "            if head is None:\n",
    "                return\n",
    "            l.append(head.val)\n",
    "            inorder(head.left, l)\n",
    "            inorder(head.right, l)\n",
    "\n",
    "        # 匹配函数\n",
    "        def ismatch(l1, l2):\n",
    "            val = l2[0]\n",
    "            idx = 0\n",
    "\n",
    "            for i in range(len(l1)):\n",
    "                if l1[i] == val:\n",
    "                    idx = i\n",
    "\n",
    "            i = 0\n",
    "            flag = False\n",
    "            while idx+i < len(l1) and i < len(l2):\n",
    "                if l1[idx+i] == l2[i]:\n",
    "                    i += 1\n",
    "                else:\n",
    "                    if flag:\n",
    "                        return False\n",
    "                    flag = True\n",
    "                    idx += 1\n",
    "\n",
    "            if i == len(l2):\n",
    "                return True\n",
    "            return False\n",
    "\n",
    "            # for i in range(len(l2)):\n",
    "            #     if idx+i>=len(l1) or l2[i] != l1[idx+i]:\n",
    "            #         return False\n",
    "            #\n",
    "            # return True\n",
    "\n",
    "        l_a, l_b = [], []\n",
    "        inorder(A, l_a)\n",
    "        inorder(B, l_b)\n",
    "\n",
    "        if len(l_a) == 0 or len(l_b) == 0:\n",
    "            return False\n",
    "\n",
    "        return ismatch(l_a, l_b)\n"
   ],
   "metadata": {
    "collapsed": false,
    "pycharm": {
     "name": "#%%\n"
    }
   }
  }
 ],
 "metadata": {
  "kernelspec": {
   "display_name": "Python 3",
   "language": "python",
   "name": "python3"
  },
  "language_info": {
   "codemirror_mode": {
    "name": "ipython",
    "version": 2
   },
   "file_extension": ".py",
   "mimetype": "text/x-python",
   "name": "python",
   "nbconvert_exporter": "python",
   "pygments_lexer": "ipython2",
   "version": "2.7.6"
  }
 },
 "nbformat": 4,
 "nbformat_minor": 0
}