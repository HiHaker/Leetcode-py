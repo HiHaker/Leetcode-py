{
 "cells": [
  {
   "cell_type": "markdown",
   "metadata": {
    "collapsed": true,
    "pycharm": {
     "name": "#%% md\n"
    }
   },
   "source": [
    "输入一棵二叉树的根节点，判断该树是不是平衡二叉树。如果某二叉树中任意节点的左右子树的深度相差不超过1，那么它就是一棵平衡二叉树。\n",
    "\n",
    "\n",
    "示例 1:\n",
    "\n",
    "给定二叉树 [3,9,20,null,null,15,7]\n",
    "\n",
    "    3\n",
    "   / \\\n",
    "  9  20\n",
    "    /  \\\n",
    "   15   7\n",
    "返回 true 。\n",
    "\n",
    "示例 2:\n",
    "\n",
    "给定二叉树 [1,2,2,3,3,null,null,4,4]\n",
    "\n",
    "       1\n",
    "      / \\\n",
    "     2   2\n",
    "    / \\\n",
    "   3   3\n",
    "  / \\\n",
    " 4   4\n",
    "返回false 。\n",
    "\n",
    "\n",
    "限制：\n",
    "\n",
    "0 <= 树的结点个数 <= 10000\n",
    "\n",
    "来源：力扣（LeetCode）\n",
    "链接：https://leetcode.cn/problems/ping-heng-er-cha-shu-lcof\n",
    "著作权归领扣网络所有。商业转载请联系官方授权，非商业转载请注明出处。"
   ]
  },
  {
   "cell_type": "code",
   "execution_count": null,
   "outputs": [],
   "source": [
    "# Definition for a binary tree node.\n",
    "# class TreeNode:\n",
    "#     def __init__(self, x):\n",
    "#         self.val = x\n",
    "#         self.left = None\n",
    "#         self.right = None\n",
    "\n",
    "class Solution:\n",
    "    def isBalanced(self, root: TreeNode) -> bool:\n",
    "        # 平衡二叉树是保证树中任意结点的左右子树深度相差不超过1，那么\n",
    "        # 使用任何一种遍历方式遍历每一个结点，然后检查该结点左右子树的深度相差\n",
    "        def cal_depth(node):\n",
    "            if node is None:\n",
    "                return 0\n",
    "            else:\n",
    "                return 1+max(cal_depth(node.left), cal_depth(node.right))\n",
    "\n",
    "        def check(node):\n",
    "            if node is None:\n",
    "                return True\n",
    "\n",
    "            left_depth = cal_depth(node.left)\n",
    "            right_depth = cal_depth(node.right)\n",
    "            if abs(left_depth-right_depth) > 1:\n",
    "                return False\n",
    "\n",
    "            if check(node.left) and check(node.right):\n",
    "                return True\n",
    "            else:\n",
    "                return False\n",
    "        check(root)"
   ],
   "metadata": {
    "collapsed": false,
    "pycharm": {
     "name": "#%%\n"
    }
   }
  }
 ],
 "metadata": {
  "kernelspec": {
   "display_name": "Python 3",
   "language": "python",
   "name": "python3"
  },
  "language_info": {
   "codemirror_mode": {
    "name": "ipython",
    "version": 2
   },
   "file_extension": ".py",
   "mimetype": "text/x-python",
   "name": "python",
   "nbconvert_exporter": "python",
   "pygments_lexer": "ipython2",
   "version": "2.7.6"
  }
 },
 "nbformat": 4,
 "nbformat_minor": 0
}