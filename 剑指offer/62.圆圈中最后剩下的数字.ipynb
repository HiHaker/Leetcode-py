{
 "cells": [
  {
   "cell_type": "markdown",
   "metadata": {
    "collapsed": true,
    "pycharm": {
     "name": "#%% md\n"
    }
   },
   "source": [
    "0,1,···,n-1这n个数字排成一个圆圈，从数字0开始，每次从这个圆圈里删除第m个数字（删除后从下一个数字开始计数）。求出这个圆圈里剩下的最后一个数字。\n",
    "\n",
    "例如，0、1、2、3、4这5个数字组成一个圆圈，从数字0开始每次删除第3个数字，则删除的前4个数字依次是2、0、4、1，因此最后剩下的数字是3。\n",
    "\n",
    "示例 1：\n",
    "\n",
    "输入: n = 5, m = 3\n",
    "输出:3\n",
    "示例 2：\n",
    "\n",
    "输入: n = 10, m = 17\n",
    "输出:2\n",
    "\n",
    "来源：力扣（LeetCode）\n",
    "链接：https://leetcode.cn/problems/yuan-quan-zhong-zui-hou-sheng-xia-de-shu-zi-lcof\n",
    "著作权归领扣网络所有。商业转载请联系官方授权，非商业转载请注明出处。"
   ]
  },
  {
   "cell_type": "code",
   "execution_count": null,
   "outputs": [],
   "source": [
    "class Solution:\n",
    "    def lastRemaining(self, n: int, m: int) -> int:\n",
    "        # 创建出起始数组\n",
    "        nums = [ i for i in range(n) ]\n",
    "        # 开始索引从0开始\n",
    "        start_i = 0\n",
    "        while len(nums) > 1:\n",
    "            # 要删除的数的索引\n",
    "            del_i = (start_i + m - 1) % len(nums)\n",
    "\n",
    "            # 更新start_i，等于待删除索引的下一个\n",
    "            if del_i == len(nums)-1:\n",
    "                start_i = 0\n",
    "            else:\n",
    "                start_i = del_i\n",
    "\n",
    "            nums.pop(del_i)\n",
    "\n",
    "\n",
    "        return nums[0]\n",
    "\n"
   ],
   "metadata": {
    "collapsed": false,
    "pycharm": {
     "name": "#%%\n"
    }
   }
  }
 ],
 "metadata": {
  "kernelspec": {
   "display_name": "Python 3",
   "language": "python",
   "name": "python3"
  },
  "language_info": {
   "codemirror_mode": {
    "name": "ipython",
    "version": 2
   },
   "file_extension": ".py",
   "mimetype": "text/x-python",
   "name": "python",
   "nbconvert_exporter": "python",
   "pygments_lexer": "ipython2",
   "version": "2.7.6"
  }
 },
 "nbformat": 4,
 "nbformat_minor": 0
}