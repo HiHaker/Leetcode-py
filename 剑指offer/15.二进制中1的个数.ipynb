{
 "cells": [
  {
   "cell_type": "markdown",
   "metadata": {
    "collapsed": true,
    "pycharm": {
     "name": "#%% md\n"
    }
   },
   "source": [
    "编写一个函数，输入是一个无符号整数（以二进制串的形式），返回其二进制表达式中数字位数为 '1' 的个数（也被称为 汉明重量).）。\n",
    "\n",
    "提示：\n",
    "\n",
    "请注意，在某些语言（如 Java）中，没有无符号整数类型。在这种情况下，输入和输出都将被指定为有符号整数类型，并且不应影响您的实现，因为无论整数是有符号的还是无符号的，其内部的二进制表示形式都是相同的。\n",
    "在 Java 中，编译器使用 二进制补码 记法来表示有符号整数。因此，在上面的 示例 3 中，输入表示有符号整数 -3。\n",
    "\n",
    "示例 1：\n",
    "\n",
    "输入：n = 11 (控制台输入 00000000000000000000000000001011)\n",
    "输出：3\n",
    "解释：输入的二进制串 00000000000000000000000000001011中，共有三位为 '1'。\n",
    "示例 2：\n",
    "\n",
    "输入：n = 128 (控制台输入 00000000000000000000000010000000)\n",
    "输出：1\n",
    "解释：输入的二进制串 00000000000000000000000010000000中，共有一位为 '1'。\n",
    "示例 3：\n",
    "\n",
    "输入：n = 4294967293 (控制台输入 11111111111111111111111111111101，部分语言中 n = -3）\n",
    "输出：31\n",
    "解释：输入的二进制串 11111111111111111111111111111101 中，共有 31 位为 '1'。\n",
    "\n",
    "提示：\n",
    "\n",
    "输入必须是长度为 32 的 二进制串 。\n",
    "\n",
    "来源：力扣（LeetCode）\n",
    "链接：https://leetcode-cn.com/problems/er-jin-zhi-zhong-1de-ge-shu-lcof\n",
    "著作权归领扣网络所有。商业转载请联系官方授权，非商业转载请注明出处。"
   ]
  },
  {
   "cell_type": "code",
   "execution_count": null,
   "outputs": [],
   "source": [
    "class Solution:\n",
    "    def hammingWeight(self, n: int) -> int:\n",
    "        # sum = 0\n",
    "        # while n != 0:\n",
    "        #     n, r = n//2, n%2\n",
    "        #     if r == 1:\n",
    "        #         sum += 1\n",
    "        # return sum\n",
    "        res = 0\n",
    "        while n:\n",
    "            res += n & 1\n",
    "            n >>= 1\n",
    "        return res"
   ],
   "metadata": {
    "collapsed": false,
    "pycharm": {
     "name": "#%%\n"
    }
   }
  }
 ],
 "metadata": {
  "kernelspec": {
   "display_name": "Python 3",
   "language": "python",
   "name": "python3"
  },
  "language_info": {
   "codemirror_mode": {
    "name": "ipython",
    "version": 2
   },
   "file_extension": ".py",
   "mimetype": "text/x-python",
   "name": "python",
   "nbconvert_exporter": "python",
   "pygments_lexer": "ipython2",
   "version": "2.7.6"
  }
 },
 "nbformat": 4,
 "nbformat_minor": 0
}