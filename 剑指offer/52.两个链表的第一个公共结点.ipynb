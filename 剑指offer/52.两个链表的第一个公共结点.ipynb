{
 "cells": [
  {
   "cell_type": "code",
   "execution_count": null,
   "metadata": {
    "collapsed": true
   },
   "outputs": [],
   "source": [
    "# Definition for singly-linked list.\n",
    "# class ListNode:\n",
    "#     def __init__(self, x):\n",
    "#         self.val = x\n",
    "#         self.next = None\n",
    "\n",
    "class Solution:\n",
    "    def getIntersectionNode(self, headA: ListNode, headB: ListNode) -> ListNode:\n",
    "        node_q = []\n",
    "        # 遍历链表A\n",
    "        while headA is not None:\n",
    "            # 节点入队\n",
    "            node_q.append(headA)\n",
    "            # 指针后移\n",
    "            headA = headA.next\n",
    "\n",
    "        # 遍历链表B\n",
    "        while headB is not None:\n",
    "            if headB in node_q:\n",
    "                return headB\n",
    "            else:\n",
    "                headB = headB.next\n",
    "\n",
    "        return None"
   ]
  }
 ],
 "metadata": {
  "kernelspec": {
   "display_name": "Python 3",
   "language": "python",
   "name": "python3"
  },
  "language_info": {
   "codemirror_mode": {
    "name": "ipython",
    "version": 2
   },
   "file_extension": ".py",
   "mimetype": "text/x-python",
   "name": "python",
   "nbconvert_exporter": "python",
   "pygments_lexer": "ipython2",
   "version": "2.7.6"
  }
 },
 "nbformat": 4,
 "nbformat_minor": 0
}