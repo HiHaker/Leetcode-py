{
 "cells": [
  {
   "cell_type": "markdown",
   "metadata": {
    "collapsed": true,
    "pycharm": {
     "name": "#%% md\n"
    }
   },
   "source": [
    "输入一个整数 n ，求1～n这n个整数的十进制表示中1出现的次数。\n",
    "\n",
    "例如，输入12，1～12这些整数中包含1 的数字有1、10、11和12，1一共出现了5次。\n",
    "\n",
    "示例 1：\n",
    "\n",
    "输入：n = 12\n",
    "输出：5\n",
    "示例 2：\n",
    "\n",
    "输入：n = 13\n",
    "输出：6\n",
    "\n",
    "限制：\n",
    "\n",
    "1 <= n <2^31\n",
    "\n",
    "来源：力扣（LeetCode）\n",
    "链接：https://leetcode.cn/problems/1nzheng-shu-zhong-1chu-xian-de-ci-shu-lcof\n",
    "著作权归领扣网络所有。商业转载请联系官方授权，非商业转载请注明出处。"
   ]
  },
  {
   "cell_type": "code",
   "execution_count": null,
   "outputs": [],
   "source": [
    "class Solution:\n",
    "    def countDigitOne(self, n: int) -> int:\n",
    "        def count1(digit_str):\n",
    "            count = 0\n",
    "            for c in digit_str:\n",
    "                if c == '1':\n",
    "                    count += 1\n",
    "            return count\n",
    "        # 1的个数\n",
    "        num_of_one = 0\n",
    "        # 幂\n",
    "        power = 0\n",
    "        # 不断循环，不断除10，降低数的位数并累计1的个数\n",
    "        while True:\n",
    "            new_n = int(n / 10)\n",
    "            power += 1\n",
    "            cur_num = n*10**(power-1) - new_n*10**power\n",
    "\n",
    "            # 需要计算当前数的高位是否有1，包含有几个1\n",
    "            high_digit = new_n*10**power\n",
    "            high_digit_str = str(high_digit)\n",
    "            # 计算前面包含的1的个数\n",
    "            count = count1(high_digit_str)\n",
    "\n",
    "            # 如果当前数是一位数，特殊处理\n",
    "            if cur_num < 10:\n",
    "                # 如果当前位是0就跳过了\n",
    "                if cur_num != 0:\n",
    "                    num_of_one += cur_num*count+1\n",
    "            else:\n",
    "                # 取出当前数字的第一位\n",
    "                num_str = str(cur_num)\n",
    "                first_digit = int(num_str[0])\n",
    "                # 当第一位数字大于等于2时\n",
    "                if first_digit >= 2:\n",
    "                    num_of_one += 10**(power-1)*(power-1) + 10**(power-2)*(first_digit - (10-first_digit)*(power-2))\n",
    "                # 否则，第一位数字就是1\n",
    "                else:\n",
    "                    cur_pow = power-1\n",
    "                    num_of_one += 10**(cur_pow-1)*cur_pow + 1\n",
    "                num_of_one += count*cur_num\n",
    "            if new_n == 0:\n",
    "                break\n",
    "            else:\n",
    "                n = new_n\n",
    "\n",
    "        return num_of_one"
   ],
   "metadata": {
    "collapsed": false,
    "pycharm": {
     "name": "#%%\n"
    }
   }
  }
 ],
 "metadata": {
  "kernelspec": {
   "display_name": "Python 3",
   "language": "python",
   "name": "python3"
  },
  "language_info": {
   "codemirror_mode": {
    "name": "ipython",
    "version": 2
   },
   "file_extension": ".py",
   "mimetype": "text/x-python",
   "name": "python",
   "nbconvert_exporter": "python",
   "pygments_lexer": "ipython2",
   "version": "2.7.6"
  }
 },
 "nbformat": 4,
 "nbformat_minor": 0
}