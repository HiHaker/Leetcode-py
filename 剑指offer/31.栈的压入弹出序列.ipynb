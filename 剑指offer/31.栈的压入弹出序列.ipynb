{
 "cells": [
  {
   "cell_type": "markdown",
   "metadata": {
    "collapsed": true,
    "pycharm": {
     "name": "#%% md\n"
    }
   },
   "source": [
    "输入两个整数序列，第一个序列表示栈的压入顺序，请判断第二个序列是否为该栈的弹出顺序。假设压入栈的所有数字均不相等。例如，序列 {1,2,3,4,5} 是某栈的压栈序列，序列 {4,5,3,2,1} 是该压栈序列对应的一个弹出序列，但 {4,3,5,1,2} 就不可能是该压栈序列的弹出序列。\n",
    "\n",
    "示例 1：\n",
    "\n",
    "输入：pushed = [1,2,3,4,5], popped = [4,5,3,2,1]\n",
    "输出：true\n",
    "解释：我们可以按以下顺序执行：\n",
    "push(1), push(2), push(3), push(4), pop() -> 4,\n",
    "push(5), pop() -> 5, pop() -> 3, pop() -> 2, pop() -> 1\n",
    "示例 2：\n",
    "\n",
    "输入：pushed = [1,2,3,4,5], popped = [4,3,5,1,2]\n",
    "输出：false\n",
    "解释：1 不能在 2 之前弹出。\n",
    "\n",
    "提示：\n",
    "\n",
    "0 <= pushed.length == popped.length <= 1000\n",
    "0 <= pushed[i], popped[i] < 1000\n",
    "pushed是popped的排列。\n",
    "\n",
    "来源：力扣（LeetCode）\n",
    "链接：https://leetcode-cn.com/problems/zhan-de-ya-ru-dan-chu-xu-lie-lcof\n",
    "著作权归领扣网络所有。商业转载请联系官方授权，非商业转载请注明出处。"
   ]
  },
  {
   "cell_type": "code",
   "execution_count": null,
   "outputs": [],
   "source": [
    "class Solution:\n",
    "    def validateStackSequences(self, pushed: List[int], popped: List[int]) -> bool:\n",
    "        # 查看栈顶元素\n",
    "        def peek(s):\n",
    "            if len(s) == 0:\n",
    "                return -1\n",
    "            else:\n",
    "                return s[len(s)-1]\n",
    "\n",
    "        # 创建一个栈存储序列\n",
    "        s = []\n",
    "\n",
    "        # 初始化分别指向pushed和popped的指针\n",
    "        i, j = 0, 0\n",
    "        while j < len(popped):\n",
    "            # 如果栈顶元素不等于popped指针对应的元素，入栈pushed指针指向的元素\n",
    "            if popped[j] != peek(s):\n",
    "                if i == len(pushed):\n",
    "                    return False\n",
    "                else:\n",
    "                    s.append(pushed[i])\n",
    "                    i += 1\n",
    "            else:\n",
    "                s.pop()\n",
    "                j += 1\n",
    "\n",
    "        return True"
   ],
   "metadata": {
    "collapsed": false,
    "pycharm": {
     "name": "#%%\n"
    }
   }
  },
  {
   "cell_type": "code",
   "execution_count": null,
   "outputs": [],
   "source": [],
   "metadata": {
    "collapsed": false,
    "pycharm": {
     "name": "#%%\n"
    }
   }
  }
 ],
 "metadata": {
  "kernelspec": {
   "display_name": "Python 3",
   "language": "python",
   "name": "python3"
  },
  "language_info": {
   "codemirror_mode": {
    "name": "ipython",
    "version": 2
   },
   "file_extension": ".py",
   "mimetype": "text/x-python",
   "name": "python",
   "nbconvert_exporter": "python",
   "pygments_lexer": "ipython2",
   "version": "2.7.6"
  }
 },
 "nbformat": 4,
 "nbformat_minor": 0
}