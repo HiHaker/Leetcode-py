{
 "cells": [
  {
   "cell_type": "markdown",
   "metadata": {
    "collapsed": true,
    "pycharm": {
     "name": "#%% md\n"
    }
   },
   "source": [
    "给你二叉树的根节点 root 和一个整数目标和 targetSum ，找出所有 从根节点到叶子节点 路径总和等于给定目标和的路径。\n",
    "\n",
    "叶子节点 是指没有子节点的节点。\n",
    "\n",
    "示例 1：\n",
    "\n",
    "\n",
    "\n",
    "输入：root = [5,4,8,11,null,13,4,7,2,null,null,5,1], targetSum = 22\n",
    "输出：[[5,4,11,2],[5,8,4,5]]\n",
    "示例 2：\n",
    "\n",
    "\n",
    "\n",
    "输入：root = [1,2,3], targetSum = 5\n",
    "输出：[]\n",
    "示例 3：\n",
    "\n",
    "输入：root = [1,2], targetSum = 0\n",
    "输出：[]\n",
    "\n",
    "提示：\n",
    "\n",
    "树中节点总数在范围 [0, 5000] 内\n",
    "-1000 <= Node.val <= 1000\n",
    "-1000 <= targetSum <= 1000\n",
    "\n",
    "来源：力扣（LeetCode）\n",
    "链接：https://leetcode-cn.com/problems/er-cha-shu-zhong-he-wei-mou-yi-zhi-de-lu-jing-lcof\n",
    "著作权归领扣网络所有。商业转载请联系官方授权，非商业转载请注明出处。"
   ]
  },
  {
   "cell_type": "code",
   "execution_count": 23,
   "outputs": [],
   "source": [
    "# Definition for a binary tree node.\n",
    "class TreeNode:\n",
    "    def __init__(self, val=0, left=None, right=None):\n",
    "        self.val = val\n",
    "        self.left = left\n",
    "        self.right = right\n",
    "class Solution:\n",
    "    def pathSum(self, root: TreeNode, target: int):\n",
    "        def find_path(root_node:TreeNode, target_val:int):\n",
    "\n",
    "            current_val = root_node.val\n",
    "\n",
    "            # 递归出口\n",
    "            if root_node.left is None and root_node.right is None:\n",
    "                if current_val == target_val:\n",
    "                    return [[current_val]]\n",
    "                else:\n",
    "                    return []\n",
    "\n",
    "            # 返回列表\n",
    "            ret = []\n",
    "\n",
    "            # 如果左子树不为空\n",
    "            if root_node.left is not None:\n",
    "                # 递归地找到左子树的列表\n",
    "                left_l = find_path(root_node.left, target_val-current_val)\n",
    "                for i in left_l:\n",
    "                    i.insert(0,current_val)\n",
    "                    ret.append(i)\n",
    "\n",
    "            # 如果右子树不为空\n",
    "            if root_node.right is not None:\n",
    "                # 递归地找到右子树的列表\n",
    "                right_l = find_path(root_node.right, target_val-current_val)\n",
    "                for i in right_l:\n",
    "                    i.insert(0,current_val)\n",
    "                    ret.append(i)\n",
    "\n",
    "            return ret\n",
    "\n",
    "        if root is None:\n",
    "            return []\n",
    "        else:\n",
    "            return find_path(root, target)"
   ],
   "metadata": {
    "collapsed": false,
    "pycharm": {
     "name": "#%%\n"
    }
   }
  },
  {
   "cell_type": "code",
   "execution_count": 24,
   "outputs": [
    {
     "name": "stdout",
     "output_type": "stream",
     "text": [
      "[[1, 3]]\n"
     ]
    }
   ],
   "source": [
    "test = TreeNode(1)\n",
    "test.left = TreeNode(2)\n",
    "test.left = TreeNode(3)\n",
    "\n",
    "s = Solution()\n",
    "print(s.pathSum(test, 4))\n"
   ],
   "metadata": {
    "collapsed": false,
    "pycharm": {
     "name": "#%%\n"
    }
   }
  }
 ],
 "metadata": {
  "kernelspec": {
   "display_name": "Python 3",
   "language": "python",
   "name": "python3"
  },
  "language_info": {
   "codemirror_mode": {
    "name": "ipython",
    "version": 2
   },
   "file_extension": ".py",
   "mimetype": "text/x-python",
   "name": "python",
   "nbconvert_exporter": "python",
   "pygments_lexer": "ipython2",
   "version": "2.7.6"
  }
 },
 "nbformat": 4,
 "nbformat_minor": 0
}