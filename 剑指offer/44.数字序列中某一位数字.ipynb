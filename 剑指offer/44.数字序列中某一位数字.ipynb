{
 "cells": [
  {
   "cell_type": "markdown",
   "metadata": {
    "collapsed": true,
    "pycharm": {
     "name": "#%% md\n"
    }
   },
   "source": [
    "数字以0123456789101112131415…的格式序列化到一个字符序列中。在这个序列中，第5位（从下标0开始计数）是5，第13位是1，第19位是4，等等。\n",
    "\n",
    "请写一个函数，求任意第n位对应的数字。\n",
    "\n",
    "示例 1：\n",
    "\n",
    "输入：n = 3\n",
    "输出：3\n",
    "示例 2：\n",
    "\n",
    "输入：n = 11\n",
    "输出：0\n",
    "\n",
    "限制：\n",
    "\n",
    "0 <= n <2^31\n",
    "\n",
    "来源：力扣（LeetCode）\n",
    "链接：https://leetcode.cn/problems/shu-zi-xu-lie-zhong-mou-yi-wei-de-shu-zi-lcof\n",
    "著作权归领扣网络所有。商业转载请联系官方授权，非商业转载请注明出处。"
   ]
  },
  {
   "cell_type": "code",
   "execution_count": null,
   "outputs": [],
   "source": [
    "class Solution:\n",
    "    def findNthDigit(self, n: int) -> int:\n",
    "        # 把n转换为以下标1开始计数\n",
    "        n += 1\n",
    "        # num_n表示数字n对应的位数，默认刚开始为1\n",
    "        num_n = 1\n",
    "        # sum_n表示对应位数对应的总位数\n",
    "        sum_n = 10\n",
    "        # 创建一个list来存储位数范围，方便后续计算\n",
    "        sum_n_l = [sum_n]\n",
    "        # 首先获得n的数字所在的位数区间\n",
    "        while True:\n",
    "            # 大于区间范围，继续找\n",
    "            if n > sum_n:\n",
    "                num_n += 1\n",
    "                sum_n += 9*10**(num_n-1)*num_n\n",
    "                sum_n_l.append(sum_n)\n",
    "            # 否则退出循环\n",
    "            else:\n",
    "                break\n",
    "\n",
    "        # 现在第n位所对应的数字位数就是num_n\n",
    "        if len(sum_n_l) < 2:\n",
    "            return n-1\n",
    "        else:\n",
    "            n -= sum_n_l[-2]\n",
    "            a, b = int(n/num_n), n%num_n\n",
    "            number = (10 ** (num_n-1) - 1) + a\n",
    "            if b == 0:\n",
    "                return int(str(number)[-1])\n",
    "            else:\n",
    "                number += 1\n",
    "                return int(str(number)[b-1])"
   ],
   "metadata": {
    "collapsed": false,
    "pycharm": {
     "name": "#%%\n"
    }
   }
  }
 ],
 "metadata": {
  "kernelspec": {
   "display_name": "Python 3",
   "language": "python",
   "name": "python3"
  },
  "language_info": {
   "codemirror_mode": {
    "name": "ipython",
    "version": 2
   },
   "file_extension": ".py",
   "mimetype": "text/x-python",
   "name": "python",
   "nbconvert_exporter": "python",
   "pygments_lexer": "ipython2",
   "version": "2.7.6"
  }
 },
 "nbformat": 4,
 "nbformat_minor": 0
}