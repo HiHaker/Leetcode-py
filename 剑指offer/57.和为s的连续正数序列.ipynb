{
 "cells": [
  {
   "cell_type": "markdown",
   "metadata": {
    "collapsed": true,
    "pycharm": {
     "name": "#%% md\n"
    }
   },
   "source": [
    "输入一个正整数 target ，输出所有和为 target 的连续正整数序列（至少含有两个数）。\n",
    "\n",
    "序列内的数字由小到大排列，不同序列按照首个数字从小到大排列。\n",
    "\n",
    "\n",
    "示例 1：\n",
    "\n",
    "输入：target = 9\n",
    "输出：[[2,3,4],[4,5]]\n",
    "示例 2：\n",
    "\n",
    "输入：target = 15\n",
    "输出：[[1,2,3,4,5],[4,5,6],[7,8]]\n",
    "\n",
    "限制：\n",
    "\n",
    "1 <= target <= 10^5\n",
    "\n",
    "来源：力扣（LeetCode）\n",
    "链接：https://leetcode.cn/problems/he-wei-sde-lian-xu-zheng-shu-xu-lie-lcof\n",
    "著作权归领扣网络所有。商业转载请联系官方授权，非商业转载请注明出处。"
   ]
  },
  {
   "cell_type": "code",
   "execution_count": null,
   "outputs": [],
   "source": [
    "class Solution:\n",
    "    def findContinuousSequence(self, target: int) -> List[List[int]]:\n",
    "        # 输出序列\n",
    "        sequence = []\n",
    "        # 序列起始数字\n",
    "        start_num = 1\n",
    "\n",
    "        while start_num*2+1 <= target:\n",
    "            # 序列结束数字\n",
    "            end_num = start_num+1\n",
    "            # 当前的数字序列\n",
    "            cur_sequence = [start_num, end_num]\n",
    "            while sum(cur_sequence) != target:\n",
    "                if sum(cur_sequence) < target:\n",
    "                    end_num += 1\n",
    "                    cur_sequence.append(end_num)\n",
    "                elif sum(cur_sequence) > target:\n",
    "                    cur_sequence.pop(0)\n",
    "                    start_num = cur_sequence[0]\n",
    "\n",
    "            # 把得到的数字序列加入到结果序列\n",
    "            if len(cur_sequence) >= 2:\n",
    "                sequence.append(cur_sequence)\n",
    "            start_num += 1\n",
    "\n",
    "        return sequence"
   ],
   "metadata": {
    "collapsed": false,
    "pycharm": {
     "name": "#%%\n"
    }
   }
  }
 ],
 "metadata": {
  "kernelspec": {
   "display_name": "Python 3",
   "language": "python",
   "name": "python3"
  },
  "language_info": {
   "codemirror_mode": {
    "name": "ipython",
    "version": 2
   },
   "file_extension": ".py",
   "mimetype": "text/x-python",
   "name": "python",
   "nbconvert_exporter": "python",
   "pygments_lexer": "ipython2",
   "version": "2.7.6"
  }
 },
 "nbformat": 4,
 "nbformat_minor": 0
}