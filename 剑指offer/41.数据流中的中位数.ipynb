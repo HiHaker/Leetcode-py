{
 "cells": [
  {
   "cell_type": "markdown",
   "metadata": {
    "collapsed": true,
    "pycharm": {
     "name": "#%% md\n"
    }
   },
   "source": [
    "如何得到一个数据流中的中位数？如果从数据流中读出奇数个数值，那么中位数就是所有数值排序之后位于中间的数值。如果从数据流中读出偶数个数值，那么中位数就是所有数值排序之后中间两个数的平均值。\n",
    "\n",
    "例如，\n",
    "\n",
    "[2,3,4]的中位数是 3\n",
    "\n",
    "[2,3] 的中位数是 (2 + 3) / 2 = 2.5\n",
    "\n",
    "设计一个支持以下两种操作的数据结构：\n",
    "\n",
    "void addNum(int num) - 从数据流中添加一个整数到数据结构中。\n",
    "double findMedian() - 返回目前所有元素的中位数。\n",
    "示例 1：\n",
    "\n",
    "输入：\n",
    "[\"MedianFinder\",\"addNum\",\"addNum\",\"findMedian\",\"addNum\",\"findMedian\"]\n",
    "[[],[1],[2],[],[3],[]]\n",
    "输出：[null,null,null,1.50000,null,2.00000]\n",
    "示例 2：\n",
    "\n",
    "输入：\n",
    "[\"MedianFinder\",\"addNum\",\"findMedian\",\"addNum\",\"findMedian\"]\n",
    "[[],[2],[],[3],[]]\n",
    "输出：[null,null,2.00000,null,2.50000]\n",
    "\n",
    "限制：\n",
    "\n",
    "最多会对addNum、findMedian 进行50000次调用。\n",
    "\n",
    "来源：力扣（LeetCode）\n",
    "链接：https://leetcode.cn/problems/shu-ju-liu-zhong-de-zhong-wei-shu-lcof\n",
    "著作权归领扣网络所有。商业转载请联系官方授权，非商业转载请注明出处。"
   ]
  },
  {
   "cell_type": "code",
   "execution_count": null,
   "outputs": [],
   "source": [
    "class MedianFinder:\n",
    "\n",
    "    def __init__(self):\n",
    "        \"\"\"\n",
    "        initialize your data structure here.\n",
    "        \"\"\"\n",
    "        self.data = []\n",
    "\n",
    "\n",
    "    def addNum(self, num: int) -> None:\n",
    "        self.data.append(num)\n",
    "\n",
    "    def findMedian(self) -> float:\n",
    "        self.data = sorted(self.data)\n",
    "        # 偶数\n",
    "        if len(self.data) % 2 == 0:\n",
    "            return (self.data[len(self.data)/2]+self.data[len(self.data)/2-1])/2\n",
    "        else:\n",
    "            return self.data[int(len(self.data)/2)]\n",
    "\n",
    "\n",
    "# Your MedianFinder object will be instantiated and called as such:\n",
    "# obj = MedianFinder()\n",
    "# obj.addNum(num)\n",
    "# param_2 = obj.findMedian()\n"
   ],
   "metadata": {
    "collapsed": false,
    "pycharm": {
     "name": "#%%\n"
    }
   }
  }
 ],
 "metadata": {
  "kernelspec": {
   "display_name": "Python 3",
   "language": "python",
   "name": "python3"
  },
  "language_info": {
   "codemirror_mode": {
    "name": "ipython",
    "version": 2
   },
   "file_extension": ".py",
   "mimetype": "text/x-python",
   "name": "python",
   "nbconvert_exporter": "python",
   "pygments_lexer": "ipython2",
   "version": "2.7.6"
  }
 },
 "nbformat": 4,
 "nbformat_minor": 0
}