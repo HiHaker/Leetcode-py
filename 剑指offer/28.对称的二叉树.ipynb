{
 "cells": [
  {
   "cell_type": "markdown",
   "metadata": {
    "collapsed": true,
    "pycharm": {
     "name": "#%% md\n"
    }
   },
   "source": [
    "请实现一个函数，用来判断一棵二叉树是不是对称的。如果一棵二叉树和它的镜像一样，那么它是对称的。\n",
    "\n",
    "例如，二叉树[1,2,2,3,4,4,3] 是对称的。\n",
    "\n",
    "1\n",
    "/ \\\n",
    "2 2\n",
    "/ \\ / \\\n",
    "3 4 4 3\n",
    "但是下面这个[1,2,2,null,3,null,3] 则不是镜像对称的:\n",
    "\n",
    "1\n",
    "/ \\\n",
    "2 2\n",
    "\\  \\\n",
    " 3  3\n",
    "\n",
    "示例 1：\n",
    "\n",
    "输入：root = [1,2,2,3,4,4,3]\n",
    "输出：true\n",
    "示例 2：\n",
    "\n",
    "输入：root = [1,2,2,null,3,null,3]\n",
    "输出：false\n",
    "\n",
    "限制：\n",
    "\n",
    "0 <= 节点个数 <= 1000\n",
    "\n",
    "来源：力扣（LeetCode）\n",
    "链接：https://leetcode-cn.com/problems/dui-cheng-de-er-cha-shu-lcof\n",
    "著作权归领扣网络所有。商业转载请联系官方授权，非商业转载请注明出处。"
   ]
  },
  {
   "cell_type": "code",
   "execution_count": null,
   "outputs": [],
   "source": [
    "# Definition for a binary tree node.\n",
    "class TreeNode:\n",
    "    def __init__(self, x):\n",
    "        self.val = x\n",
    "        self.left = None\n",
    "        self.right = None\n",
    "\n",
    "class Solution:\n",
    "    def isSymmetric(self, root: TreeNode) -> bool:\n",
    "        def switch(node:TreeNode):\n",
    "            if node is None:\n",
    "                return\n",
    "\n",
    "            # 交换左右子树\n",
    "            node.left, node.right = node.right, node.left\n",
    "            switch(node.left)\n",
    "            switch(node.right)\n",
    "\n",
    "        # 二叉树的前序遍历\n",
    "        def inorder(node:TreeNode, l:list):\n",
    "            if node is None:\n",
    "                l.append(-1)\n",
    "                return\n",
    "            l.append(node.val)\n",
    "            inorder(node.left, l)\n",
    "            inorder(node.right, l)\n",
    "\n",
    "        # 检查两个列表是否相同\n",
    "        def check(l1, l2):\n",
    "            for i in range(len(l1)):\n",
    "                if l1[i] != l2[i]:\n",
    "                    return False\n",
    "\n",
    "            return True\n",
    "\n",
    "        l_a, l_b = [], []\n",
    "        inorder(root, l_a)\n",
    "        switch(root)\n",
    "        inorder(root, l_b)\n",
    "\n",
    "        return check(l_a, l_b)"
   ],
   "metadata": {
    "collapsed": false,
    "pycharm": {
     "name": "#%%\n"
    }
   }
  }
 ],
 "metadata": {
  "kernelspec": {
   "display_name": "Python 3",
   "language": "python",
   "name": "python3"
  },
  "language_info": {
   "codemirror_mode": {
    "name": "ipython",
    "version": 2
   },
   "file_extension": ".py",
   "mimetype": "text/x-python",
   "name": "python",
   "nbconvert_exporter": "python",
   "pygments_lexer": "ipython2",
   "version": "2.7.6"
  }
 },
 "nbformat": 4,
 "nbformat_minor": 0
}