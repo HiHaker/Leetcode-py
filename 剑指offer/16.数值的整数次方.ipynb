{
 "cells": [
  {
   "cell_type": "markdown",
   "metadata": {
    "collapsed": true,
    "pycharm": {
     "name": "#%% md\n"
    }
   },
   "source": [
    "实现pow(x,n)，即计算 x 的 n 次幂函数（即，xn）。不得使用库函数，同时不需要考虑大数问题。\n",
    "\n",
    "示例 1：\n",
    "\n",
    "输入：x = 2.00000, n = 10\n",
    "输出：1024.00000\n",
    "示例 2：\n",
    "\n",
    "输入：x = 2.10000, n = 3\n",
    "输出：9.26100\n",
    "示例 3：\n",
    "\n",
    "输入：x = 2.00000, n = -2\n",
    "输出：0.25000\n",
    "解释：2-2 = 1/22 = 1/4 = 0.25\n",
    "\n",
    "提示：\n",
    "\n",
    "-100.0 <x< 100.0\n",
    "-231<= n <=231-1\n",
    "-104<= xn<= 104\n",
    "\n",
    "来源：力扣（LeetCode）\n",
    "链接：https://leetcode-cn.com/problems/shu-zhi-de-zheng-shu-ci-fang-lcof\n",
    "著作权归领扣网络所有。商业转载请联系官方授权，非商业转载请注明出处。"
   ]
  },
  {
   "cell_type": "code",
   "execution_count": null,
   "outputs": [],
   "source": [
    "class Solution:\n",
    "    def myPow(self, x: float, n: int) -> float:\n",
    "        if n < 0:\n",
    "            return 1/self.myPow(x, -n)\n",
    "        if n == 0:\n",
    "            return 1\n",
    "        temp = self.myPow(x, n//2)\n",
    "        if n % 2 == 1:\n",
    "            return  temp * temp * x\n",
    "        else:\n",
    "            return temp * temp"
   ],
   "metadata": {
    "collapsed": false,
    "pycharm": {
     "name": "#%%\n"
    }
   }
  }
 ],
 "metadata": {
  "kernelspec": {
   "display_name": "Python 3",
   "language": "python",
   "name": "python3"
  },
  "language_info": {
   "codemirror_mode": {
    "name": "ipython",
    "version": 2
   },
   "file_extension": ".py",
   "mimetype": "text/x-python",
   "name": "python",
   "nbconvert_exporter": "python",
   "pygments_lexer": "ipython2",
   "version": "2.7.6"
  }
 },
 "nbformat": 4,
 "nbformat_minor": 0
}