{
 "cells": [
  {
   "cell_type": "markdown",
   "metadata": {
    "collapsed": true,
    "pycharm": {
     "name": "#%% md\n"
    }
   },
   "source": [
    "请实现两个函数，分别用来序列化和反序列化二叉树。\n",
    "\n",
    "你需要设计一个算法来实现二叉树的序列化与反序列化。这里不限定你的序列 / 反序列化算法执行逻辑，你只需要保证一个二叉树可以被序列化为一个字符串并且将这个字符串反序列化为原始的树结构。\n",
    "\n",
    "来源：力扣（LeetCode）\n",
    "链接：https://leetcode-cn.com/problems/xu-lie-hua-er-cha-shu-lcof\n",
    "著作权归领扣网络所有。商业转载请联系官方授权，非商业转载请注明出处。"
   ]
  },
  {
   "cell_type": "code",
   "execution_count": 86,
   "outputs": [],
   "source": [
    "# Definition for a binary tree node.\n",
    "class TreeNode(object):\n",
    "    def __init__(self, x):\n",
    "        self.val = x\n",
    "        self.left = None\n",
    "        self.right = None\n",
    "\n",
    "class Codec:\n",
    "\n",
    "    def serialize(self, root):\n",
    "        \"\"\"Encodes a tree to a single string.\n",
    "\n",
    "        :type root: TreeNode\n",
    "        :rtype: str\n",
    "        \"\"\"\n",
    "        # 二叉树层序遍历\n",
    "        # 创建一个结点队列\n",
    "        node_q = []\n",
    "        result_l = []\n",
    "        # 先把根节点入队\n",
    "        node_q.append(root)\n",
    "        # 遍历队列\n",
    "        while len(node_q) >= 1:\n",
    "            cur_node = node_q.pop(0)\n",
    "            if cur_node is None:\n",
    "                result_l.append('#')\n",
    "            else:\n",
    "                result_l.append(str(cur_node.val))\n",
    "                node_q.append(cur_node.left)\n",
    "                node_q.append(cur_node.right)\n",
    "\n",
    "        return ' '.join(result_l)\n",
    "\n",
    "    def deserialize(self, data):\n",
    "        \"\"\"Decodes your encoded data to tree.\n",
    "\n",
    "        :type data: str\n",
    "        :rtype: TreeNode\n",
    "        \"\"\"\n",
    "        def count_none(idx, l):\n",
    "            count = 0\n",
    "            for i in range(idx):\n",
    "                if l[i] == '#':\n",
    "                    count += 1\n",
    "            return count\n",
    "\n",
    "        # 得到序列化结果列表\n",
    "        result_l = data.split(' ')\n",
    "        def decode(idx):\n",
    "            if result_l[idx] != '#':\n",
    "                cur_node = TreeNode(int(result_l[idx]))\n",
    "                m = count_none(idx,result_l)\n",
    "                cur_node.left = decode(2*(idx-m)+1)\n",
    "                cur_node.right = decode(2*(idx-m)+2)\n",
    "            else:\n",
    "                cur_node = None\n",
    "            return cur_node\n",
    "        return decode(0)\n",
    "\n",
    "\n",
    "# Your Codec object will be instantiated and called as such:\n",
    "# codec = Codec()\n",
    "# codec.deserialize(codec.serialize(root))"
   ],
   "metadata": {
    "collapsed": false,
    "pycharm": {
     "name": "#%%\n"
    }
   }
  },
  {
   "cell_type": "code",
   "execution_count": 87,
   "outputs": [],
   "source": [
    "root = TreeNode(1)\n",
    "root.left = TreeNode(2)\n",
    "root.left.left = TreeNode(3)\n",
    "root.left.left.left = TreeNode(4)\n",
    "root.left.left.left.left = TreeNode(5)"
   ],
   "metadata": {
    "collapsed": false,
    "pycharm": {
     "name": "#%%\n"
    }
   }
  },
  {
   "cell_type": "code",
   "execution_count": 89,
   "outputs": [
    {
     "name": "stdout",
     "output_type": "stream",
     "text": [
      "[-1, 1, 2, None, 3, None, None, None, 4, None, None, None, None, None, None, None, 5]\n"
     ]
    }
   ],
   "source": [
    "codec = Codec()\n",
    "serialize_result = codec.serialize(root)\n",
    "print(serialize_result)\n",
    "deserialize_result = codec.deserialize(serialize_result)"
   ],
   "metadata": {
    "collapsed": false,
    "pycharm": {
     "name": "#%%\n"
    }
   }
  },
  {
   "cell_type": "code",
   "execution_count": 90,
   "outputs": [
    {
     "name": "stdout",
     "output_type": "stream",
     "text": [
      "<__main__.TreeNode object at 0x0000024BB66A30A0>\n"
     ]
    }
   ],
   "source": [
    "print(deserialize_result)"
   ],
   "metadata": {
    "collapsed": false,
    "pycharm": {
     "name": "#%%\n"
    }
   }
  },
  {
   "cell_type": "code",
   "execution_count": null,
   "outputs": [],
   "source": [],
   "metadata": {
    "collapsed": false,
    "pycharm": {
     "name": "#%%\n"
    }
   }
  }
 ],
 "metadata": {
  "kernelspec": {
   "display_name": "Python 3",
   "language": "python",
   "name": "python3"
  },
  "language_info": {
   "codemirror_mode": {
    "name": "ipython",
    "version": 2
   },
   "file_extension": ".py",
   "mimetype": "text/x-python",
   "name": "python",
   "nbconvert_exporter": "python",
   "pygments_lexer": "ipython2",
   "version": "2.7.6"
  }
 },
 "nbformat": 4,
 "nbformat_minor": 0
}