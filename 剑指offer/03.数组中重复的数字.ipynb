{
 "cells": [
  {
   "cell_type": "markdown",
   "metadata": {
    "collapsed": true,
    "pycharm": {
     "name": "#%% md\n"
    }
   },
   "source": [
    "找出数组中重复的数字。\n",
    "\n",
    "在一个长度为 n 的数组 nums 里的所有数字都在 0～n-1 的范围内。数组中某些数字是重复的，但不知道有几个数字重复了，也不知道每个数字重复了几次。请找出数组中任意一个重复的数字。\n",
    "\n",
    "示例 1：\n",
    "输入：\n",
    "[2, 3, 1, 0, 2, 5, 3]\n",
    "输出：2 或 3\n",
    "\n",
    "来源：力扣（LeetCode）\n",
    "链接：https://leetcode-cn.com/problems/shu-zu-zhong-zhong-fu-de-shu-zi-lcof\n",
    "著作权归领扣网络所有。商业转载请联系官方授权，非商业转载请注明出处。"
   ]
  },
  {
   "cell_type": "code",
   "execution_count": 1,
   "outputs": [],
   "source": [
    "class Solution:\n",
    "    def findRepeatNumber(self, nums: list[int]) -> int:\n",
    "\n",
    "        # num_dict = {}\n",
    "        # for num in nums:\n",
    "        #     # 知识点：python判断某个键是否在字典中\n",
    "        #     if num in num_dict.keys():\n",
    "        #         return num\n",
    "        #     else:\n",
    "        #         num_dict[num] = 1\n",
    "\n",
    "        # 方法2,原地交换\n",
    "        # 题目里nums数字都在0~n-1的范围，所以nums里的数字可以当作索引\n",
    "        # 怎么找到重复数字呢？\n",
    "        # 我们把nums数组的索引和值对应起来.\n",
    "        # 比如索引0对应的值是nums[0]，如果nums[0]不等于0，我们就交换nums[nums[0]]和nums[0]\n",
    "        # 这样，nums[nums[0]]=nums[0]\n",
    "        # 如果nums[0]已经等于0，就跳过；如果交换前发现对应的nums[nums[0]]已经等于nums[0]，说明之前已经有了一个相同的数字\n",
    "        # 这个算法的优点是空间只使用了一个额外的空间用于交换两个数\n",
    "        i = 0\n",
    "        while i < len(nums):\n",
    "            if nums[i] == i:\n",
    "                i += 1\n",
    "                continue\n",
    "            if nums[nums[i]] == nums[i]:\n",
    "                return nums[i]\n",
    "            # 交换nums[nums[i]]和nums[i]\n",
    "            # a,b = c,d的原理是先暂存c,d再按照左右顺序赋值给a,b\n",
    "            nums[nums[i]], nums[i] = nums[i], nums[nums[i]]"
   ],
   "metadata": {
    "collapsed": false,
    "pycharm": {
     "name": "#%%\n"
    }
   }
  },
  {
   "cell_type": "code",
   "execution_count": 2,
   "outputs": [
    {
     "name": "stdout",
     "output_type": "stream",
     "text": [
      "2\n"
     ]
    }
   ],
   "source": [
    "s = Solution()\n",
    "test_l = [2, 3, 1, 0, 2, 5, 3]\n",
    "print(s.findRepeatNumber(test_l))"
   ],
   "metadata": {
    "collapsed": false,
    "pycharm": {
     "name": "#%%\n"
    }
   }
  },
  {
   "cell_type": "code",
   "execution_count": null,
   "outputs": [],
   "source": [],
   "metadata": {
    "collapsed": false,
    "pycharm": {
     "name": "#%%\n"
    }
   }
  }
 ],
 "metadata": {
  "kernelspec": {
   "display_name": "Python 3",
   "language": "python",
   "name": "python3"
  },
  "language_info": {
   "codemirror_mode": {
    "name": "ipython",
    "version": 2
   },
   "file_extension": ".py",
   "mimetype": "text/x-python",
   "name": "python",
   "nbconvert_exporter": "python",
   "pygments_lexer": "ipython2",
   "version": "2.7.6"
  }
 },
 "nbformat": 4,
 "nbformat_minor": 0
}