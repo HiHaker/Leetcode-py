{
 "cells": [
  {
   "cell_type": "markdown",
   "metadata": {
    "collapsed": true,
    "pycharm": {
     "name": "#%% md\n"
    }
   },
   "source": [
    "给你一根长度为 n 的绳子，请把绳子剪成整数长度的 m 段（m、n都是整数，n>1并且m>1），每段绳子的长度记为 k[0],k[1]...k[m-1] 。请问 k[0]*k[1]*...*k[m-1] 可能的最大乘积是多少？例如，当绳子的长度是8时，我们把它剪成长度分别为2、3、3的三段，此时得到的最大乘积是18。\n",
    "\n",
    "示例 1：\n",
    "\n",
    "输入: 2\n",
    "输出: 1\n",
    "解释: 2 = 1 + 1, 1 × 1 = 1\n",
    "示例 2:\n",
    "\n",
    "输入: 10\n",
    "输出: 36\n",
    "解释: 10 = 3 + 3 + 4, 3 × 3 × 4 = 36\n",
    "提示：\n",
    "\n",
    "2 <= n <= 58\n",
    "\n",
    "来源：力扣（LeetCode）\n",
    "链接：https://leetcode-cn.com/problems/jian-sheng-zi-lcof\n",
    "著作权归领扣网络所有。商业转载请联系官方授权，非商业转载请注明出处。"
   ]
  },
  {
   "cell_type": "code",
   "execution_count": null,
   "outputs": [],
   "source": [
    "class Solution:\n",
    "    def cuttingRope(self, n: int) -> int:\n",
    "        if n <= 3:\n",
    "            return n-1\n",
    "        # a表示n中包含有几个a，b表示最后剩下的长度\n",
    "        a, b = n//3, n%3\n",
    "        if b == 0:\n",
    "            return 3**a\n",
    "        # 最后如果剩下1，就把一个3拆出来组合成2,2\n",
    "        if b == 1:\n",
    "            return 4 * 3**(a-1)\n",
    "        return 3**a * b"
   ],
   "metadata": {
    "collapsed": false,
    "pycharm": {
     "name": "#%%\n"
    }
   }
  }
 ],
 "metadata": {
  "kernelspec": {
   "display_name": "Python 3",
   "language": "python",
   "name": "python3"
  },
  "language_info": {
   "codemirror_mode": {
    "name": "ipython",
    "version": 2
   },
   "file_extension": ".py",
   "mimetype": "text/x-python",
   "name": "python",
   "nbconvert_exporter": "python",
   "pygments_lexer": "ipython2",
   "version": "2.7.6"
  }
 },
 "nbformat": 4,
 "nbformat_minor": 0
}