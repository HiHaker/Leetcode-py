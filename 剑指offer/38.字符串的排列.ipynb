{
 "cells": [
  {
   "cell_type": "markdown",
   "metadata": {
    "collapsed": true,
    "pycharm": {
     "name": "#%% md\n"
    }
   },
   "source": [
    "输入一个字符串，打印出该字符串中字符的所有排列。\n",
    "\n",
    "你可以以任意顺序返回这个字符串数组，但里面不能有重复元素。\n",
    "\n",
    "示例:\n",
    "\n",
    "输入：s = \"abc\"\n",
    "输出：[\"abc\",\"acb\",\"bac\",\"bca\",\"cab\",\"cba\"]\n",
    "\n",
    "限制：\n",
    "\n",
    "1 <= s 的长度 <= 8\n",
    "\n",
    "来源：力扣（LeetCode）\n",
    "链接：https://leetcode.cn/problems/zi-fu-chuan-de-pai-lie-lcof\n",
    "著作权归领扣网络所有。商业转载请联系官方授权，非商业转载请注明出处。"
   ]
  },
  {
   "cell_type": "code",
   "execution_count": null,
   "outputs": [],
   "source": [
    "class Solution:\n",
    "    def permutation(self, s: str) -> List[str]:\n",
    "        def find_arrange(s: str) -> List[str]:\n",
    "            # 递归出口，如果字符串长度为1，它的排列就是它本身，那么直接返回\n",
    "            if len(s) == 1:\n",
    "                return [s]\n",
    "\n",
    "            # 取出首字母\n",
    "            first_c = s[0]\n",
    "            result = find_arrange(s[1:])\n",
    "\n",
    "            # 返回结果\n",
    "            ret = set([])\n",
    "            for sub_result in result:\n",
    "                for i in range(len(sub_result)+1):\n",
    "                    ret.add(sub_result[:i]+first_c+sub_result[i:])\n",
    "\n",
    "            return ret\n",
    "\n",
    "        if len(s) == 0:\n",
    "            return [\"\"]\n",
    "\n",
    "        return list(find_arrange(s))"
   ],
   "metadata": {
    "collapsed": false,
    "pycharm": {
     "name": "#%%\n"
    }
   }
  }
 ],
 "metadata": {
  "kernelspec": {
   "display_name": "Python 3",
   "language": "python",
   "name": "python3"
  },
  "language_info": {
   "codemirror_mode": {
    "name": "ipython",
    "version": 2
   },
   "file_extension": ".py",
   "mimetype": "text/x-python",
   "name": "python",
   "nbconvert_exporter": "python",
   "pygments_lexer": "ipython2",
   "version": "2.7.6"
  }
 },
 "nbformat": 4,
 "nbformat_minor": 0
}