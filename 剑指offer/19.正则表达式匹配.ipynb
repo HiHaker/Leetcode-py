{
 "cells": [
  {
   "cell_type": "markdown",
   "metadata": {
    "collapsed": true,
    "pycharm": {
     "name": "#%% md\n"
    }
   },
   "source": [
    "请实现一个函数用来匹配包含'. '和'*'的正则表达式。模式中的字符'.'表示任意一个字符，而'*'表示它前面的字符可以出现任意次（含0次）。在本题中，匹配是指字符串的所有字符匹配整个模式。例如，字符串\"aaa\"与模式\"a.a\"和\"ab*ac*a\"匹配，但与\"aa.a\"和\"ab*a\"均不匹配。\n",
    "\n",
    "示例 1:\n",
    "\n",
    "输入:\n",
    "s = \"aa\"\n",
    "p = \"a\"\n",
    "输出: false\n",
    "解释: \"a\" 无法匹配 \"aa\" 整个字符串。\n",
    "示例 2:\n",
    "\n",
    "输入:\n",
    "s = \"aa\"\n",
    "p = \"a*\"\n",
    "输出: true\n",
    "解释:因为 '*' 代表可以匹配零个或多个前面的那一个元素, 在这里前面的元素就是 'a'。因此，字符串 \"aa\" 可被视为 'a' 重复了一次。\n",
    "示例3:\n",
    "\n",
    "输入:\n",
    "s = \"ab\"\n",
    "p = \".*\"\n",
    "输出: true\n",
    "解释:\".*\" 表示可匹配零个或多个（'*'）任意字符（'.'）。\n",
    "示例 4:\n",
    "\n",
    "输入:\n",
    "s = \"aab\"\n",
    "p = \"c*a*b\"\n",
    "输出: true\n",
    "解释:因为 '*' 表示零个或多个，这里 'c' 为 0 个, 'a' 被重复一次。因此可以匹配字符串 \"aab\"。\n",
    "示例 5:\n",
    "\n",
    "输入:\n",
    "s = \"mississippi\"\n",
    "p = \"mis*is*p*.\"\n",
    "输出: false\n",
    "s可能为空，且只包含从a-z的小写字母。\n",
    "p可能为空，且只包含从a-z的小写字母以及字符.和*，无连续的 '*'。\n",
    "\n",
    "来源：力扣（LeetCode）\n",
    "链接：https://leetcode-cn.com/problems/zheng-ze-biao-da-shi-pi-pei-lcof\n",
    "著作权归领扣网络所有。商业转载请联系官方授权，非商业转载请注明出处。"
   ]
  },
  {
   "cell_type": "code",
   "execution_count": null,
   "outputs": [],
   "source": [
    "class Solution:\n",
    "    def isMatch(self, s: str, p: str) -> bool:\n",
    "        if len(s) == 0:\n",
    "            if len(p) == 0:\n",
    "                return True\n",
    "            return False\n",
    "\n",
    "        # 定义两个指针指向s以及p\n",
    "        idx_p = 0\n",
    "        idx_s = 0\n",
    "        c = ''\n",
    "\n",
    "        # 遍历p，检查三种情况，当前字符是.还是*还是一般字符\n",
    "        while idx_p < len(p):\n",
    "            # .匹配任意字符，指针都右移\n",
    "            if p[idx_p] == '.':\n",
    "                idx_s += 1\n",
    "                idx_p += 1\n",
    "            # 表示前面匹配过的字符可以出现任意次\n",
    "            elif p[idx_p] == '*':\n",
    "                while idx_s < len(s) and s[idx_s] == c:\n",
    "                    idx_s += 1\n",
    "                idx_p += 1\n",
    "            else:\n",
    "                # 判断字符是否对应\n",
    "                if p[idx_p] != s[idx_s]:\n",
    "                    # 如果不对应但有*，表示是字符出现零次的情况\n",
    "                    if idx_p+1 < len(p) and p[idx_p+1] == '*':\n",
    "                        idx_p += 2\n",
    "                    else:\n",
    "                        return False\n",
    "                else:\n",
    "                    c = s[idx_s]\n",
    "                    idx_s += 1\n",
    "                    idx_p += 1\n",
    "\n",
    "        if idx_p == len(p) and idx_s == len(s):\n",
    "            return True\n",
    "        else:\n",
    "            return False\n",
    "\n"
   ],
   "metadata": {
    "collapsed": false,
    "pycharm": {
     "name": "#%%\n"
    }
   }
  }
 ],
 "metadata": {
  "kernelspec": {
   "display_name": "Python 3",
   "language": "python",
   "name": "python3"
  },
  "language_info": {
   "codemirror_mode": {
    "name": "ipython",
    "version": 2
   },
   "file_extension": ".py",
   "mimetype": "text/x-python",
   "name": "python",
   "nbconvert_exporter": "python",
   "pygments_lexer": "ipython2",
   "version": "2.7.6"
  }
 },
 "nbformat": 4,
 "nbformat_minor": 0
}