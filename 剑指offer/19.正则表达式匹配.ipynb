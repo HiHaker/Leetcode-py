{
 "cells": [
  {
   "cell_type": "markdown",
   "metadata": {
    "collapsed": true,
    "pycharm": {
     "name": "#%% md\n"
    }
   },
   "source": [
    "请实现一个函数用来匹配包含'. '和'*'的正则表达式。模式中的字符'.'表示任意一个字符，而'*'表示它前面的字符可以出现任意次（含0次）。在本题中，匹配是指字符串的所有字符匹配整个模式。例如，字符串\"aaa\"与模式\"a.a\"和\"ab*ac*a\"匹配，但与\"aa.a\"和\"ab*a\"均不匹配。\n",
    "\n",
    "示例 1:\n",
    "\n",
    "输入:\n",
    "s = \"aa\"\n",
    "p = \"a\"\n",
    "输出: false\n",
    "解释: \"a\" 无法匹配 \"aa\" 整个字符串。\n",
    "示例 2:\n",
    "\n",
    "输入:\n",
    "s = \"aa\"\n",
    "p = \"a*\"\n",
    "输出: true\n",
    "解释:因为 '*' 代表可以匹配零个或多个前面的那一个元素, 在这里前面的元素就是 'a'。因此，字符串 \"aa\" 可被视为 'a' 重复了一次。\n",
    "示例3:\n",
    "\n",
    "输入:\n",
    "s = \"ab\"\n",
    "p = \".*\"\n",
    "输出: true\n",
    "解释:\".*\" 表示可匹配零个或多个（'*'）任意字符（'.'）。\n",
    "示例 4:\n",
    "\n",
    "输入:\n",
    "s = \"aab\"\n",
    "p = \"c*a*b\"\n",
    "输出: true\n",
    "解释:因为 '*' 表示零个或多个，这里 'c' 为 0 个, 'a' 被重复一次。因此可以匹配字符串 \"aab\"。\n",
    "示例 5:\n",
    "\n",
    "输入:\n",
    "s = \"mississippi\"\n",
    "p = \"mis*is*p*.\"\n",
    "输出: false\n",
    "s可能为空，且只包含从a-z的小写字母。\n",
    "p可能为空，且只包含从a-z的小写字母以及字符.和*，无连续的 '*'。\n",
    "\n",
    "来源：力扣（LeetCode）\n",
    "链接：https://leetcode-cn.com/problems/zheng-ze-biao-da-shi-pi-pei-lcof\n",
    "著作权归领扣网络所有。商业转载请联系官方授权，非商业转载请注明出处。"
   ]
  },
  {
   "cell_type": "code",
   "execution_count": 5,
   "outputs": [],
   "source": [
    "class Solution:\n",
    "    def isMatch(self, s: str, p: str) -> bool:\n",
    "        # 判断字符是否匹配\n",
    "        # 只有当字符相等或者模式为.时才匹配成功\n",
    "        def match(i, j):\n",
    "            if i < 0:\n",
    "                return False\n",
    "            if s[i] == p[j] or p[j] == '.':\n",
    "                return True\n",
    "            return False\n",
    "\n",
    "        m, n = len(s), len(p)\n",
    "        # 初始化状态转移矩阵\n",
    "        f = [[False]*(n+1) for _ in range(m+1)]\n",
    "        f[0][0] = True\n",
    "        # 根据状态转移矩阵\n",
    "        for i in range(m+1):\n",
    "            for j in range(1,n+1):\n",
    "                if p[j-1] == '*':\n",
    "                    if match(i-1, j-2):\n",
    "                        f[i][j] = f[i-1][j] or f[i][j-2]\n",
    "                    else:\n",
    "                        f[i][j] = f[i][j-2]\n",
    "                else:\n",
    "                    if match(i-1, j-1):\n",
    "                        f[i][j] = f[i-1][j-1]\n",
    "\n",
    "        print(f)\n",
    "\n",
    "        return f[m][n]"
   ],
   "metadata": {
    "collapsed": false,
    "pycharm": {
     "name": "#%%\n"
    }
   }
  },
  {
   "cell_type": "code",
   "execution_count": 6,
   "outputs": [
    {
     "name": "stdout",
     "output_type": "stream",
     "text": [
      "[[True, False, True]]\n"
     ]
    },
    {
     "data": {
      "text/plain": "True"
     },
     "execution_count": 6,
     "metadata": {},
     "output_type": "execute_result"
    }
   ],
   "source": [
    "so = Solution()\n",
    "s = ''\n",
    "p = '.*'\n",
    "so.isMatch(s,p)"
   ],
   "metadata": {
    "collapsed": false,
    "pycharm": {
     "name": "#%%\n"
    }
   }
  },
  {
   "cell_type": "code",
   "execution_count": 7,
   "outputs": [],
   "source": [],
   "metadata": {
    "collapsed": false,
    "pycharm": {
     "name": "#%%\n"
    }
   }
  },
  {
   "cell_type": "code",
   "execution_count": null,
   "outputs": [],
   "source": [],
   "metadata": {
    "collapsed": false,
    "pycharm": {
     "name": "#%%\n"
    }
   }
  }
 ],
 "metadata": {
  "kernelspec": {
   "display_name": "Python 3",
   "language": "python",
   "name": "python3"
  },
  "language_info": {
   "codemirror_mode": {
    "name": "ipython",
    "version": 2
   },
   "file_extension": ".py",
   "mimetype": "text/x-python",
   "name": "python",
   "nbconvert_exporter": "python",
   "pygments_lexer": "ipython2",
   "version": "2.7.6"
  }
 },
 "nbformat": 4,
 "nbformat_minor": 0
}