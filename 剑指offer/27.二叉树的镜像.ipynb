{
 "cells": [
  {
   "cell_type": "markdown",
   "metadata": {
    "collapsed": true,
    "pycharm": {
     "name": "#%% md\n"
    }
   },
   "source": [
    "请完成一个函数，输入一个二叉树，该函数输出它的镜像。\n",
    "\n",
    "例如输入：\n",
    "\n",
    "4\n",
    "/ \\\n",
    "2 7\n",
    "/ \\ / \\\n",
    "1 3 6 9\n",
    "镜像输出：\n",
    "\n",
    "4\n",
    "/ \\\n",
    "7 2\n",
    "/ \\ / \\\n",
    "9 6 3 1\n",
    "\n",
    "\n",
    "示例 1：\n",
    "\n",
    "输入：root = [4,2,7,1,3,6,9]\n",
    "输出：[4,7,2,9,6,3,1]\n",
    "\n",
    "限制：\n",
    "\n",
    "0 <= 节点个数 <= 1000\n",
    "\n",
    "来源：力扣（LeetCode）\n",
    "链接：https://leetcode-cn.com/problems/er-cha-shu-de-jing-xiang-lcof\n",
    "著作权归领扣网络所有。商业转载请联系官方授权，非商业转载请注明出处。"
   ]
  },
  {
   "cell_type": "code",
   "execution_count": null,
   "outputs": [],
   "source": [
    "# Definition for a binary tree node.\n",
    "class TreeNode:\n",
    "    def __init__(self, x):\n",
    "        self.val = x\n",
    "        self.left = None\n",
    "        self.right = None\n",
    "\n",
    "class Solution:\n",
    "    def mirrorTree(self, root: TreeNode) -> TreeNode:\n",
    "        def switch(node:TreeNode):\n",
    "            if node is None:\n",
    "                return\n",
    "\n",
    "            # 交换左右子树\n",
    "            node.left, node.right = node.right, node.left\n",
    "            switch(node.left)\n",
    "            switch(node.right)\n",
    "        switch(root)\n",
    "        return root"
   ],
   "metadata": {
    "collapsed": false,
    "pycharm": {
     "name": "#%%\n"
    }
   }
  }
 ],
 "metadata": {
  "kernelspec": {
   "display_name": "Python 3",
   "language": "python",
   "name": "python3"
  },
  "language_info": {
   "codemirror_mode": {
    "name": "ipython",
    "version": 2
   },
   "file_extension": ".py",
   "mimetype": "text/x-python",
   "name": "python",
   "nbconvert_exporter": "python",
   "pygments_lexer": "ipython2",
   "version": "2.7.6"
  }
 },
 "nbformat": 4,
 "nbformat_minor": 0
}