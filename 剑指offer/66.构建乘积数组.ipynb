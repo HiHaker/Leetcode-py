{
 "cells": [
  {
   "cell_type": "markdown",
   "metadata": {
    "collapsed": true,
    "pycharm": {
     "name": "#%% md\n"
    }
   },
   "source": [
    "给定一个数组 A[0,1,…,n-1]，请构建一个数组 B[0,1,…,n-1]，其中B[i] 的值是数组 A 中除了下标 i 以外的元素的积, 即B[i]=A[0]×A[1]×…×A[i-1]×A[i+1]×…×A[n-1]。不能使用除法。\n",
    "\n",
    "示例:\n",
    "\n",
    "输入: [1,2,3,4,5]\n",
    "输出: [120,60,40,30,24]\n",
    "\n",
    "提示：\n",
    "\n",
    "所有元素乘积之和不会溢出 32 位整数\n",
    "a.length <= 100000\n",
    "\n",
    "来源：力扣（LeetCode）\n",
    "链接：https://leetcode.cn/problems/gou-jian-cheng-ji-shu-zu-lcof\n",
    "著作权归领扣网络所有。商业转载请联系官方授权，非商业转载请注明出处。"
   ]
  },
  {
   "cell_type": "code",
   "execution_count": null,
   "outputs": [],
   "source": [
    "class Solution:\n",
    "    def constructArr(self, a: List[int]) -> List[int]:\n",
    "        # 分别计算上下三角\n",
    "        # 首先计算上三角\n",
    "        cur_val = 1\n",
    "        ret = [1] * len(a)\n",
    "        for i in range(1, len(a)):\n",
    "            cur_val *= a[i-1]\n",
    "            ret[i] = cur_val\n",
    "\n",
    "        # 计算下三角\n",
    "        cur_val = 1\n",
    "        for j in range(len(a)-2, -1, -1):\n",
    "            cur_val *= a[j+1]\n",
    "            ret[j] *= cur_val\n",
    "\n",
    "        return ret"
   ],
   "metadata": {
    "collapsed": false,
    "pycharm": {
     "name": "#%%\n"
    }
   }
  }
 ],
 "metadata": {
  "kernelspec": {
   "display_name": "Python 3",
   "language": "python",
   "name": "python3"
  },
  "language_info": {
   "codemirror_mode": {
    "name": "ipython",
    "version": 2
   },
   "file_extension": ".py",
   "mimetype": "text/x-python",
   "name": "python",
   "nbconvert_exporter": "python",
   "pygments_lexer": "ipython2",
   "version": "2.7.6"
  }
 },
 "nbformat": 4,
 "nbformat_minor": 0
}