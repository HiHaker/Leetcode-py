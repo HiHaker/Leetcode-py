{
 "cells": [
  {
   "cell_type": "markdown",
   "metadata": {
    "collapsed": true,
    "pycharm": {
     "name": "#%% md\n"
    }
   },
   "source": [
    "输入整数数组 arr ，找出其中最小的 k 个数。例如，输入4、5、1、6、2、7、3、8这8个数字，则最小的4个数字是1、2、3、4。\n",
    "\n",
    "示例 1：\n",
    "\n",
    "输入：arr = [3,2,1], k = 2\n",
    "输出：[1,2] 或者 [2,1]\n",
    "示例 2：\n",
    "\n",
    "输入：arr = [0,1,2,1], k = 1\n",
    "输出：[0]\n",
    "\n",
    "限制：\n",
    "\n",
    "0 <= k <= arr.length <= 10000\n",
    "0 <= arr[i]<= 10000\n",
    "\n",
    "来源：力扣（LeetCode）\n",
    "链接：https://leetcode.cn/problems/zui-xiao-de-kge-shu-lcof\n",
    "著作权归领扣网络所有。商业转载请联系官方授权，非商业转载请注明出处。"
   ]
  },
  {
   "cell_type": "code",
   "execution_count": null,
   "outputs": [],
   "source": [
    "class Solution:\n",
    "    def getLeastNumbers(self, arr: List[int], k: int) -> List[int]:\n",
    "        arr = sorted(arr)\n",
    "        return arr[:k]\n"
   ],
   "metadata": {
    "collapsed": false,
    "pycharm": {
     "name": "#%%\n"
    }
   }
  }
 ],
 "metadata": {
  "kernelspec": {
   "display_name": "Python 3",
   "language": "python",
   "name": "python3"
  },
  "language_info": {
   "codemirror_mode": {
    "name": "ipython",
    "version": 2
   },
   "file_extension": ".py",
   "mimetype": "text/x-python",
   "name": "python",
   "nbconvert_exporter": "python",
   "pygments_lexer": "ipython2",
   "version": "2.7.6"
  }
 },
 "nbformat": 4,
 "nbformat_minor": 0
}